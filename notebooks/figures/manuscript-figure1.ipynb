{
 "cells": [
  {
   "cell_type": "code",
   "execution_count": 1,
   "metadata": {},
   "outputs": [
    {
     "name": "stderr",
     "output_type": "stream",
     "text": [
      "/home/charles_murphy/anaconda3/envs/dynalearn_env/lib/python3.7/site-packages/numba/decorators.py:146: RuntimeWarning: Caching is not available when the 'parallel' target is in use. Caching is now being disabled to allow execution to continue.\n",
      "  warnings.warn(msg, RuntimeWarning)\n",
      "/home/charles_murphy/anaconda3/envs/dynalearn_env/lib/python3.7/_collections_abc.py:841: MatplotlibDeprecationWarning: Support for setting the 'text.latex.preamble' or 'pgf.preamble' rcParam to a list of strings is deprecated since 3.3 and will be removed two minor releases later; set it to a single string instead.\n",
      "  self[key] = other[key]\n"
     ]
    }
   ],
   "source": [
    "from itertools import product\n",
    "from display import *\n",
    "from util import load_experiments\n",
    "\n",
    "save_svg, save_png, save_pdf = False, False, False"
   ]
  },
  {
   "cell_type": "markdown",
   "metadata": {},
   "source": [
    "## Loading data"
   ]
  },
  {
   "cell_type": "code",
   "execution_count": 2,
   "metadata": {},
   "outputs": [
    {
     "name": "stdout",
     "output_type": "stream",
     "text": [
      "Did not find file `exp-sis-ba.zip`, kept proceding.\n",
      "Did not find file `exp-plancksis-ba.zip`, kept proceding.\n"
     ]
    }
   ],
   "source": [
    "dynamics = [\"sis\", \"plancksis\"]\n",
    "networks = \"ba\"\n",
    "\n",
    "path = \"../../data/case-study/summaries\"\n",
    "exp_names = {d: f\"exp-{d}-{networks}\" for d in dynamics}\n",
    "exp = load_experiments(path, exp_names)"
   ]
  },
  {
   "cell_type": "code",
   "execution_count": 3,
   "metadata": {},
   "outputs": [],
   "source": [
    "from dynalearn.experiments.metrics import LTPMetrics\n",
    "\n",
    "transitions = [(0, 1), (1, 0)]\n",
    "colors = {\n",
    "    \"true\": [color_pale[\"blue\"], color_pale[\"red\"]],\n",
    "    \"gnn\": [color_dark[\"blue\"], color_dark[\"red\"]],\n",
    "    \"mle\": [color_dark[\"blue\"], color_dark[\"red\"]],\n",
    "}\n",
    "linestyles = {\n",
    "    \"true\": [\"-\", \"-\"],\n",
    "    \"gnn\": [\"--\", \"--\"],\n",
    "    \"mle\": [\"None\", \"None\"],\n",
    "}\n",
    "markers = {\n",
    "    \"true\": [\"None\", \"None\"],\n",
    "    \"gnn\": [\"None\", \"None\"],\n",
    "    \"mle\": [\"o\", \"^\"],\n",
    "}\n",
    "\n",
    "\n",
    "def ltp_plot(experiment, ax):\n",
    "    summary = experiment.metrics[\"TrueLTPMetrics\"].data[\"summaries\"]\n",
    "    true_ltp = experiment.metrics[\"TrueLTPMetrics\"].data[\"ltp\"]\n",
    "    gnn_ltp = experiment.metrics[\"GNNLTPMetrics\"].data[\"ltp\"]\n",
    "    mle_ltp = experiment.metrics[\"MLELTPMetrics\"].data[\"ltp\"]\n",
    "    agg = lambda ltp, in_s, out_s: LTPMetrics.aggregate(\n",
    "            ltp, summary, \n",
    "            in_state=in_s, \n",
    "            out_state=out_s,\n",
    "            axis=1, \n",
    "            reduce=\"mean\", \n",
    "            err_reduce=\"percentile\"\n",
    "        )\n",
    "    x_min, x_max = -np.inf, np.inf\n",
    "    for i, (in_s, out_s) in enumerate(transitions):\n",
    "        x, y, yl, yh = agg(true_ltp, in_s, out_s)\n",
    "        ax.plot(\n",
    "            x, y, color=colors[\"true\"][i], linestyle=linestyles[\"true\"][i],marker=markers[\"true\"][i],linewidth=3\n",
    "        )\n",
    "        ax.fill_between(x, yl, yh, color=colors[\"true\"][i], alpha=0.3)\n",
    "        \n",
    "        x, y, yl, yh = agg(gnn_ltp, in_s, out_s)\n",
    "        ax.plot(\n",
    "            x, y, color=colors[\"gnn\"][i], linestyle=linestyles[\"gnn\"][i],marker=markers[\"gnn\"][i],linewidth=3\n",
    "        )\n",
    "        ax.fill_between(x, yl, yh, color=colors[\"gnn\"][i], alpha=0.3)\n",
    "        \n",
    "        x, y, yl, yh = agg(mle_ltp, in_s, out_s)\n",
    "        yerr = np.concatenate([np.expand_dims(y-yl,0), np.expand_dims(yh-y,0)], axis=0)\n",
    "        ax.errorbar(\n",
    "            x, \n",
    "            y, \n",
    "            yerr=yerr,\n",
    "            color=colors[\"mle\"][i], \n",
    "            linestyle=linestyles[\"mle\"][i], \n",
    "            marker=markers[\"mle\"][i], \n",
    "            alpha=0.3\n",
    "        )\n",
    "#         ax.plot(\n",
    "#             x, y, color=colors[\"mle\"][i], linestyle=linestyles[\"mle\"][i], marker=markers[\"mle\"][i], alpha=0.5\n",
    "#         )\n",
    "#         ax.fill_between(x, yl, yh, color=colors[\"mle\"][i], alpha=0.3)\n",
    "        \n",
    "        if x.min() > x_min:\n",
    "            x_min = x.min()\n",
    "        if x.max() < x_max:\n",
    "            x_max = x.max()\n",
    "    ax.set_xlim([x_min, x_max])\n",
    "    ax.set_ylim([0, 1.1])\n",
    "    return ax"
   ]
  },
  {
   "cell_type": "markdown",
   "metadata": {},
   "source": [
    "## Making the plot"
   ]
  },
  {
   "cell_type": "code",
   "execution_count": null,
   "metadata": {},
   "outputs": [],
   "source": [
    "fig, ax = plt.subplots(1, 2, figsize=(8, 4), sharey=True)\n",
    "\n",
    "\n",
    "for i, d in enumerate([\"sis\", \"plancksis\"]):\n",
    "    ltp_plot(exp[d], ax[i])\n",
    "    ax[i].tick_params(axis='both', which='major', labelsize=small_fontsize)\n",
    "    ax[i].tick_params(axis='both', which='minor', labelsize=small_fontsize)\n",
    "\n",
    "ax[0].set_xlabel(r\"Number of infected neighbors $[\\ell]$\", fontsize=large_fontsize)\n",
    "ax[1].set_xlabel(r\"Number of infected neighbors $[\\ell]$\", fontsize=large_fontsize)\n",
    "ax[0].set_ylabel(r\"Transition probability\", fontsize=18)\n",
    "# ax[1].set_ylabel(r\"Transition probability\", fontsize=18)\n",
    "\n",
    "handles = []\n",
    "\n",
    "handles.append(Line2D([-1], [-1], linestyle=\"-\", marker=\"None\", linewidth=3,\n",
    "                     color=color_pale[\"grey\"], \n",
    "                     label=r\"True\")\n",
    "             )\n",
    "handles.append(Line2D([-1], [-1], linestyle=\"--\", marker=\"None\", linewidth=3,\n",
    "                     color=color_dark[\"grey\"], \n",
    "                     label=r\"GNN\")\n",
    "             )\n",
    "handles.append((Line2D([-1], [-1], linestyle=\"None\", marker=\"o\", markersize=5, markeredgewidth=1,\n",
    "                      markeredgecolor='k', color=color_dark[\"grey\"], alpha=0.3),\n",
    "                Line2D([-1], [-1], linestyle=\"None\", marker=\"^\", markersize=5, markeredgewidth=1,\n",
    "                      markeredgecolor='k', color=color_dark[\"grey\"], alpha=0.3))\n",
    "             )\n",
    "handles.append(Line2D([-1], [-1], linestyle=\"None\", marker=\"s\", markersize=12,\n",
    "                     color=color_pale[\"blue\"])\n",
    "             )\n",
    "handles.append(Line2D([-1], [-1], linestyle=\"None\", marker=\"s\", markersize=12,\n",
    "                     color=color_pale[\"red\"])\n",
    "             )\n",
    "ax[1].legend(handles=handles, \n",
    "             labels=[r\"GT\", r\"GNN\", r\"MLE\", \"Infection\", \"Recovery\"],\n",
    "             handler_map={tuple: HandlerTuple(ndivide=None)},\n",
    "             loc=\"upper right\", fancybox=True, fontsize=14, framealpha=0.75, ncol=1\n",
    ")\n",
    "label_plot(ax[0], r\"\\textbf{(a)}\", loc=\"upper left\")\n",
    "label_plot(ax[1], r\"\\textbf{(b)}\", loc=\"upper left\")\n",
    "ax[0].set_title(r\"\\textbf{Simple}\", fontsize=large_fontsize)\n",
    "ax[1].set_title(r\"\\textbf{Complex}\", fontsize=large_fontsize)\n",
    "\n",
    "plt.tight_layout(0.)\n",
    "\n",
    "figname = \"manuscript-figure1\"\n",
    "if save_png:\n",
    "    fig.savefig(os.path.join(\"png\", f\"{figname}.png\"))\n",
    "if save_pdf:\n",
    "    fig.savefig(os.path.join(\"pdf\", f\"{figname}.pdf\"))\n",
    "if save_svg:\n",
    "    fig.savefig(os.path.join(\"svg\", f\"{figname}.svg\"))"
   ]
  }
 ],
 "metadata": {
  "kernelspec": {
   "display_name": "dynalearn_env",
   "language": "python",
   "name": "dynalearn_env"
  },
  "language_info": {
   "codemirror_mode": {
    "name": "ipython",
    "version": 3
   },
   "file_extension": ".py",
   "mimetype": "text/x-python",
   "name": "python",
   "nbconvert_exporter": "python",
   "pygments_lexer": "ipython3",
   "version": "3.7.9"
  }
 },
 "nbformat": 4,
 "nbformat_minor": 2
}
