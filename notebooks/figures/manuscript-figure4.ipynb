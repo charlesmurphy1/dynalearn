{
 "cells": [
  {
   "cell_type": "code",
   "execution_count": 1,
   "metadata": {},
   "outputs": [
    {
     "name": "stderr",
     "output_type": "stream",
     "text": [
      "/home/charles_murphy/anaconda3/envs/dynalearn_env/lib/python3.7/site-packages/numba/decorators.py:146: RuntimeWarning: Caching is not available when the 'parallel' target is in use. Caching is now being disabled to allow execution to continue.\n",
      "  warnings.warn(msg, RuntimeWarning)\n",
      "/home/charles_murphy/anaconda3/envs/dynalearn_env/lib/python3.7/_collections_abc.py:841: MatplotlibDeprecationWarning: Support for setting the 'text.latex.preamble' or 'pgf.preamble' rcParam to a list of strings is deprecated since 3.3 and will be removed two minor releases later; set it to a single string instead.\n",
      "  self[key] = other[key]\n"
     ]
    }
   ],
   "source": [
    "from itertools import product\n",
    "from display import *\n",
    "\n",
    "save_svg, save_png, save_pdf = False, False, False"
   ]
  },
  {
   "cell_type": "markdown",
   "metadata": {},
   "source": [
    "## Loading data"
   ]
  },
  {
   "cell_type": "code",
   "execution_count": 2,
   "metadata": {},
   "outputs": [
    {
     "name": "stdout",
     "output_type": "stream",
     "text": [
      "Did not find file `exp-sis-ba.zip`, kept proceding.\n",
      "Did not find file `exp-plancksis-ba.zip`, kept proceding.\n"
     ]
    }
   ],
   "source": [
    "with open(\"../../data/spain_mobility/processed_data/covid_province_data.dat\", \"rb\") as f:\n",
    "    covid_data = pickle.load(f)"
   ]
  },
  {
   "cell_type": "markdown",
   "metadata": {},
   "source": [
    "## Additional functions"
   ]
  },
  {
   "cell_type": "code",
   "execution_count": null,
   "metadata": {},
   "outputs": [],
   "source": [
    "def ridgeline(data, x=None, ax=None, xticks=None, overlap=0, yshift=0., color=\"blue\", zorder=0, alpha=0.5, withline=True, witharea=True, index=None):\n",
    "    if ax is None:\n",
    "        ax = plt.gca()\n",
    "    curves = []\n",
    "    ys = []\n",
    "    labels = []\n",
    "    if index is None:\n",
    "        index = list(data.keys())\n",
    "    ymin, ymax = 0, -np.inf\n",
    "    for i, k in enumerate(index):\n",
    "        v = data[k]\n",
    "        labels.append(k)\n",
    "        d = v / v.max() * (1. + overlap)\n",
    "        if x is None:\n",
    "            x = np.arange(len(d))\n",
    "        y = i\n",
    "        ys.append(y)\n",
    "        if witharea:\n",
    "            ax.fill_between(\n",
    "                x, \n",
    "                np.ones(len(d)) * y + yshift, \n",
    "                d + y + yshift, \n",
    "                zorder=zorder+len(data)-i+1, \n",
    "                color=color, \n",
    "                alpha=alpha\n",
    "            )\n",
    "        if withline:\n",
    "            ax.plot(x, d + y, c='k', zorder=len(data)-i+1, linewidth=0.5)\n",
    "        ymax = max(np.max(d + y + yshift), ymax)\n",
    "    ax.set_yticks(ys)\n",
    "    ax.set_yticklabels(labels)\n",
    "    if xticks is not None:\n",
    "        assert isinstance(xticks, dict)\n",
    "        ax.set_xticks(list(xticks.values()))\n",
    "        ax.set_xticklabels(list(xticks.keys()), rotation = 45, fontsize=14)\n",
    "        xmin, xmax = min(list(xticks.values())), max(list(xticks.values()))\n",
    "        ax.set_xlim([xmin, xmax])\n",
    "    ax.set_ylim([ymin, ymax])\n",
    "    \n",
    "    ax.spines['left'].set_visible(False)\n",
    "    ax.spines['right'].set_visible(False)\n",
    "    ax.spines['top'].set_visible(False)\n",
    "\n",
    "locations = {\n",
    "    \"center center\": (0.5, 0.5, \"center\", \"center\"),\n",
    "    \"upper right\": (0.95, 0.95, \"top\", \"right\"),\n",
    "    \"lower right\": (0.95, 0.05, \"bottom\", \"right\"),\n",
    "    \"upper left\": (0.05, 0.95, \"top\", \"left\"),\n",
    "    \"lower left\": (0.05, 0.05, \"bottom\", \"left\"),\n",
    "}\n",
    "def label_plot(ax, label, loc=\"center center\", fontsize=16):\n",
    "    if isinstance(loc, tuple):\n",
    "        h, v, va, ha = loc\n",
    "    elif isinstance(loc, str):\n",
    "        h, v, va, ha = locations[loc]\n",
    "    ax.text(h, v, label, color=\"k\", transform=ax.transAxes, \n",
    "        verticalalignment=va, horizontalalignment=ha, fontsize=fontsize,\n",
    "    )\n",
    "\n",
    "def add_subplot_axes(ax,rect):\n",
    "    fig = plt.gcf()\n",
    "    box = ax.get_position()\n",
    "    width = box.width\n",
    "    height = box.height\n",
    "    inax_position  = ax.transAxes.transform(rect[0:2])\n",
    "    transFigure = fig.transFigure.inverted()\n",
    "    infig_position = transFigure.transform(inax_position)    \n",
    "    x = infig_position[0]\n",
    "    y = infig_position[1]\n",
    "    width *= rect[2]\n",
    "    height *= rect[3]  # <= Typo was here\n",
    "    subax = fig.add_axes([x,y,width,height])\n",
    "    x_labelsize = subax.get_xticklabels()[0].get_size()\n",
    "    y_labelsize = subax.get_yticklabels()[0].get_size()\n",
    "    x_labelsize *= rect[2]**0.5\n",
    "    y_labelsize *= rect[3]**0.5\n",
    "    subax.xaxis.set_tick_params(labelsize=x_labelsize)\n",
    "    subax.yaxis.set_tick_params(labelsize=y_labelsize)\n",
    "    return subax\n",
    "\n",
    "times = {\n",
    "    r\"2020-01\":31, \n",
    "    r\"2020-02\":29, \n",
    "    r\"2020-03\":31, \n",
    "    r\"2020-04\":30, \n",
    "    r\"2020-05\":31, \n",
    "    r\"2020-06\":30, \n",
    "    r\"2020-07\":31, \n",
    "    r\"2020-08\":31, \n",
    "    r\"2020-09\":30, \n",
    "    r\"2020-10\":31, \n",
    "    r\"2020-11\":30, \n",
    "    r\"2020-12\":31, \n",
    "    r\"2021-01\":31, \n",
    "    r\"2021-02\":28, \n",
    "    r\"2021-03\":31\n",
    "}\n",
    "cumul_times = {}\n",
    "c = 0\n",
    "for m, d in times.items():\n",
    "    cumul_times[m] = c\n",
    "    c += d"
   ]
  },
  {
   "cell_type": "markdown",
   "metadata": {},
   "source": [
    "## Making the plot"
   ]
  },
  {
   "cell_type": "code",
   "execution_count": null,
   "metadata": {},
   "outputs": [],
   "source": [
    "factor = 8\n",
    "h_map, w_map = 2, 4\n",
    "h_traj, w_traj = 1, 3\n",
    "fs = factor* 24 / 7\n",
    "width, height = factor * int(np.ceil(w_map / h_map + w_traj / h_traj)), factor * 1\n",
    "print(width, height)\n",
    "fig = plt.figure(figsize=(width, height))\n",
    "gs = fig.add_gridspec(height, width)\n",
    "gs.update(wspace=0.025, hspace=0.05) # set the spacing between axes. \n",
    "ax_map = fig.add_subplot(gs[:height, :(factor*w_map // h_map)])\n",
    "ax_traj = fig.add_subplot(gs[:height, (factor*w_map // h_map):])\n",
    "\n",
    "# # map figure\n",
    "# im = plt.imread(\"png/spain_mobility.png\")\n",
    "# ax_map.imshow(im)\n",
    "ax_map.axis('off')\n",
    "label_plot(ax_map, r\"(a)\", loc=(0.1, 1., \"bottom\", \"right\"), fontsize=fs)\n",
    "\n",
    "# trajectories figure\n",
    "index = reversed(sorted(list(covid_data[\"cases\"].keys())))\n",
    "ridgeline(covid_data[\"cases\"], ax=ax_traj, xticks=cumul_times, index=index, color=color_dark[\"blue\"], alpha=1., withline=True)\n",
    "ax_traj.set_ylabel(r\"Incidence\", fontsize=fs)\n",
    "label_plot(ax_traj, r\"(b)\", loc=(0., 1., \"bottom\", \"left\"), fontsize=fs)\n",
    "ax_traj.axvspan(0, 335, alpha=0.2, color=color_pale[\"grey\"])\n",
    "# ax_traj.tick_params(axis=\"both\", labelsize=fs * 8 / 18)\n",
    "ax_traj.tick_params(axis=\"y\", labelsize=12)\n",
    "ax_traj.tick_params(axis=\"x\", labelsize=20)\n",
    "ax_traj.set_xlim([0, 445])\n",
    "\n",
    "filename = \"manuscript-figure4\"\n",
    "if save_svg:\n",
    "    fig.savefig(os.path.join(\"svg\", f\"{figname}.svg\"))"
   ]
  }
 ],
 "metadata": {
  "kernelspec": {
   "display_name": "dynalearn_env",
   "language": "python",
   "name": "dynalearn_env"
  },
  "language_info": {
   "codemirror_mode": {
    "name": "ipython",
    "version": 3
   },
   "file_extension": ".py",
   "mimetype": "text/x-python",
   "name": "python",
   "nbconvert_exporter": "python",
   "pygments_lexer": "ipython3",
   "version": "3.7.9"
  }
 },
 "nbformat": 4,
 "nbformat_minor": 2
}
