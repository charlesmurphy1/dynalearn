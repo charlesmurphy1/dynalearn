{
 "cells": [
  {
   "cell_type": "code",
   "execution_count": 1,
   "metadata": {},
   "outputs": [
    {
     "name": "stderr",
     "output_type": "stream",
     "text": [
      "/home/charles_murphy/anaconda3/envs/dynalearn_env/lib/python3.7/site-packages/numba/decorators.py:146: RuntimeWarning: Caching is not available when the 'parallel' target is in use. Caching is now being disabled to allow execution to continue.\n",
      "  warnings.warn(msg, RuntimeWarning)\n",
      "/home/charles_murphy/anaconda3/envs/dynalearn_env/lib/python3.7/_collections_abc.py:841: MatplotlibDeprecationWarning: Support for setting the 'text.latex.preamble' or 'pgf.preamble' rcParam to a list of strings is deprecated since 3.3 and will be removed two minor releases later; set it to a single string instead.\n",
      "  self[key] = other[key]\n"
     ]
    }
   ],
   "source": [
    "from itertools import product\n",
    "from display import *\n",
    "from util import load_experiments\n",
    "\n",
    "save_svg, save_png, save_pdf = False, False, False"
   ]
  },
  {
   "cell_type": "markdown",
   "metadata": {},
   "source": [
    "## Loading data"
   ]
  },
  {
   "cell_type": "code",
   "execution_count": 2,
   "metadata": {},
   "outputs": [
    {
     "name": "stdout",
     "output_type": "stream",
     "text": [
      "Did not find file `exp-sis-ba.zip`, kept proceding.\n",
      "Did not find file `exp-plancksis-ba.zip`, kept proceding.\n"
     ]
    }
   ],
   "source": [
    "dynamics = [\"sis\", \"plancksis\", \"sissis\"]\n",
    "networks = [\"ba\"]\n",
    "\n",
    "path = \"../../data/case-study/summaries\"\n",
    "exp_names = {d: f\"exp-{d}-{networks}\" for d in dynamics}\n",
    "exp = load_experiments(path, exp_names)\n",
    "\n",
    "dynamics = [\"dsir\"]\n",
    "networks = [\"w_ba\"]\n",
    "\n",
    "path = \"../../data/case-study/summaries\"\n",
    "exp_names = {d: f\"exp-{d}-{networks}\" for d in dynamics}\n",
    "exp.update(load_experiments(path, exp_names))"
   ]
  },
  {
   "cell_type": "markdown",
   "metadata": {},
   "source": [
    "## Making the plot"
   ]
  },
  {
   "cell_type": "code",
   "execution_count": null,
   "metadata": {},
   "outputs": [],
   "source": [
    "config = [(\"sis\", \"ba\"), (\"plancksis\", \"ba\"), (\"sissis\", \"ba\"), (\"dsir\", \"w_ba\")]\n",
    "fig, ax = plt.subplots(1, 4, figsize=(4 * 4, 4))\n",
    "\n",
    "threshold = 10.\n",
    "dsir_avgk = np.array([1.68, 4.84, 5.92, 7.36, 0.96, 4.52, 5.52, 2.12, 7.6, 6.96]) / 2  \n",
    "for i, c in enumerate(config):\n",
    "    x = exp[c].metrics[\"TrueERSSMetrics\"].data[\"param-absorbing\"]\n",
    "    y = 1 - exp[c].metrics[\"TrueERSSMetrics\"].data[\"absorbing\"][:,0,0]\n",
    "    yerr = np.sqrt(exp[c].metrics[\"TrueERSSMetrics\"].data[\"absorbing\"][:,1,0])\n",
    "    index = yerr < threshold\n",
    "    ax[i].errorbar(x[index], y[index], yerr=yerr[index], marker=\"o\", linestyle=\"None\", color=color_dark[\"blue\"])\n",
    "    if \"epidemic\" in exp[c].metrics[\"TrueERSSMetrics\"].data:\n",
    "        x = exp[c].metrics[\"TrueERSSMetrics\"].data[\"param-epidemic\"]\n",
    "        y = 1 - exp[c].metrics[\"TrueERSSMetrics\"].data[\"epidemic\"][:,0,0]\n",
    "        yerr = np.sqrt(exp[c].metrics[\"TrueERSSMetrics\"].data[\"epidemic\"][:,1,0])\n",
    "        index = yerr < threshold\n",
    "        ax[i].errorbar(x[index], y[index], yerr=yerr[index], marker=\"o\", linestyle=\"None\", color=color_dark[\"blue\"])\n",
    "for i, c in enumerate(config):\n",
    "    x = exp[c].metrics[\"GNNERSSMetrics\"].data[\"param-absorbing\"]\n",
    "    y = 1 - exp[c].metrics[\"GNNERSSMetrics\"].data[\"absorbing\"][:,0,0]\n",
    "    yerr = np.sqrt(exp[c].metrics[\"GNNERSSMetrics\"].data[\"absorbing\"][:,1,0])\n",
    "    index = yerr < threshold\n",
    "    ax[i].errorbar(x[index], y[index], yerr=yerr[index], marker=\"^\", linestyle=\"None\", color=color_dark[\"orange\"])\n",
    "    if \"epidemic\" in exp[c].metrics[\"GNNERSSMetrics\"].data:\n",
    "        x = exp[c].metrics[\"GNNERSSMetrics\"].data[\"param-epidemic\"]\n",
    "        y = 1 - exp[c].metrics[\"GNNERSSMetrics\"].data[\"epidemic\"][:,0,0]\n",
    "        yerr = np.sqrt(exp[c].metrics[\"GNNERSSMetrics\"].data[\"epidemic\"][:,1,0])\n",
    "        index = yerr < threshold\n",
    "        ax[i].errorbar(x[index], y[index], yerr=yerr[index], marker=\"^\", linestyle=\"None\", color=color_dark[\"orange\"])\n",
    "    if c[0] != \"dsir\":\n",
    "        ax[i].axvline(4, linestyle=\"--\", color=color_dark[\"grey\"], linewidth=2)\n",
    "    else:\n",
    "        for k in dsir_avgk:\n",
    "            ax[i].axvline(k, linestyle=\"--\", color=color_dark[\"grey\"], linewidth=2)\n",
    "    ax[i].set_xlabel(r\"Average degree [$\\langle k \\rangle$]\", fontsize=large_fontsize)\n",
    "    ax[i].set_ylabel(r\"Prevalence\", fontsize=large_fontsize)\n",
    "    ax[i].set_xlim([x.min(), x.max()])\n",
    "    ax[i].set_ylim([-0.1, 1.1])\n",
    "ax[-1].set_ylabel(r\"Outbreak size\", fontsize=large_fontsize)\n",
    "# ax[0].set_xlim([x.min(), x.max()])\n",
    "# ax[1].set_xlim([x.min(), x.max()])\n",
    "# ax[2].set_xlim([4, 7])\n",
    "\n",
    "ax[0].set_title(r\"\\textbf{Simple}\", fontsize=large_fontsize)\n",
    "ax[1].set_title(r\"\\textbf{Complex}\", fontsize=large_fontsize)\n",
    "ax[2].set_title(r\"\\textbf{Interacting}\", fontsize=large_fontsize)\n",
    "ax[3].set_title(r\"\\textbf{Metapopulation}\", fontsize=large_fontsize)\n",
    "\n",
    "label_plot(ax[0], r\"\\textbf{(a)}\", loc=\"upper left\")\n",
    "label_plot(ax[1], r\"\\textbf{(b)}\", loc=\"upper left\")\n",
    "label_plot(ax[2], r\"\\textbf{(c)}\", loc=\"upper left\")\n",
    "label_plot(ax[3], r\"\\textbf{(d)}\", loc=\"upper left\")\n",
    "    \n",
    "    \n",
    "handles = []\n",
    "handles.append(\n",
    "    Line2D(\n",
    "            [-1], [-1], \n",
    "            linestyle=\"--\", \n",
    "            marker=\"None\", \n",
    "            linewidth=2,\n",
    "            markersize=8,\n",
    "            color=color_dark[\"grey\"],\n",
    "            label=r\"Training $\\langle k \\rangle$\"\n",
    "    )\n",
    ")\n",
    "handles.append(\n",
    "    Line2D(\n",
    "            [-1], [-1], \n",
    "            linestyle=\"-\", \n",
    "            marker=\"o\", \n",
    "            linewidth=3,\n",
    "            markersize=8,\n",
    "            color=color_dark[\"blue\"], \n",
    "            label=r\"GT\",\n",
    "    )\n",
    ")\n",
    "handles.append(\n",
    "    Line2D(\n",
    "            [-1], [-1], \n",
    "            linestyle=\"-\", \n",
    "            marker=\"^\", \n",
    "            linewidth=3,\n",
    "            markersize=8,\n",
    "            color=color_dark[\"orange\"],\n",
    "            label=r\"GNN\"\n",
    "    )\n",
    ")\n",
    "ax[0].legend(\n",
    "    handles=handles, loc=\"center left\", fancybox=False, fontsize=16, framealpha=0., ncol=1, handletextpad=0.1\n",
    ")\n",
    "    \n",
    "\n",
    "plt.tight_layout(w_pad=1)\n",
    "\n",
    "figname = \"manuscript-figure3\"\n",
    "if save_png:\n",
    "    fig.savefig(os.path.join(\"png\", f\"{figname}.png\"))\n",
    "if save_pdf:\n",
    "    fig.savefig(os.path.join(\"pdf\", f\"{figname}.pdf\"))\n",
    "if save_svg:\n",
    "    fig.savefig(os.path.join(\"svg\", f\"{figname}.svg\"))"
   ]
  }
 ],
 "metadata": {
  "kernelspec": {
   "display_name": "dynalearn_env",
   "language": "python",
   "name": "dynalearn_env"
  },
  "language_info": {
   "codemirror_mode": {
    "name": "ipython",
    "version": 3
   },
   "file_extension": ".py",
   "mimetype": "text/x-python",
   "name": "python",
   "nbconvert_exporter": "python",
   "pygments_lexer": "ipython3",
   "version": "3.7.9"
  }
 },
 "nbformat": 4,
 "nbformat_minor": 2
}
