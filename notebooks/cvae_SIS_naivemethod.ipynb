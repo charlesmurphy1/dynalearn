{
 "cells": [
  {
   "cell_type": "code",
   "execution_count": 32,
   "metadata": {},
   "outputs": [],
   "source": [
    "import dynalearn as dl\n",
    "import pickle\n",
    "import numpy as np\n",
    "import networkx as nx\n",
    "import matplotlib.pyplot as plt\n",
    "import torch\n",
    "import os"
   ]
  },
  {
   "cell_type": "code",
   "execution_count": 33,
   "metadata": {},
   "outputs": [],
   "source": [
    "degree = 3\n",
    "n_nodes = 500\n",
    "rate = 1.\n",
    "T = 10\n",
    "dt = 0.01\n",
    "fprefix = 'testdata/rrg_sis_'\n",
    "\n",
    "def conversion_function(x):\n",
    "    ans = [None] * len(x)\n",
    "    for i in range(len(x)):\n",
    "        if x[i] == 'S': ans[i] = 0.\n",
    "        if x[i] == 'I': ans[i] = 1.\n",
    "    return torch.tensor(ans)\n"
   ]
  },
  {
   "cell_type": "code",
   "execution_count": 34,
   "metadata": {},
   "outputs": [],
   "source": [
    "# Generating the network\n",
    "graph = nx.random_regular_graph(2 * degree, n_nodes)\n",
    "#graph = nx.barabasi_albert_graph(m=degree, n=n_nodes)\n",
    "nx.write_edgelist(graph, fprefix + 'edgelist.b')\n",
    "\n",
    "# Generating the time series\n",
    "continue_simu = False\n",
    "iter_max = 100\n",
    "i = 0\n",
    "num_sample = 10000\n",
    "\n",
    "#if os.path.exists(fprefix + '_states.b'):\n",
    "#    os.remove(fprefix + '_states.b')\n",
    "data = {}\n",
    "idx = 0\n",
    "while(i < num_sample):\n",
    "    data[idx] = []\n",
    "    sisnet = dl.dynamics.SISNetwork(graph, rate, dt=dt, filename=None,\n",
    "                                    full_data_mode=True, overwrite=True)\n",
    "    t = 0\n",
    "    while(t < T and sisnet.continue_simu and i < num_sample):\n",
    "        t += dt\n",
    "        sisnet.update(record=False)\n",
    "        i += 1\n",
    "        data[idx].append(sisnet.activity)\n",
    "    idx += 1\n",
    "\n",
    "f = open(fprefix + '_states.b', 'wb')\n",
    "pickle.dump(data, f)\n",
    "f.close()\n",
    "\n",
    "%reset_selective -f data"
   ]
  },
  {
   "cell_type": "code",
   "execution_count": 35,
   "metadata": {},
   "outputs": [
    {
     "data": {
      "text/plain": [
       "9990"
      ]
     },
     "execution_count": 35,
     "metadata": {},
     "output_type": "execute_result"
    }
   ],
   "source": [
    "dataset = dl.Markov_Dataset(fprefix + '_states.b', conversion_function=conversion_function)\n",
    "train_dataset, val_dataset = torch.utils.data.random_split(dataset, [len(dataset)-1000, 1000])\n",
    "len(dataset)"
   ]
  },
  {
   "cell_type": "code",
   "execution_count": 87,
   "metadata": {},
   "outputs": [],
   "source": [
    "n_hidden = [1024,1024]\n",
    "n_embedding = 800\n",
    "optimizer = lambda p: torch.optim.Adam(p, lr=1e-2, weight_decay=1e-3)\n",
    "use_cuda = True\n",
    "\n",
    "markov_cvae = dl.Markov_Complete_CVAE(n_nodes, n_hidden, n_embedding, optimizer=optimizer, use_cuda=use_cuda)"
   ]
  },
  {
   "cell_type": "code",
   "execution_count": 88,
   "metadata": {},
   "outputs": [],
   "source": [
    "new_lr = 1e-3\n",
    "for g in markov_cvae.optimizer.param_groups:\n",
    "    g['lr'] = new_lr"
   ]
  },
  {
   "cell_type": "code",
   "execution_count": 89,
   "metadata": {},
   "outputs": [
    {
     "name": "stdout",
     "output_type": "stream",
     "text": [
      "Epoch 0 - Training Loss: 240.9014 ± 4.10 - Validation Loss: 240.8552 ± 5.06 - Training time: 1.8171 - New best\n",
      "Epoch 1 - Training Loss: 206.9013 ± 4.42 - Validation Loss: 206.9345 ± 4.43 - Training time: 1.7451 - New best\n",
      "Epoch 2 - Training Loss: 165.9599 ± 4.06 - Validation Loss: 167.7040 ± 4.02 - Training time: 1.7616 - New best\n",
      "Epoch 3 - Training Loss: 126.4916 ± 3.70 - Validation Loss: 129.5573 ± 3.68 - Training time: 1.7434 - New best\n",
      "Epoch 4 - Training Loss: 98.4222 ± 3.18 - Validation Loss: 102.3901 ± 2.92 - Training time: 1.7512 - New best\n",
      "Epoch 5 - Training Loss: 79.6499 ± 2.90 - Validation Loss: 84.4242 ± 2.36 - Training time: 1.7527 - New best\n",
      "Epoch 6 - Training Loss: 66.5773 ± 2.77 - Validation Loss: 71.9588 ± 1.88 - Training time: 1.7402 - New best\n",
      "Epoch 7 - Training Loss: 56.4174 ± 2.61 - Validation Loss: 62.1161 ± 1.97 - Training time: 1.7440 - New best\n",
      "Epoch 8 - Training Loss: 49.3148 ± 2.48 - Validation Loss: 55.5649 ± 1.67 - Training time: 1.7514 - New best\n",
      "Epoch 9 - Training Loss: 45.6209 ± 2.49 - Validation Loss: 52.2417 ± 1.50 - Training time: 1.7614 - New best\n",
      "Epoch 10 - Training Loss: 44.9457 ± 2.42 - Validation Loss: 51.9992 ± 1.34 - Training time: 1.7362 - New best\n",
      "Epoch 11 - Training Loss: 37.0418 ± 2.33 - Validation Loss: 44.4790 ± 1.35 - Training time: 1.7577 - New best\n",
      "Epoch 12 - Training Loss: 34.5006 ± 2.32 - Validation Loss: 42.3223 ± 1.16 - Training time: 1.7613 - New best\n",
      "Epoch 13 - Training Loss: 32.9924 ± 2.35 - Validation Loss: 41.1889 ± 1.39 - Training time: 1.7400 - New best\n",
      "Epoch 14 - Training Loss: 33.8696 ± 2.28 - Validation Loss: 42.4240 ± 1.29 - Training time: 1.7572 - \n",
      "Epoch 15 - Training Loss: 29.8141 ± 2.31 - Validation Loss: 39.0299 ± 1.19 - Training time: 1.7324 - New best\n",
      "Epoch 16 - Training Loss: 28.8372 ± 2.28 - Validation Loss: 38.3471 ± 1.30 - Training time: 1.7695 - New best\n",
      "Epoch 17 - Training Loss: 28.2432 ± 2.28 - Validation Loss: 38.1716 ± 1.30 - Training time: 1.7645 - New best\n",
      "Epoch 18 - Training Loss: 28.8050 ± 2.25 - Validation Loss: 39.2441 ± 1.24 - Training time: 1.7395 - \n",
      "Epoch 19 - Training Loss: 30.8357 ± 2.24 - Validation Loss: 41.4679 ± 1.28 - Training time: 1.7601 - \n",
      "Epoch 20 - Training Loss: 25.3889 ± 2.20 - Validation Loss: 36.5028 ± 1.20 - Training time: 1.7725 - New best\n",
      "Epoch 21 - Training Loss: 24.8822 ± 2.19 - Validation Loss: 36.2639 ± 1.12 - Training time: 1.7492 - New best\n",
      "Epoch 22 - Training Loss: 24.5220 ± 2.26 - Validation Loss: 36.0931 ± 1.12 - Training time: 1.7549 - New best\n",
      "Epoch 23 - Training Loss: 23.8349 ± 2.21 - Validation Loss: 35.8712 ± 1.23 - Training time: 1.7277 - New best\n",
      "Epoch 24 - Training Loss: 23.4776 ± 2.13 - Validation Loss: 35.7170 ± 1.10 - Training time: 1.7725 - New best\n",
      "Epoch 25 - Training Loss: 23.2153 ± 2.18 - Validation Loss: 35.5828 ± 1.19 - Training time: 1.7615 - New best\n",
      "Epoch 26 - Training Loss: 22.3057 ± 2.15 - Validation Loss: 35.1263 ± 1.40 - Training time: 1.7847 - New best\n",
      "Epoch 27 - Training Loss: 22.1741 ± 2.16 - Validation Loss: 35.3765 ± 1.42 - Training time: 1.7611 - \n",
      "Epoch 28 - Training Loss: 21.7590 ± 2.13 - Validation Loss: 35.1970 ± 1.27 - Training time: 1.7534 - \n",
      "Epoch 29 - Training Loss: 21.5642 ± 2.12 - Validation Loss: 35.2575 ± 1.37 - Training time: 1.7548 - \n",
      "Epoch 30 - Training Loss: 21.6212 ± 2.24 - Validation Loss: 35.6951 ± 1.24 - Training time: 1.7311 - \n",
      "Epoch 31 - Training Loss: 20.8884 ± 2.18 - Validation Loss: 34.9246 ± 1.28 - Training time: 1.7516 - New best\n",
      "Epoch 32 - Training Loss: 20.7182 ± 2.31 - Validation Loss: 35.2045 ± 1.29 - Training time: 1.7625 - \n",
      "Epoch 33 - Training Loss: 20.5912 ± 2.26 - Validation Loss: 35.3581 ± 1.15 - Training time: 1.7611 - \n",
      "Epoch 34 - Training Loss: 20.0857 ± 2.23 - Validation Loss: 34.9490 ± 1.36 - Training time: 1.7520 - \n",
      "Epoch 35 - Training Loss: 19.5274 ± 2.25 - Validation Loss: 34.6185 ± 1.11 - Training time: 1.7388 - New best\n",
      "Epoch 36 - Training Loss: 19.6630 ± 2.27 - Validation Loss: 34.9786 ± 1.19 - Training time: 1.7502 - \n",
      "Epoch 37 - Training Loss: 19.2657 ± 2.22 - Validation Loss: 34.9284 ± 1.32 - Training time: 1.7474 - \n",
      "Epoch 38 - Training Loss: 18.9587 ± 2.30 - Validation Loss: 34.6635 ± 1.29 - Training time: 1.7609 - \n",
      "Epoch 39 - Training Loss: 18.6324 ± 2.30 - Validation Loss: 34.7163 ± 1.42 - Training time: 1.7583 - \n",
      "Epoch 40 - Training Loss: 18.5695 ± 2.21 - Validation Loss: 34.8347 ± 1.35 - Training time: 1.7418 - \n",
      "Epoch 41 - Training Loss: 18.0611 ± 2.29 - Validation Loss: 34.6425 ± 1.31 - Training time: 1.7409 - \n",
      "Epoch 42 - Training Loss: 18.4003 ± 2.37 - Validation Loss: 34.8951 ± 1.16 - Training time: 1.7461 - \n",
      "Epoch 43 - Training Loss: 17.7645 ± 2.38 - Validation Loss: 34.6688 ± 1.27 - Training time: 1.7420 - \n",
      "Epoch 44 - Training Loss: 17.8426 ± 2.34 - Validation Loss: 34.7875 ± 1.40 - Training time: 1.7377 - \n",
      "Epoch 45 - Training Loss: 17.9977 ± 2.43 - Validation Loss: 35.1765 ± 1.47 - Training time: 1.7149 - \n",
      "Epoch 46 - Training Loss: 17.8667 ± 2.40 - Validation Loss: 35.1793 ± 1.26 - Training time: 1.7485 - \n",
      "Epoch 47 - Training Loss: 17.5439 ± 2.42 - Validation Loss: 35.0656 ± 1.17 - Training time: 1.7284 - \n",
      "Epoch 48 - Training Loss: 17.7993 ± 2.55 - Validation Loss: 35.4454 ± 1.43 - Training time: 1.7574 - \n",
      "Epoch 49 - Training Loss: 17.3289 ± 2.58 - Validation Loss: 35.1451 ± 1.35 - Training time: 1.7495 - \n"
     ]
    }
   ],
   "source": [
    "markov_cvae.fit(train_dataset, val_dataset, epochs=50, batch_size=128)"
   ]
  },
  {
   "cell_type": "code",
   "execution_count": 90,
   "metadata": {},
   "outputs": [],
   "source": [
    "def test_model(learned_model, dataset):\n",
    "    init_states = dataset[0][0]\n",
    "    #T = len(dataset)\n",
    "    t = 0\n",
    "    learned_states, z, passed_states = learned_model.predict(init_states, batch_size=2)\n",
    "    learned_avg = [np.mean(learned_states)]\n",
    "    while(t < T):\n",
    "        t += dt\n",
    "        \n",
    "        learned_states, z, passed_states = learned_model.predict(passed_states, batch_size=2)\n",
    "        learned_states = torch.bernoulli(torch.tensor(learned_states[0]))\n",
    "        passed_states = learned_states\n",
    "        learned_avg.append(np.mean(learned_states.numpy()))\n",
    "    \n",
    "    return learned_avg\n",
    "\n",
    "def show_dataset(dataset):\n",
    "    avg = []\n",
    "#     for i in range(len(dataset)):\n",
    "#         x = dataset[i][0].numpy()\n",
    "#         avg.append(np.mean(x))\n",
    "    t = 0\n",
    "    sisnet = dl.dynamics.SISNetwork(graph, rate, dt=dt,\n",
    "                                    filename=None,\n",
    "                                    full_data_mode=False,\n",
    "                                    overwrite=True)\n",
    "    while t < T:\n",
    "        t += dt\n",
    "        sisnet.update(record=False)\n",
    "        avg_state, std_state = sisnet.get_avg_activity()\n",
    "        avg.append(avg_state['I'])\n",
    "    return avg\n"
   ]
  },
  {
   "cell_type": "code",
   "execution_count": 91,
   "metadata": {},
   "outputs": [],
   "source": [
    "null_cvae = dl.Markov_Complete_CVAE(n_nodes, n_hidden, n_embedding, optimizer=optimizer, use_cuda=use_cuda)\n",
    "\n",
    "avg_ts = show_dataset(dataset)\n",
    "null_ts = test_model(null_cvae, dataset)\n",
    "trained_ts = test_model(markov_cvae, dataset)\n"
   ]
  },
  {
   "cell_type": "code",
   "execution_count": 92,
   "metadata": {},
   "outputs": [
    {
     "data": {
      "image/png": "[encoded data removed]",
      "text/plain": [
       "<Figure size 1080x360 with 3 Axes>"
      ]
     },
     "metadata": {},
     "output_type": "display_data"
    }
   ],
   "source": [
    "fig, ax = plt.subplots(1, 3, figsize=(15, 5), sharex=True, sharey=True)\n",
    "\n",
    "ax[0].plot(avg_ts)\n",
    "ax[0].set_title('Real data')\n",
    "ax[0].set_ylabel('Prevalence')\n",
    "ax[0].set_xlabel('Time step')\n",
    "\n",
    "ax[1].plot(null_ts)\n",
    "ax[1].set_title('Synthetic data (untrained)')\n",
    "ax[1].set_xlabel('Time step')\n",
    "\n",
    "ax[2].plot(trained_ts)\n",
    "ax[2].set_title('Synthetic data (trained)')\n",
    "ax[2].set_xlabel('Time step')\n",
    "\n",
    "fig.savefig(f'fig/png/naive_rrgsis_d{degree}_n{n_nodes}_rate{rate}.png')\n",
    "fig.savefig(f'fig/pdf/naive_rrgsis_d{degree}_n{n_nodes}_rate{rate}.pdf')\n",
    "plt.show()"
   ]
  },
  {
   "cell_type": "code",
   "execution_count": null,
   "metadata": {},
   "outputs": [],
   "source": []
  }
 ],
 "metadata": {
  "kernelspec": {
   "display_name": "Python 3",
   "language": "python",
   "name": "python3"
  },
  "language_info": {
   "codemirror_mode": {
    "name": "ipython",
    "version": 3
   },
   "file_extension": ".py",
   "mimetype": "text/x-python",
   "name": "python",
   "nbconvert_exporter": "python",
   "pygments_lexer": "ipython3",
   "version": "3.6.5"
  }
 },
 "nbformat": 4,
 "nbformat_minor": 2
}
