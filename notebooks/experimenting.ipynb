{
 "cells": [
  {
   "cell_type": "code",
   "execution_count": 1,
   "metadata": {},
   "outputs": [],
   "source": [
    "import numpy as np\n",
    "import dynalearn as dl\n",
    "import matplotlib.pyplot as plt\n",
    "import tensorflow as tf\n",
    "import os"
   ]
  },
  {
   "cell_type": "code",
   "execution_count": 2,
   "metadata": {},
   "outputs": [],
   "source": [
    "dynamics_config = {\n",
    "        \"name\": \"PlanckSIS\",\n",
    "        \"params\": {\"temperature\": 8, \"recovery\": 0.06, \"init\": \"None\"},\n",
    "    }\n",
    "graph_config = {\"name\": \"BAGraph\", \"params\": {\"N\": 1000, \"M\": 2}}\n",
    "model_config = dl.models.GNNConfig.SISGNN()\n",
    "metric_config = dl.metrics.MetricsConfig.PlanckSISMetrics()\n",
    "metric_config.epsilon = 1e-2\n",
    "\n",
    "num_sample = 20000\n",
    "num_epochs = 20\n",
    "\n",
    "name = \"plancksis-ba-{0}\".format(num_sample)\n",
    "\n",
    "path_to_model = \"../data/test\"\n",
    "path_to_data = os.path.join(\"../data/test\", name)\n",
    "training_config = dl.TrainingConfig.changing_num_samples(num_sample)\n",
    "training_config.step_per_epoch = num_sample\n",
    "training_config.num_epochs = num_epochs\n",
    "\n",
    "config = {\n",
    "    \"name\": name,\n",
    "    \"graph\": graph_config,\n",
    "    \"dynamics\": dynamics_config,\n",
    "    \"model\": {\"name\": \"EpidemicPredictor\", \"config\": model_config},\n",
    "\n",
    "    \"generator\": {\n",
    "        \"name\": \"DynamicsGenerator\",\n",
    "        \"config\": dl.datasets.GeneratorConfig.default(),\n",
    "        \"sampler\": {\n",
    "            \"name\": \"StateBiasedSampler\",\n",
    "            \"config\": dl.datasets.samplers.SamplerConfig.BiasedSamplerDefault(\n",
    "                dynamics_config, 0.6\n",
    "            ),\n",
    "        },\n",
    "    },\n",
    "    \"metrics\": {\n",
    "        \"name\": [\n",
    "            \"AttentionMetrics\",\n",
    "            \"TrueLTPMetrics\",\n",
    "            \"GNNLTPMetrics\",\n",
    "            \"MLELTPMetrics\",\n",
    "            \"TrueStarLTPMetrics\",\n",
    "            \"GNNStarLTPMetrics\",\n",
    "            \"UniformStarLTPMetrics\",\n",
    "            \"StatisticsMetrics\",\n",
    "            \"TruePEMFMetrics\",\n",
    "            \"GNNPEMFMetrics\",\n",
    "        ],\n",
    "        \"config\": metric_config,\n",
    "    },\n",
    "    \"training\": training_config,\n",
    "    \"path_to_data\": path_to_data,\n",
    "    \"path_to_model\": path_to_model,\n",
    "}"
   ]
  },
  {
   "cell_type": "code",
   "execution_count": 3,
   "metadata": {},
   "outputs": [],
   "source": [
    "tf_config = tf.ConfigProto()\n",
    "tf_config.gpu_options.allow_growth = True\n",
    "session = tf.Session(config=tf_config)\n",
    "experiment = dl.Experiment(config, verbose=1)\n"
   ]
  },
  {
   "cell_type": "code",
   "execution_count": 4,
   "metadata": {},
   "outputs": [
    {
     "name": "stderr",
     "output_type": "stream",
     "text": [
      "Generating data - 0.0082s: 100%|██████████| 20000/20000 [02:40<00:00, 124.88it/s] \n"
     ]
    },
    {
     "name": "stdout",
     "output_type": "stream",
     "text": [
      "Partitioning generator for validation\n"
     ]
    }
   ],
   "source": [
    "experiment.generate_data()"
   ]
  },
  {
   "cell_type": "code",
   "execution_count": 5,
   "metadata": {},
   "outputs": [
    {
     "name": "stdout",
     "output_type": "stream",
     "text": [
      "\n",
      "Epoch 00001: LearningRateScheduler reducing learning rate to 0.0005000000237487257.\n",
      "Epoch 1/20\n",
      "19996/20000 [============================>.] - ETA: 0s - loss: 0.2368 - model_entropy: 0.2000\n",
      "Epoch 00001: val_loss improved from inf to 0.30784, saving model to ../data/test/plancksis-ba-20000.h5\n",
      "20000/20000 [==============================] - 370s 18ms/step - loss: 0.2368 - model_entropy: 0.2000 - val_loss: 0.3078 - val_model_entropy: 0.1697\n",
      "\n",
      "Epoch 00002: LearningRateScheduler reducing learning rate to 0.0005000000237487257.\n",
      "Epoch 2/20\n",
      "19997/20000 [============================>.] - ETA: 0s - loss: 0.2208 - model_entropy: 0.1637\n",
      "Epoch 00002: val_loss improved from 0.30784 to 0.30171, saving model to ../data/test/plancksis-ba-20000.h5\n",
      "20000/20000 [==============================] - 390s 19ms/step - loss: 0.2208 - model_entropy: 0.1637 - val_loss: 0.3017 - val_model_entropy: 0.1678\n",
      "\n",
      "Epoch 00003: LearningRateScheduler reducing learning rate to 0.0005000000237487257.\n",
      "Epoch 3/20\n",
      "19998/20000 [============================>.] - ETA: 0s - loss: 0.2215 - model_entropy: 0.1646\n",
      "Epoch 00003: val_loss did not improve from 0.30171\n",
      "20000/20000 [==============================] - 390s 19ms/step - loss: 0.2215 - model_entropy: 0.1646 - val_loss: 0.3042 - val_model_entropy: 0.1609\n",
      "\n",
      "Epoch 00004: LearningRateScheduler reducing learning rate to 0.0005000000237487257.\n",
      "Epoch 4/20\n",
      "19997/20000 [============================>.] - ETA: 0s - loss: 0.2210 - model_entropy: 0.1645\n",
      "Epoch 00004: val_loss did not improve from 0.30171\n",
      "20000/20000 [==============================] - 390s 19ms/step - loss: 0.2210 - model_entropy: 0.1645 - val_loss: 0.3050 - val_model_entropy: 0.1812\n",
      "\n",
      "Epoch 00005: LearningRateScheduler reducing learning rate to 0.0005000000237487257.\n",
      "Epoch 5/20\n",
      "19995/20000 [============================>.] - ETA: 0s - loss: 0.2221 - model_entropy: 0.1645\n",
      "Epoch 00005: val_loss did not improve from 0.30171\n",
      "20000/20000 [==============================] - 391s 20ms/step - loss: 0.2221 - model_entropy: 0.1645 - val_loss: 0.3062 - val_model_entropy: 0.1542\n",
      "\n",
      "Epoch 00006: LearningRateScheduler reducing learning rate to 0.0005000000237487257.\n",
      "Epoch 6/20\n",
      "19996/20000 [============================>.] - ETA: 0s - loss: 0.2193 - model_entropy: 0.1641\n",
      "Epoch 00006: val_loss did not improve from 0.30171\n",
      "20000/20000 [==============================] - 391s 20ms/step - loss: 0.2193 - model_entropy: 0.1641 - val_loss: 0.3049 - val_model_entropy: 0.1577\n",
      "\n",
      "Epoch 00007: LearningRateScheduler reducing learning rate to 0.0005000000237487257.\n",
      "Epoch 7/20\n",
      "19999/20000 [============================>.] - ETA: 0s - loss: 0.2187 - model_entropy: 0.1624\n",
      "Epoch 00007: val_loss did not improve from 0.30171\n",
      "20000/20000 [==============================] - 391s 20ms/step - loss: 0.2187 - model_entropy: 0.1624 - val_loss: 0.3064 - val_model_entropy: 0.1605\n",
      "\n",
      "Epoch 00008: LearningRateScheduler reducing learning rate to 0.0005000000237487257.\n",
      "Epoch 8/20\n",
      "19996/20000 [============================>.] - ETA: 0s - loss: 0.2210 - model_entropy: 0.1643\n",
      "Epoch 00008: val_loss did not improve from 0.30171\n",
      "20000/20000 [==============================] - 392s 20ms/step - loss: 0.2209 - model_entropy: 0.1644 - val_loss: 0.3058 - val_model_entropy: 0.1682\n",
      "\n",
      "Epoch 00009: LearningRateScheduler reducing learning rate to 0.0005000000237487257.\n",
      "Epoch 9/20\n",
      "19997/20000 [============================>.] - ETA: 0s - loss: 0.2205 - model_entropy: 0.1645\n",
      "Epoch 00009: val_loss did not improve from 0.30171\n",
      "20000/20000 [==============================] - 391s 20ms/step - loss: 0.2205 - model_entropy: 0.1645 - val_loss: 0.3217 - val_model_entropy: 0.1818\n",
      "\n",
      "Epoch 00010: LearningRateScheduler reducing learning rate to 0.0002500000118743628.\n",
      "Epoch 10/20\n",
      "19998/20000 [============================>.] - ETA: 0s - loss: 0.2197 - model_entropy: 0.1643\n",
      "Epoch 00010: val_loss did not improve from 0.30171\n",
      "20000/20000 [==============================] - 392s 20ms/step - loss: 0.2197 - model_entropy: 0.1643 - val_loss: 0.3038 - val_model_entropy: 0.1675\n",
      "\n",
      "Epoch 00011: LearningRateScheduler reducing learning rate to 0.0002500000118743628.\n",
      "Epoch 11/20\n",
      "19996/20000 [============================>.] - ETA: 0s - loss: 0.2203 - model_entropy: 0.1645\n",
      "Epoch 00011: val_loss did not improve from 0.30171\n",
      "20000/20000 [==============================] - 392s 20ms/step - loss: 0.2203 - model_entropy: 0.1645 - val_loss: 0.3046 - val_model_entropy: 0.1606\n",
      "\n",
      "Epoch 00012: LearningRateScheduler reducing learning rate to 0.0002500000118743628.\n",
      "Epoch 12/20\n",
      "19998/20000 [============================>.] - ETA: 0s - loss: 0.2201 - model_entropy: 0.1643\n",
      "Epoch 00012: val_loss did not improve from 0.30171\n",
      "20000/20000 [==============================] - 392s 20ms/step - loss: 0.2201 - model_entropy: 0.1643 - val_loss: 0.3036 - val_model_entropy: 0.1688\n",
      "\n",
      "Epoch 00013: LearningRateScheduler reducing learning rate to 0.0002500000118743628.\n",
      "Epoch 13/20\n",
      "19997/20000 [============================>.] - ETA: 0s - loss: 0.2198 - model_entropy: 0.1645\n",
      "Epoch 00013: val_loss did not improve from 0.30171\n",
      "20000/20000 [==============================] - 392s 20ms/step - loss: 0.2198 - model_entropy: 0.1645 - val_loss: 0.3059 - val_model_entropy: 0.1695\n",
      "\n",
      "Epoch 00014: LearningRateScheduler reducing learning rate to 0.0002500000118743628.\n",
      "Epoch 14/20\n",
      "19996/20000 [============================>.] - ETA: 0s - loss: 0.2198 - model_entropy: 0.1648\n",
      "Epoch 00014: val_loss did not improve from 0.30171\n",
      "20000/20000 [==============================] - 392s 20ms/step - loss: 0.2198 - model_entropy: 0.1648 - val_loss: 0.3038 - val_model_entropy: 0.1655\n",
      "\n",
      "Epoch 00015: LearningRateScheduler reducing learning rate to 0.0002500000118743628.\n",
      "Epoch 15/20\n",
      "19999/20000 [============================>.] - ETA: 0s - loss: 0.2193 - model_entropy: 0.1643\n",
      "Epoch 00015: val_loss did not improve from 0.30171\n",
      "20000/20000 [==============================] - 393s 20ms/step - loss: 0.2193 - model_entropy: 0.1643 - val_loss: 0.3048 - val_model_entropy: 0.1615\n",
      "\n",
      "Epoch 00016: LearningRateScheduler reducing learning rate to 0.0002500000118743628.\n",
      "Epoch 16/20\n",
      "19997/20000 [============================>.] - ETA: 0s - loss: 0.2190 - model_entropy: 0.1632\n",
      "Epoch 00016: val_loss did not improve from 0.30171\n",
      "20000/20000 [==============================] - 392s 20ms/step - loss: 0.2190 - model_entropy: 0.1633 - val_loss: 0.3051 - val_model_entropy: 0.1595\n",
      "\n",
      "Epoch 00017: LearningRateScheduler reducing learning rate to 0.0002500000118743628.\n",
      "Epoch 17/20\n",
      "19996/20000 [============================>.] - ETA: 0s - loss: 0.2185 - model_entropy: 0.1621\n",
      "Epoch 00017: val_loss did not improve from 0.30171\n",
      "20000/20000 [==============================] - 393s 20ms/step - loss: 0.2185 - model_entropy: 0.1621 - val_loss: 0.3033 - val_model_entropy: 0.1657\n",
      "\n",
      "Epoch 00018: LearningRateScheduler reducing learning rate to 0.0002500000118743628.\n",
      "Epoch 18/20\n",
      "19998/20000 [============================>.] - ETA: 0s - loss: 0.2184 - model_entropy: 0.1630\n",
      "Epoch 00018: val_loss did not improve from 0.30171\n",
      "20000/20000 [==============================] - 392s 20ms/step - loss: 0.2184 - model_entropy: 0.1630 - val_loss: 0.3057 - val_model_entropy: 0.1678\n",
      "\n",
      "Epoch 00019: LearningRateScheduler reducing learning rate to 0.0002500000118743628.\n",
      "Epoch 19/20\n",
      "19995/20000 [============================>.] - ETA: 0s - loss: 0.2203 - model_entropy: 0.1641\n",
      "Epoch 00019: val_loss improved from 0.30171 to 0.30135, saving model to ../data/test/plancksis-ba-20000.h5\n",
      "20000/20000 [==============================] - 392s 20ms/step - loss: 0.2203 - model_entropy: 0.1641 - val_loss: 0.3013 - val_model_entropy: 0.1568\n",
      "\n",
      "Epoch 00020: LearningRateScheduler reducing learning rate to 0.0001250000059371814.\n",
      "Epoch 20/20\n",
      "19999/20000 [============================>.] - ETA: 0s - loss: 0.2197 - model_entropy: 0.1638\n",
      "Epoch 00020: val_loss did not improve from 0.30135\n",
      "20000/20000 [==============================] - 393s 20ms/step - loss: 0.2197 - model_entropy: 0.1638 - val_loss: 0.3068 - val_model_entropy: 0.1639\n"
     ]
    }
   ],
   "source": [
    "experiment.train_model()"
   ]
  },
  {
   "cell_type": "code",
   "execution_count": 6,
   "metadata": {
    "scrolled": false
   },
   "outputs": [
    {
     "name": "stderr",
     "output_type": "stream",
     "text": [
      " 33%|███▎      | 440/1340 [00:00<00:00, 4397.99it/s]"
     ]
    },
    {
     "name": "stdout",
     "output_type": "stream",
     "text": [
      "Computing TrueStarLTPMetrics\n"
     ]
    },
    {
     "name": "stderr",
     "output_type": "stream",
     "text": [
      "100%|██████████| 1340/1340 [00:00<00:00, 4078.72it/s]\n",
      "  2%|▏         | 31/1340 [00:00<00:04, 307.75it/s]"
     ]
    },
    {
     "name": "stdout",
     "output_type": "stream",
     "text": [
      "Computing GNNStarLTPMetrics\n"
     ]
    },
    {
     "name": "stderr",
     "output_type": "stream",
     "text": [
      "100%|██████████| 1340/1340 [00:01<00:00, 931.74it/s]\n"
     ]
    }
   ],
   "source": [
    "experiment.load_model(best=True)\n",
    "experiment.metrics[\"TrueStarLTPMetrics\"].compute(experiment)\n",
    "experiment.metrics[\"GNNStarLTPMetrics\"].compute(experiment)"
   ]
  },
  {
   "cell_type": "code",
   "execution_count": 7,
   "metadata": {},
   "outputs": [
    {
     "data": {
      "text/plain": [
       "[<matplotlib.lines.Line2D at 0x7f7c3b3de4e0>]"
      ]
     },
     "execution_count": 7,
     "metadata": {},
     "output_type": "execute_result"
    },
    {
     "data": {
      "image/png": "[encoded data removed]",
      "text/plain": [
       "<Figure size 432x288 with 1 Axes>"
      ]
     },
     "metadata": {},
     "output_type": "display_data"
    }
   ],
   "source": [
    "data = experiment.metrics[\"TrueStarLTPMetrics\"].aggregate(in_state=0, out_state=1)\n",
    "plt.plot(data[0], data[1])\n",
    "data = experiment.metrics[\"TrueStarLTPMetrics\"].aggregate(in_state=1, out_state=0)\n",
    "plt.plot(data[0], data[1])\n",
    "\n",
    "data = experiment.metrics[\"GNNStarLTPMetrics\"].aggregate(in_state=0, out_state=1)\n",
    "plt.plot(data[0], data[1])\n",
    "data = experiment.metrics[\"GNNStarLTPMetrics\"].aggregate(in_state=1, out_state=0)\n",
    "plt.plot(data[0], data[1])"
   ]
  },
  {
   "cell_type": "code",
   "execution_count": 8,
   "metadata": {
    "scrolled": true
   },
   "outputs": [
    {
     "name": "stderr",
     "output_type": "stream",
     "text": [
      "\r",
      "Thresholds:   0%|          | 0/34 [00:00<?, ?it/s]"
     ]
    },
    {
     "name": "stdout",
     "output_type": "stream",
     "text": [
      "Computing TruePEMFMetrics\n"
     ]
    },
    {
     "name": "stderr",
     "output_type": "stream",
     "text": [
      "Thresholds: 100%|██████████| 34/34 [00:10<00:00,  3.56it/s]\n",
      "Fixed points: 100%|██████████| 140/140 [00:31<00:00,  4.63it/s]\n",
      "Thresholds:   0%|          | 0/34 [00:00<?, ?it/s]"
     ]
    },
    {
     "name": "stdout",
     "output_type": "stream",
     "text": [
      "Computing GNNPEMFMetrics\n"
     ]
    },
    {
     "name": "stderr",
     "output_type": "stream",
     "text": [
      "Thresholds: 100%|██████████| 34/34 [00:24<00:00,  1.88it/s]\n",
      "Fixed points: 100%|██████████| 140/140 [01:11<00:00,  2.17it/s]\n"
     ]
    }
   ],
   "source": [
    "\n",
    "experiment.metrics[\"TruePEMFMetrics\"].epsilon = 1e-2\n",
    "experiment.metrics[\"TruePEMFMetrics\"].compute(experiment)\n",
    "experiment.metrics[\"GNNPEMFMetrics\"].epsilon = 1e-2\n",
    "experiment.metrics[\"GNNPEMFMetrics\"].compute(experiment)"
   ]
  },
  {
   "cell_type": "code",
   "execution_count": 11,
   "metadata": {},
   "outputs": [
    {
     "data": {
      "text/plain": [
       "<matplotlib.patches.Polygon at 0x7f7c0d633b70>"
      ]
     },
     "execution_count": 11,
     "metadata": {},
     "output_type": "execute_result"
    },
    {
     "data": {
      "image/png": "[encoded data removed]",
      "text/plain": [
       "<Figure size 432x288 with 1 Axes>"
      ]
     },
     "metadata": {},
     "output_type": "display_data"
    }
   ],
   "source": [
    "x = experiment.metrics[\"TruePEMFMetrics\"].data[\"parameters\"]\n",
    "y = experiment.metrics[\"TruePEMFMetrics\"].data[\"fixed_points\"]\n",
    "t = experiment.metrics[\"TruePEMFMetrics\"].data[\"thresholds\"]\n",
    "plt.plot(x, 1 - y[0,:,0], 'b')\n",
    "plt.plot(x, 1 - y[1,:,0], 'b')\n",
    "plt.axvspan(t[0], t[1], color=\"b\", alpha=0.3)\n",
    "\n",
    "x = experiment.metrics[\"GNNPEMFMetrics\"].data[\"parameters\"]\n",
    "y = experiment.metrics[\"GNNPEMFMetrics\"].data[\"fixed_points\"]\n",
    "t = experiment.metrics[\"GNNPEMFMetrics\"].data[\"thresholds\"]\n",
    "plt.plot(x, 1 - y[0,:,0], 'r')\n",
    "plt.plot(x, 1 - y[1,:,0], 'r')\n",
    "plt.axvspan(t[0], t[1], color=\"r\", alpha=0.3)\n",
    "\n",
    "# plt.axvline(t[0], color=\"b\", alpha=0.3, linestyle='-')\n",
    "\n",
    "# x = experiment.metrics[\"PoissonEpidemicsMFMetrics\"].parameters\n",
    "# y1 = experiment.metrics[\"PoissonEpidemicsMFMetrics\"].data[\"gnn_low_fp\"]\n",
    "# y2 = experiment.metrics[\"PoissonEpidemicsMFMetrics\"].data[\"gnn_high_fp\"]\n",
    "# t = experiment.metrics[\"PoissonEpidemicsMFMetrics\"].data[\"gnn_thresholds\"]\n",
    "# plt.plot(x, 1 - y1[:,0], ls='--', c='r')\n",
    "# plt.plot(x, 1 - y2[:,0], ls='--', c='r')\n",
    "# plt.axvspan(t[0], t[1], color=\"r\", alpha=0.3)\n",
    "# plt.xlim([2, 6])"
   ]
  },
  {
   "cell_type": "code",
   "execution_count": null,
   "metadata": {},
   "outputs": [],
   "source": []
  }
 ],
 "metadata": {
  "kernelspec": {
   "display_name": "Python 3",
   "language": "python",
   "name": "python3"
  },
  "language_info": {
   "codemirror_mode": {
    "name": "ipython",
    "version": 3
   },
   "file_extension": ".py",
   "mimetype": "text/x-python",
   "name": "python",
   "nbconvert_exporter": "python",
   "pygments_lexer": "ipython3",
   "version": "3.6.5"
  }
 },
 "nbformat": 4,
 "nbformat_minor": 2
}
