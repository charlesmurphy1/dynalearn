{
 "cells": [
  {
   "cell_type": "code",
   "execution_count": 1,
   "metadata": {},
   "outputs": [
    {
     "name": "stderr",
     "output_type": "stream",
     "text": [
      "/home/charles/anaconda3/lib/python3.6/site-packages/tensorflow/python/framework/dtypes.py:523: FutureWarning: Passing (type, 1) or '1type' as a synonym of type is deprecated; in a future version of numpy, it will be understood as (type, (1,)) / '(1,)type'.\n",
      "  _np_qint8 = np.dtype([(\"qint8\", np.int8, 1)])\n",
      "/home/charles/anaconda3/lib/python3.6/site-packages/tensorflow/python/framework/dtypes.py:524: FutureWarning: Passing (type, 1) or '1type' as a synonym of type is deprecated; in a future version of numpy, it will be understood as (type, (1,)) / '(1,)type'.\n",
      "  _np_quint8 = np.dtype([(\"quint8\", np.uint8, 1)])\n",
      "/home/charles/anaconda3/lib/python3.6/site-packages/tensorflow/python/framework/dtypes.py:525: FutureWarning: Passing (type, 1) or '1type' as a synonym of type is deprecated; in a future version of numpy, it will be understood as (type, (1,)) / '(1,)type'.\n",
      "  _np_qint16 = np.dtype([(\"qint16\", np.int16, 1)])\n",
      "/home/charles/anaconda3/lib/python3.6/site-packages/tensorflow/python/framework/dtypes.py:526: FutureWarning: Passing (type, 1) or '1type' as a synonym of type is deprecated; in a future version of numpy, it will be understood as (type, (1,)) / '(1,)type'.\n",
      "  _np_quint16 = np.dtype([(\"quint16\", np.uint16, 1)])\n",
      "/home/charles/anaconda3/lib/python3.6/site-packages/tensorflow/python/framework/dtypes.py:527: FutureWarning: Passing (type, 1) or '1type' as a synonym of type is deprecated; in a future version of numpy, it will be understood as (type, (1,)) / '(1,)type'.\n",
      "  _np_qint32 = np.dtype([(\"qint32\", np.int32, 1)])\n",
      "/home/charles/anaconda3/lib/python3.6/site-packages/tensorflow/python/framework/dtypes.py:532: FutureWarning: Passing (type, 1) or '1type' as a synonym of type is deprecated; in a future version of numpy, it will be understood as (type, (1,)) / '(1,)type'.\n",
      "  np_resource = np.dtype([(\"resource\", np.ubyte, 1)])\n"
     ]
    }
   ],
   "source": [
    "import numpy as np\n",
    "import dynalearn as dl\n",
    "import matplotlib.pyplot as plt\n",
    "import tensorflow as tf\n",
    "import os"
   ]
  },
  {
   "cell_type": "code",
   "execution_count": 2,
   "metadata": {},
   "outputs": [],
   "source": [
    "dynamics_config = {\n",
    "        \"name\": \"PlanckSIS\",\n",
    "        \"params\": {\"temperature\": 6, \"recovery\": 0.08, \"init\": \"None\"},\n",
    "    }\n",
    "graph_config = {\"name\": \"BAGraph\", \"params\": {\"N\": 1000, \"M\": 2}}\n",
    "model_config = dl.models.GNNConfig.SISGNN()\n",
    "metric_config = dl.metrics.MetricsConfig.PlanckSISMetrics()\n",
    "\n",
    "metric_config.num_nodes = 2000\n",
    "num_sample = 10000\n",
    "name = \"plancksis-ba-ns{0}\".format(num_sample)\n",
    "\n",
    "path_to_model = \"../data/training/models\"\n",
    "path_to_data = os.path.join(\"../data/training\", name)\n",
    "training_config = dl.TrainingConfig.default()\n",
    "training_config.num_sample = num_sample\n",
    "training_config.step_per_epoch = num_sample\n",
    "\n",
    "config = {\n",
    "    \"name\": name,\n",
    "    \"graph\": graph_config,\n",
    "    \"dynamics\": dynamics_config,\n",
    "    \"model\": {\"name\": \"EpidemicPredictor\", \"config\": model_config},\n",
    "\n",
    "    \"generator\": {\n",
    "        \"name\": \"DynamicsGenerator\",\n",
    "        \"config\": dl.datasets.GeneratorConfig.default(),\n",
    "        \"sampler\": {\n",
    "            \"name\": \"StateBiasedSampler\",\n",
    "            \"config\": dl.datasets.samplers.SamplerConfig.BiasedSamplerDefault(\n",
    "                dynamics_config, 0.6\n",
    "            ),\n",
    "        },\n",
    "    },\n",
    "    \"metrics\": {\n",
    "        \"name\": [\n",
    "            \"TrueStarLTPMetrics\",\n",
    "            \"GNNStarLTPMetrics\",\n",
    "            \"TruePEMFMetrics\",\n",
    "            \"GNNPEMFMetrics\",\n",
    "            \"TruePESSMetrics\",\n",
    "            \"GNNPESSMetrics\",\n",
    "        ],\n",
    "        \"config\": metric_config,\n",
    "    },\n",
    "    \"training\": training_config,\n",
    "    \"path_to_data\": path_to_data,\n",
    "    \"path_to_model\": path_to_model,\n",
    "}"
   ]
  },
  {
   "cell_type": "code",
   "execution_count": 3,
   "metadata": {},
   "outputs": [],
   "source": [
    "tf_config = tf.ConfigProto()\n",
    "tf_config.gpu_options.allow_growth = True\n",
    "session = tf.Session(config=tf_config)\n",
    "experiment = dl.Experiment(config, verbose=1)\n"
   ]
  },
  {
   "cell_type": "code",
   "execution_count": 17,
   "metadata": {
    "scrolled": false
   },
   "outputs": [
    {
     "name": "stderr",
     "output_type": "stream",
     "text": [
      "100%|██████████| 1340/1340 [00:00<00:00, 7163.63it/s]"
     ]
    },
    {
     "name": "stdout",
     "output_type": "stream",
     "text": [
      "Computing TrueStarLTPMetrics\n"
     ]
    },
    {
     "name": "stderr",
     "output_type": "stream",
     "text": [
      "\n",
      "  0%|          | 0/1340 [00:00<?, ?it/s]"
     ]
    },
    {
     "name": "stdout",
     "output_type": "stream",
     "text": [
      "Computing GNNStarLTPMetrics\n"
     ]
    },
    {
     "name": "stderr",
     "output_type": "stream",
     "text": [
      "100%|██████████| 1340/1340 [00:01<00:00, 1134.01it/s]\n"
     ]
    }
   ],
   "source": [
    "experiment.load_model(best=True)\n",
    "experiment.metrics[\"TrueStarLTPMetrics\"].compute(experiment)\n",
    "experiment.metrics[\"GNNStarLTPMetrics\"].compute(experiment)"
   ]
  },
  {
   "cell_type": "code",
   "execution_count": 18,
   "metadata": {},
   "outputs": [
    {
     "data": {
      "text/plain": [
       "[<matplotlib.lines.Line2D at 0x7f8c7287b780>]"
      ]
     },
     "execution_count": 18,
     "metadata": {},
     "output_type": "execute_result"
    },
    {
     "data": {
      "image/png": "[encoded data removed]",
      "text/plain": [
       "<Figure size 432x288 with 1 Axes>"
      ]
     },
     "metadata": {
      "needs_background": "light"
     },
     "output_type": "display_data"
    }
   ],
   "source": [
    "data = experiment.metrics[\"TrueStarLTPMetrics\"].aggregate(in_state=0, out_state=1)\n",
    "plt.plot(data[0], data[1])\n",
    "data = experiment.metrics[\"TrueStarLTPMetrics\"].aggregate(in_state=1, out_state=0)\n",
    "plt.plot(data[0], data[1])\n",
    "\n",
    "data = experiment.metrics[\"GNNStarLTPMetrics\"].aggregate(in_state=0, out_state=1)\n",
    "plt.plot(data[0], data[1])\n",
    "data = experiment.metrics[\"GNNStarLTPMetrics\"].aggregate(in_state=1, out_state=0)\n",
    "plt.plot(data[0], data[1])"
   ]
  },
  {
   "cell_type": "code",
   "execution_count": 4,
   "metadata": {
    "scrolled": true
   },
   "outputs": [
    {
     "name": "stderr",
     "output_type": "stream",
     "text": [
      "\r",
      "Thresholds:   0%|          | 0/34 [00:00<?, ?it/s]"
     ]
    },
    {
     "name": "stdout",
     "output_type": "stream",
     "text": [
      "Computing TruePEMFMetrics\n"
     ]
    },
    {
     "name": "stderr",
     "output_type": "stream",
     "text": [
      "Thresholds: 100%|██████████| 34/34 [00:07<00:00,  4.25it/s]\n",
      "Fixed points: 100%|██████████| 140/140 [00:27<00:00,  5.14it/s]\n",
      "Thresholds:   0%|          | 0/34 [00:00<?, ?it/s]"
     ]
    },
    {
     "name": "stdout",
     "output_type": "stream",
     "text": [
      "Computing GNNPEMFMetrics\n"
     ]
    },
    {
     "name": "stderr",
     "output_type": "stream",
     "text": [
      "Thresholds: 100%|██████████| 34/34 [00:16<00:00,  2.12it/s]\n",
      "Fixed points: 100%|██████████| 140/140 [00:46<00:00,  3.01it/s]\n"
     ]
    }
   ],
   "source": [
    "experiment.load_model(best=True)\n",
    "\n",
    "experiment.metrics[\"TruePEMFMetrics\"].compute(experiment)\n",
    "experiment.metrics[\"GNNPEMFMetrics\"].compute(experiment)"
   ]
  },
  {
   "cell_type": "code",
   "execution_count": 5,
   "metadata": {},
   "outputs": [
    {
     "data": {
      "text/plain": [
       "<matplotlib.patches.Polygon at 0x7fd71e2e40f0>"
      ]
     },
     "execution_count": 5,
     "metadata": {},
     "output_type": "execute_result"
    },
    {
     "data": {
      "image/png": "[encoded data removed]",
      "text/plain": [
       "<Figure size 432x288 with 1 Axes>"
      ]
     },
     "metadata": {
      "needs_background": "light"
     },
     "output_type": "display_data"
    }
   ],
   "source": [
    "x = experiment.metrics[\"TruePEMFMetrics\"].data[\"parameters\"]\n",
    "y = experiment.metrics[\"TruePEMFMetrics\"].data[\"fixed_points\"]\n",
    "t = experiment.metrics[\"TruePEMFMetrics\"].data[\"thresholds\"]\n",
    "plt.plot(x, 1 - y[0,:,0], 'b')\n",
    "plt.plot(x, 1 - y[1,:,0], 'b')\n",
    "plt.axvspan(t[0], t[1], color=\"b\", alpha=0.3)\n",
    "\n",
    "x = experiment.metrics[\"GNNPEMFMetrics\"].data[\"parameters\"]\n",
    "y = experiment.metrics[\"GNNPEMFMetrics\"].data[\"fixed_points\"]\n",
    "t = experiment.metrics[\"GNNPEMFMetrics\"].data[\"thresholds\"]\n",
    "plt.plot(x, 1 - y[0,:,0], 'r')\n",
    "plt.plot(x, 1 - y[1,:,0], 'r')\n",
    "plt.axvspan(t[0], t[1], color=\"r\", alpha=0.3)\n",
    "\n",
    "# plt.axvline(t[0], color=\"b\", alpha=0.3, linestyle='-')\n",
    "\n",
    "# x = experiment.metrics[\"PoissonEpidemicsMFMetrics\"].parameters\n",
    "# y1 = experiment.metrics[\"PoissonEpidemicsMFMetrics\"].data[\"gnn_low_fp\"]\n",
    "# y2 = experiment.metrics[\"PoissonEpidemicsMFMetrics\"].data[\"gnn_high_fp\"]\n",
    "# t = experiment.metrics[\"PoissonEpidemicsMFMetrics\"].data[\"gnn_thresholds\"]\n",
    "# plt.plot(x, 1 - y1[:,0], ls='--', c='r')\n",
    "# plt.plot(x, 1 - y2[:,0], ls='--', c='r')\n",
    "# plt.axvspan(t[0], t[1], color=\"r\", alpha=0.3)\n",
    "# plt.xlim([2, 6])"
   ]
  },
  {
   "cell_type": "code",
   "execution_count": 12,
   "metadata": {},
   "outputs": [
    {
     "name": "stderr",
     "output_type": "stream",
     "text": [
      "\r",
      "  0%|          | 0/200 [00:00<?, ?it/s]"
     ]
    },
    {
     "name": "stdout",
     "output_type": "stream",
     "text": [
      "Computing TruePESSMetrics\n"
     ]
    },
    {
     "name": "stderr",
     "output_type": "stream",
     "text": [
      "100%|██████████| 200/200 [04:56<00:00,  1.48s/it]\n",
      "  0%|          | 0/200 [00:00<?, ?it/s]"
     ]
    },
    {
     "name": "stdout",
     "output_type": "stream",
     "text": [
      "Computing GNNPESSMetrics\n"
     ]
    },
    {
     "name": "stderr",
     "output_type": "stream",
     "text": [
      "100%|██████████| 200/200 [14:48<00:00,  4.44s/it]\n"
     ]
    }
   ],
   "source": [
    "experiment.load_model(best=True)\n",
    "\n",
    "experiment.metrics[\"TruePESSMetrics\"].epsilon = 1e-2\n",
    "experiment.metrics[\"TruePESSMetrics\"].num_samples = 10\n",
    "experiment.metrics[\"TruePESSMetrics\"].parameters = np.linspace(2, 6, 10)\n",
    "experiment.metrics[\"TruePESSMetrics\"].burn = 200\n",
    "\n",
    "experiment.metrics[\"GNNPESSMetrics\"].epsilon = 1e-2\n",
    "experiment.metrics[\"GNNPESSMetrics\"].num_samples = 10\n",
    "experiment.metrics[\"GNNPESSMetrics\"].parameters = np.linspace(2, 6, 10)\n",
    "experiment.metrics[\"GNNPESSMetrics\"].burn = 200\n",
    "\n",
    "experiment.metrics[\"TruePESSMetrics\"].compute(experiment)\n",
    "experiment.metrics[\"GNNPESSMetrics\"].compute(experiment)"
   ]
  },
  {
   "cell_type": "code",
   "execution_count": 13,
   "metadata": {},
   "outputs": [
    {
     "data": {
      "text/plain": [
       "<matplotlib.collections.PolyCollection at 0x7f21200a5208>"
      ]
     },
     "execution_count": 13,
     "metadata": {},
     "output_type": "execute_result"
    },
    {
     "data": {
      "image/png": "[encoded data removed]",
      "text/plain": [
       "<Figure size 432x288 with 1 Axes>"
      ]
     },
     "metadata": {
      "needs_background": "light"
     },
     "output_type": "display_data"
    }
   ],
   "source": [
    "x = experiment.metrics[\"TruePESSMetrics\"].data[\"parameters\"]\n",
    "y = experiment.metrics[\"TruePESSMetrics\"].data[\"avg\"]\n",
    "err = experiment.metrics[\"TruePESSMetrics\"].data[\"std\"]\n",
    "plt.plot(x, 1 - y[0,:,0], 'b', marker='o')\n",
    "plt.plot(x, 1 - y[1,:,0], 'b', marker='o')\n",
    "plt.fill_between(x, 1 - y[0,:,0] - err[0,:,0], 1 - y[0,:,0] + err[0,:,0], color='b', alpha=0.3)\n",
    "plt.fill_between(x, 1 - y[1,:,0] - err[1,:,0], 1 - y[1,:,0] + err[1,:,0], color='b', alpha=0.3)\n",
    "\n",
    "x = experiment.metrics[\"GNNPESSMetrics\"].data[\"parameters\"]\n",
    "y = experiment.metrics[\"GNNPESSMetrics\"].data[\"avg\"]\n",
    "err = experiment.metrics[\"GNNPESSMetrics\"].data[\"std\"]\n",
    "plt.plot(x, 1 - y[0,:,0], 'r', marker='o')\n",
    "plt.plot(x, 1 - y[1,:,0], 'r', marker='o')\n",
    "plt.fill_between(x, 1 - y[0,:,0] - err[0,:,0], 1 - y[0,:,0] + err[0,:,0], color='r', alpha=0.3)\n",
    "plt.fill_between(x, 1 - y[1,:,0] - err[1,:,0], 1 - y[1,:,0] + err[1,:,0], color='r', alpha=0.3)\n",
    "\n",
    "# plt.xlim([2, 6])\n"
   ]
  },
  {
   "cell_type": "code",
   "execution_count": null,
   "metadata": {},
   "outputs": [],
   "source": []
  }
 ],
 "metadata": {
  "kernelspec": {
   "display_name": "Python 3",
   "language": "python",
   "name": "python3"
  },
  "language_info": {
   "codemirror_mode": {
    "name": "ipython",
    "version": 3
   },
   "file_extension": ".py",
   "mimetype": "text/x-python",
   "name": "python",
   "nbconvert_exporter": "python",
   "pygments_lexer": "ipython3",
   "version": "3.6.9"
  }
 },
 "nbformat": 4,
 "nbformat_minor": 2
}
