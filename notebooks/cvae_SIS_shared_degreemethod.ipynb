{
 "cells": [
  {
   "cell_type": "code",
   "execution_count": 1,
   "metadata": {},
   "outputs": [],
   "source": [
    "import dynalearn as dl\n",
    "import pickle\n",
    "import numpy as np\n",
    "import networkx as nx\n",
    "import matplotlib.pyplot as plt\n",
    "import torch\n",
    "import os"
   ]
  },
  {
   "cell_type": "code",
   "execution_count": 2,
   "metadata": {},
   "outputs": [],
   "source": [
    "def chain_graph(n):\n",
    "    g = nx.Graph()\n",
    "    g.add_node(0)\n",
    "    for i in range(1, n):\n",
    "        g.add_node(i)\n",
    "        g.add_edge(i - 1, i)\n",
    "    g.name = 'chain_n{0}'.format(n)\n",
    "    return g\n",
    "\n",
    "def complete_graph(n):\n",
    "    g = nx.complete_graph(n)\n",
    "    g.name = 'complete_n{0}'.format(n)\n",
    "    return g\n",
    "\n",
    "def star_graph(n):\n",
    "    g = nx.Graph()\n",
    "    g.add_node(0)\n",
    "    for i in range(1, n):\n",
    "        g.add_edge(0, i)\n",
    "    g.name = 'star_n{0}'.format(n)\n",
    "    return g\n",
    "\n",
    "def regular_graph(n, d):\n",
    "    g = nx.random_regular_graph(d, n)\n",
    "    g.name = 'regular_n{0}_d{1}'.format(n, d)\n",
    "    return g"
   ]
  },
  {
   "cell_type": "code",
   "execution_count": 42,
   "metadata": {},
   "outputs": [],
   "source": [
    "# Generating the network\n",
    "n_nodes = 4\n",
    "T = 50\n",
    "dt = 0.1\n",
    "rate = 0.2\n",
    "train_sample = 50000\n",
    "val_sample = 10000\n",
    "approach = \"degreeMethod\"\n",
    "\n",
    "graph = complete_graph(n_nodes)\n",
    "# graph = chain_graph(n_nodes)\n",
    "# graph = star_graph(n_nodes)\n",
    "\n",
    "# Generating the dataset\n",
    "transform = [dl.SIS_StateToFloat(), dl.ResizeData([1, n_nodes])]\n",
    "train_dataset = dl.SISDataset(rate / dt)\n",
    "val_dataset = dl.SISDataset(rate / dt)\n",
    "train_dataset.generate(graph, train_sample, T, init_active=0.01, dt=dt,\n",
    "                       pre_transform=transform, null_activity_steps=100)\n",
    "val_dataset.generate(graph, val_sample, T, init_active=0.01, dt=dt,\n",
    "                     pre_transform=transform, null_activity_steps=100)\n",
    "\n",
    "f_prefix = 'data/' + approach + \"_\" + graph.name + \"_SIS_rate{0}_dt{1}\".format(rate / dt, dt)"
   ]
  },
  {
   "cell_type": "code",
   "execution_count": 43,
   "metadata": {
    "scrolled": false
   },
   "outputs": [
    {
     "data": {
      "image/png": "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\n",
      "text/plain": [
       "<Figure size 432x288 with 1 Axes>"
      ]
     },
     "metadata": {},
     "output_type": "display_data"
    }
   ],
   "source": [
    "def show_dataset(dataset):\n",
    "    avg = []\n",
    "    for i in range(len(dataset)):\n",
    "        x = dataset[i][0].numpy()\n",
    "        avg.append(np.mean(x))\n",
    "    return avg\n",
    "avg = show_dataset(train_dataset)\n",
    "plt.plot(avg)\n",
    "plt.show()"
   ]
  },
  {
   "cell_type": "code",
   "execution_count": 44,
   "metadata": {
    "scrolled": true
   },
   "outputs": [],
   "source": [
    "n_hidden = [64, 32]\n",
    "n_embedding = 1\n",
    "keepprob = 0.9\n",
    "lr = 1e-2\n",
    "wd = 1e-3\n",
    "optimizer = lambda p: torch.optim.Adam(p, lr=lr, weight_decay=wd)\n",
    "loss = torch.nn.BCELoss(reduction='none')\n",
    "scheduler = lambda o: torch.optim.lr_scheduler.ReduceLROnPlateau(o, patience=5, factor=0.2)\n",
    "use_cuda = torch.cuda.is_available()\n",
    "\n",
    "model = dl.basicMarkovDegreeVAE(graph, n_hidden, n_embedding, kmax=None,\n",
    "                                keepprob=keepprob, optimizer=optimizer, loss=loss, scheduler=scheduler,\n",
    "                                use_cuda=use_cuda)"
   ]
  },
  {
   "cell_type": "code",
<<<<<<< HEAD
   "execution_count": 78,
   "metadata": {
    "collapsed": false
   },
=======
   "execution_count": 45,
   "metadata": {},
>>>>>>> 7be7cde5291c1a36de4acf9533ccb2bb7686cbc3
   "outputs": [
    {
     "name": "stdout",
     "output_type": "stream",
     "text": [
      "New best Epoch: 0 - Time: 0.00\n",
      "\t Train. - loss: 2.3386, recon: 0.6839, kl_div: 1.6547, \n",
      "\t Val. - loss: 2.3387, recon: 0.6836, kl_div: 1.6551, \n",
      "New best Epoch: 1 - Time: 6.70, lr: 0.01\n",
      "\t Train. - loss: 0.0914, recon: 0.0846, kl_div: 0.0069, \n",
      "\t Val. - loss: 0.0961, recon: 0.0890, kl_div: 0.0071, \n",
      "New best Epoch: 2 - Time: 6.26, lr: 0.01\n",
      "\t Train. - loss: 0.0795, recon: 0.0793, kl_div: 0.0001, \n",
      "\t Val. - loss: 0.0832, recon: 0.0830, kl_div: 0.0001, \n",
      "Epoch: 3 - Time: 6.31, lr: 0.01\n",
      "New best Epoch: 4 - Time: 6.23, lr: 0.01\n",
      "\t Train. - loss: 0.0789, recon: 0.0789, kl_div: 0.0000, \n",
      "\t Val. - loss: 0.0813, recon: 0.0813, kl_div: 0.0000, \n",
      "New best Epoch: 5 - Time: 6.31, lr: 0.01\n",
      "\t Train. - loss: 0.0784, recon: 0.0784, kl_div: 0.0000, \n",
      "\t Val. - loss: 0.0807, recon: 0.0807, kl_div: 0.0000, \n",
      "Epoch: 6 - Time: 6.32, lr: 0.01\n",
      "Epoch: 7 - Time: 6.31, lr: 0.01\n",
      "Epoch: 8 - Time: 6.30, lr: 0.01\n",
      "Epoch: 9 - Time: 6.34, lr: 0.01\n",
      "New best Epoch: 10 - Time: 6.25, lr: 0.01\n",
      "\t Train. - loss: 0.0786, recon: 0.0786, kl_div: 0.0000, \n",
      "\t Val. - loss: 0.0806, recon: 0.0806, kl_div: 0.0000, \n",
      "Epoch: 11 - Time: 6.32, lr: 0.01\n",
      "Epoch: 12 - Time: 6.27, lr: 0.01\n",
      "Epoch: 13 - Time: 6.25, lr: 0.01\n",
      "Epoch: 14 - Time: 6.35, lr: 0.01\n",
      "Epoch: 15 - Time: 6.29, lr: 0.01\n",
      "Epoch: 16 - Time: 6.28, lr: 0.01\n",
      "Epoch: 17 - Time: 6.29, lr: 0.002\n",
      "Epoch: 18 - Time: 6.33, lr: 0.002\n",
      "Epoch: 19 - Time: 6.27, lr: 0.002\n",
      "Epoch: 20 - Time: 6.29, lr: 0.002\n",
      "Epoch: 21 - Time: 6.33, lr: 0.002\n",
      "Epoch: 22 - Time: 6.34, lr: 0.002\n",
      "Epoch: 23 - Time: 6.30, lr: 0.0004\n",
      "Epoch: 24 - Time: 6.33, lr: 0.0004\n",
      "Epoch: 25 - Time: 6.33, lr: 0.0004\n",
      "Epoch: 26 - Time: 6.31, lr: 0.0004\n",
      "Epoch: 27 - Time: 6.20, lr: 0.0004\n",
      "New best Epoch: 28 - Time: 6.31, lr: 0.0004\n",
      "\t Train. - loss: 0.0779, recon: 0.0779, kl_div: 0.0000, \n",
      "\t Val. - loss: 0.0805, recon: 0.0805, kl_div: 0.0000, \n",
      "Epoch: 29 - Time: 6.30, lr: 0.0004\n",
      "Epoch: 30 - Time: 6.33, lr: 0.0004\n",
      "Epoch: 31 - Time: 6.31, lr: 0.0004\n",
      "Epoch: 32 - Time: 6.29, lr: 0.0004\n",
      "New best Epoch: 33 - Time: 6.32, lr: 0.0004\n",
      "\t Train. - loss: 0.0783, recon: 0.0783, kl_div: 0.0000, \n",
      "\t Val. - loss: 0.0805, recon: 0.0805, kl_div: 0.0000, \n",
      "Epoch: 34 - Time: 6.34, lr: 0.0004\n",
      "Epoch: 35 - Time: 6.35, lr: 0.0004\n",
      "Epoch: 36 - Time: 6.30, lr: 0.0004\n",
      "Epoch: 37 - Time: 6.30, lr: 0.0004\n",
      "Epoch: 38 - Time: 6.28, lr: 0.0004\n",
      "Epoch: 39 - Time: 6.31, lr: 0.0004\n",
      "Epoch: 40 - Time: 6.29, lr: 8e-05\n",
      "Epoch: 41 - Time: 6.31, lr: 8e-05\n",
      "Epoch: 42 - Time: 6.31, lr: 8e-05\n",
      "Epoch: 43 - Time: 6.34, lr: 8e-05\n",
      "Epoch: 44 - Time: 6.33, lr: 8e-05\n",
      "Epoch: 45 - Time: 6.34, lr: 8e-05\n",
      "Epoch: 46 - Time: 6.29, lr: 1.6000000000000003e-05\n",
      "Epoch: 47 - Time: 6.32, lr: 1.6000000000000003e-05\n",
      "Epoch: 48 - Time: 6.32, lr: 1.6000000000000003e-05\n",
      "Epoch: 49 - Time: 6.35, lr: 1.6000000000000003e-05\n",
      "Epoch: 50 - Time: 6.33, lr: 1.6000000000000003e-05\n"
     ]
    },
    {
     "ename": "KeyboardInterrupt",
     "evalue": "",
     "output_type": "error",
     "traceback": [
      "\u001b[0;31m---------------------------------------------------------------------------\u001b[0m",
      "\u001b[0;31mKeyboardInterrupt\u001b[0m                         Traceback (most recent call last)",
      "\u001b[0;32m<ipython-input-78-25a1a8fae7ca>\u001b[0m in \u001b[0;36m<module>\u001b[0;34m()\u001b[0m\n\u001b[1;32m      8\u001b[0m           \u001b[0mmodel_metrics\u001b[0m\u001b[0;34m=\u001b[0m\u001b[0;34m[\u001b[0m\u001b[0;34m'lr'\u001b[0m\u001b[0;34m]\u001b[0m\u001b[0;34m,\u001b[0m\u001b[0;34m\u001b[0m\u001b[0m\n\u001b[1;32m      9\u001b[0m           \u001b[0mshow_var\u001b[0m\u001b[0;34m=\u001b[0m\u001b[0;32mFalse\u001b[0m\u001b[0;34m,\u001b[0m\u001b[0;34m\u001b[0m\u001b[0m\n\u001b[0;32m---> 10\u001b[0;31m           beta=1)\n\u001b[0m",
      "\u001b[0;32m/home/charles/Documents/ulaval/doctorat/projects/dynalearn/dynalearn/models/vae/markov_vae.py\u001b[0m in \u001b[0;36mfit\u001b[0;34m(self, train_dataset, val_dataset, epochs, batch_size, verbose, keep_best, training_metrics, model_metrics, show_var, beta)\u001b[0m\n\u001b[1;32m    264\u001b[0m                 \u001b[0mrecon\u001b[0m\u001b[0;34m,\u001b[0m \u001b[0mKL\u001b[0m \u001b[0;34m=\u001b[0m \u001b[0mself\u001b[0m\u001b[0;34m.\u001b[0m\u001b[0m_model_loss\u001b[0m\u001b[0;34m(\u001b[0m\u001b[0mpresent\u001b[0m\u001b[0;34m,\u001b[0m \u001b[0moutputs\u001b[0m\u001b[0;34m,\u001b[0m \u001b[0mbeta\u001b[0m\u001b[0;34m)\u001b[0m\u001b[0;34m\u001b[0m\u001b[0m\n\u001b[1;32m    265\u001b[0m                 \u001b[0mloss\u001b[0m \u001b[0;34m=\u001b[0m \u001b[0mrecon\u001b[0m \u001b[0;34m+\u001b[0m \u001b[0mKL\u001b[0m\u001b[0;34m\u001b[0m\u001b[0m\n\u001b[0;32m--> 266\u001b[0;31m                 \u001b[0mloss\u001b[0m\u001b[0;34m.\u001b[0m\u001b[0mbackward\u001b[0m\u001b[0;34m(\u001b[0m\u001b[0;34m)\u001b[0m\u001b[0;34m\u001b[0m\u001b[0m\n\u001b[0m\u001b[1;32m    267\u001b[0m                 \u001b[0mself\u001b[0m\u001b[0;34m.\u001b[0m\u001b[0moptimizer\u001b[0m\u001b[0;34m.\u001b[0m\u001b[0mstep\u001b[0m\u001b[0;34m(\u001b[0m\u001b[0;34m)\u001b[0m\u001b[0;34m\u001b[0m\u001b[0m\n\u001b[1;32m    268\u001b[0m \u001b[0;34m\u001b[0m\u001b[0m\n",
      "\u001b[0;32m/home/charles/anaconda3/lib/python3.6/site-packages/torch/tensor.py\u001b[0m in \u001b[0;36mbackward\u001b[0;34m(self, gradient, retain_graph, create_graph)\u001b[0m\n\u001b[1;32m    100\u001b[0m                 \u001b[0mproducts\u001b[0m\u001b[0;34m.\u001b[0m \u001b[0mDefaults\u001b[0m \u001b[0mto\u001b[0m\u001b[0;31m \u001b[0m\u001b[0;31m`\u001b[0m\u001b[0;31m`\u001b[0m\u001b[0;32mFalse\u001b[0m\u001b[0;31m`\u001b[0m\u001b[0;31m`\u001b[0m\u001b[0;34m.\u001b[0m\u001b[0;34m\u001b[0m\u001b[0m\n\u001b[1;32m    101\u001b[0m         \"\"\"\n\u001b[0;32m--> 102\u001b[0;31m         \u001b[0mtorch\u001b[0m\u001b[0;34m.\u001b[0m\u001b[0mautograd\u001b[0m\u001b[0;34m.\u001b[0m\u001b[0mbackward\u001b[0m\u001b[0;34m(\u001b[0m\u001b[0mself\u001b[0m\u001b[0;34m,\u001b[0m \u001b[0mgradient\u001b[0m\u001b[0;34m,\u001b[0m \u001b[0mretain_graph\u001b[0m\u001b[0;34m,\u001b[0m \u001b[0mcreate_graph\u001b[0m\u001b[0;34m)\u001b[0m\u001b[0;34m\u001b[0m\u001b[0m\n\u001b[0m\u001b[1;32m    103\u001b[0m \u001b[0;34m\u001b[0m\u001b[0m\n\u001b[1;32m    104\u001b[0m     \u001b[0;32mdef\u001b[0m \u001b[0mregister_hook\u001b[0m\u001b[0;34m(\u001b[0m\u001b[0mself\u001b[0m\u001b[0;34m,\u001b[0m \u001b[0mhook\u001b[0m\u001b[0;34m)\u001b[0m\u001b[0;34m:\u001b[0m\u001b[0;34m\u001b[0m\u001b[0m\n",
      "\u001b[0;32m/home/charles/anaconda3/lib/python3.6/site-packages/torch/autograd/__init__.py\u001b[0m in \u001b[0;36mbackward\u001b[0;34m(tensors, grad_tensors, retain_graph, create_graph, grad_variables)\u001b[0m\n\u001b[1;32m     88\u001b[0m     Variable._execution_engine.run_backward(\n\u001b[1;32m     89\u001b[0m         \u001b[0mtensors\u001b[0m\u001b[0;34m,\u001b[0m \u001b[0mgrad_tensors\u001b[0m\u001b[0;34m,\u001b[0m \u001b[0mretain_graph\u001b[0m\u001b[0;34m,\u001b[0m \u001b[0mcreate_graph\u001b[0m\u001b[0;34m,\u001b[0m\u001b[0;34m\u001b[0m\u001b[0m\n\u001b[0;32m---> 90\u001b[0;31m         allow_unreachable=True)  # allow_unreachable flag\n\u001b[0m\u001b[1;32m     91\u001b[0m \u001b[0;34m\u001b[0m\u001b[0m\n\u001b[1;32m     92\u001b[0m \u001b[0;34m\u001b[0m\u001b[0m\n",
      "\u001b[0;31mKeyboardInterrupt\u001b[0m: "
     ]
    }
   ],
   "source": [
    "model.fit(train_dataset,\n",
    "          val_dataset=val_dataset,\n",
    "          epochs=50,\n",
    "          batch_size=128,\n",
    "          verbose=True,\n",
    "          keep_best=True,\n",
    "          training_metrics=['loss', 'recon', 'kl_div'],\n",
    "          model_metrics=['lr'],\n",
    "          show_var=False,\n",
    "          beta=1)"
   ]
  },
  {
   "cell_type": "code",
   "execution_count": 46,
   "metadata": {},
   "outputs": [],
   "source": [
    "model.save_state(f_prefix)"
   ]
  },
  {
   "cell_type": "code",
   "execution_count": 47,
   "metadata": {
    "scrolled": true
   },
   "outputs": [
    {
     "data": {
      "image/png": "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\n",
      "text/plain": [
       "<Figure size 1152x288 with 4 Axes>"
      ]
     },
     "metadata": {},
     "output_type": "display_data"
    }
   ],
   "source": [
    "fig, ax = plt.subplots(1, 4,figsize=(16, 4))\n",
    "_ax = {}\n",
    "metrics = ['loss', 'recon', 'kl_div', 'lr']\n",
    "for i, m in enumerate(metrics):\n",
    "#     ax[i].set_xscale('log')\n",
    "    ax[i].set_yscale('log')\n",
    "    _ax[m] = ax[i]\n",
    "\n",
    "model.history.plot(training_metrics = ['loss', 'recon', 'kl_div'], model_metrics=['lr'],ax=(fig,_ax))\n",
    "plt.tight_layout()\n",
    "\n",
    "fig.savefig(os.path.join(f_prefix, 'training.png'))\n",
    "plt.show()"
   ]
  },
  {
   "cell_type": "code",
   "execution_count": 48,
   "metadata": {},
   "outputs": [],
   "source": [
    "def get_transitionProb(graph, model, dataset, epsilon=None):\n",
    "    N = graph.number_of_nodes()\n",
    "    all_states = train_dataset.enumerate_all_states(graph)\n",
    "    \n",
    "    realTransProb = np.zeros([len(all_states), len(all_states)])\n",
    "    learnedTransProb = np.zeros([len(all_states), len(all_states)])\n",
    "    for j, past in enumerate(all_states):\n",
    "        _past = torch.tensor(past).float()\n",
    "        _past = _past.view(1, N)\n",
    "        \n",
    "        realProb = train_dataset.get_transition_probability(graph, past, dt)\n",
    "        \n",
    "        learnedProb, _, _ = model.predict(_past, batch_size=1)\n",
    "        learnedProb = np.mean(learnedProb, 0)\n",
    "        \n",
    "        for i, present in enumerate(all_states):\n",
    "            present_real_prob = present * realProb + (1 - present) * (1 - realProb)\n",
    "            present_learned_prob = present * learnedProb + (1 - present) * (1 - learnedProb)\n",
    "            realTransProb[i, j] = np.prod(present_real_prob)\n",
    "            learnedTransProb[i, j] = np.prod(present_learned_prob)\n",
    "    \n",
    "    if epsilon:\n",
    "        realTransProb[realTransProb == 0] = epsilon\n",
    "        learnedTransProb[learnedTransProb == 0] = epsilon\n",
    "    \n",
    "    realTransProb /= np.sum(realTransProb, 0)\n",
    "    learnedTransProb /= np.sum(learnedTransProb, 0)\n",
    "    \n",
    "    return realTransProb, learnedTransProb\n",
    "\n",
    "\n",
    "def bit_to_value(array):\n",
    "    d = array.shape\n",
    "    bit = 2**np.arange(d)\n",
    "    return np.sum(array * bit)\n",
    "\n",
    "def bit_to_value_torch(array):\n",
    "    d = array.size(1)\n",
    "    bit = 2**torch.arange(d).float()\n",
    "    return int(torch.sum(array * bit))\n",
    "    \n",
    "\n",
    "def get_transitionOccurence(graph, dataset, epsilon=None):\n",
    "    all_states = train_dataset.enumerate_all_states(graph)\n",
    "    n = graph.number_of_nodes()\n",
    "    occurence = np.zeros([2**n, 2**n])\n",
    "    data = dataset.complete_data\n",
    "    \n",
    "    for d in data:\n",
    "        present, past = d\n",
    "        i, j = bit_to_value_torch(present), bit_to_value_torch(past)\n",
    "        \n",
    "        occurence[i, j] += 1\n",
    "    \n",
    "    if epsilon:\n",
    "        occurence[occurence == 0] = epsilon\n",
    "    \n",
    "    return occurence / np.sum(occurence)"
   ]
  },
  {
   "cell_type": "code",
   "execution_count": 49,
   "metadata": {},
   "outputs": [],
   "source": [
    "realTransProb, learnedTransProb = get_transitionProb(graph, model, train_dataset, epsilon=1e-50)\n",
    "occurence = get_transitionOccurence(graph, train_dataset, epsilon=1e-50)\n",
    "\n",
    "np.savetxt(os.path.join(f_prefix, \"real_transition_prob.txt\"), realTransProb)\n",
    "np.savetxt(os.path.join(f_prefix, \"learned_transition_prob.txt\"), learnedTransProb)\n",
    "np.savetxt(os.path.join(f_prefix, \"config_occurence.txt\"), occurence)"
   ]
  },
  {
   "cell_type": "code",
   "execution_count": 50,
   "metadata": {
    "scrolled": true
   },
   "outputs": [
    {
     "data": {
      "image/png": "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\n",
      "text/plain": [
       "<Figure size 1152x360 with 6 Axes>"
      ]
     },
     "metadata": {},
     "output_type": "display_data"
    }
   ],
   "source": [
    "fig, ax = plt.subplots(1, 3, figsize=(16, 5))\n",
    "\n",
    "cs = ax[0].imshow(np.log(realTransProb), origin='lower', vmin=-20, vmax=0)\n",
    "# cs = ax[0].imshow(realTransProb, origin='lower')\n",
    "# ax[0].xaxis.tick_top()\n",
    "ax[0].set_xlabel('Past')\n",
    "ax[0].set_ylabel('Present')\n",
    "ax[0].set_title('Real dynamics')\n",
    "plt.colorbar(cs, ax=ax[0])\n",
    "\n",
    "ax[1].imshow(np.log(learnedTransProb), origin='lower', vmin=-20, vmax=0)\n",
    "# ax[1].imshow(learnedTransProb, origin='lower')\n",
    "# ax[1].xaxis.tick_top()\n",
    "ax[1].set_xlabel('Past')\n",
    "ax[1].set_ylabel('Present')\n",
    "ax[1].set_title('Learned model')\n",
    "plt.colorbar(cs, ax=ax[1])\n",
    "\n",
    "cs = ax[2].imshow(np.log(occurence), origin='lower', vmin=-20, vmax=0)\n",
    "ax[2].set_xlabel('Past')\n",
    "ax[2].set_ylabel('Present')\n",
    "ax[2].set_title('Training dataset occurence')\n",
    "plt.colorbar(cs, ax=ax[2])\n",
    "plt.tight_layout()\n",
    "\n",
    "fig.savefig(os.path.join(f_prefix, \"transition_prob.png\"))\n",
    "\n",
    "plt.show()"
   ]
  },
  {
   "cell_type": "code",
   "execution_count": 53,
   "metadata": {
    "scrolled": true
   },
   "outputs": [
    {
     "name": "stdout",
     "output_type": "stream",
     "text": [
      "tensor([[[0., 0., 0., 0.],\n",
      "         [0., 1., 0., 0.],\n",
      "         [1., 0., 0., 0.],\n",
      "         [0., 0., 0., 0.],\n",
      "         [0., 0., 0., 0.]]], device='cuda:0')\n"
     ]
    },
    {
     "data": {
      "text/plain": [
       "tensor([[[0.9977, 0.0378, 0.9929, 0.9971]]], device='cuda:0',\n",
       "       grad_fn=<SigmoidBackward>)"
      ]
     },
     "execution_count": 53,
     "metadata": {},
     "output_type": "execute_result"
    }
   ],
   "source": [
    "past = torch.zeros(1, model.encoder.kmax + 2, n_nodes)\n",
    "past[0, 0, 0] = 0\n",
    "past[0, 2, 0] = 1\n",
    "\n",
    "past[0, 0, 1] = 0\n",
    "past[0, 1, 1] = 1\n",
    "\n",
    "z = torch.rand(1, 1, n_nodes)\n",
    "if torch.cuda.is_available():\n",
    "    past = past.cuda()\n",
    "    z = z.cuda()\n",
    "print(past)\n",
    "\n",
    "model.decoder(z, past)\n"
   ]
  },
  {
   "cell_type": "code",
   "execution_count": null,
   "metadata": {},
   "outputs": [],
   "source": []
  }
 ],
 "metadata": {
  "kernelspec": {
   "display_name": "Python 3",
   "language": "python",
   "name": "python3"
  },
  "language_info": {
   "codemirror_mode": {
    "name": "ipython",
    "version": 3
   },
   "file_extension": ".py",
   "mimetype": "text/x-python",
   "name": "python",
   "nbconvert_exporter": "python",
   "pygments_lexer": "ipython3",
   "version": "3.6.5"
  }
 },
 "nbformat": 4,
 "nbformat_minor": 2
}
