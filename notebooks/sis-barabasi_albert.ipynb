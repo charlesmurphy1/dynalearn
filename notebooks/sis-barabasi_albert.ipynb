{
 "cells": [
  {
   "cell_type": "markdown",
   "metadata": {},
   "source": [
    "# GNN training for SIS dynamics on a BA network"
   ]
  },
  {
   "cell_type": "markdown",
   "metadata": {},
   "source": [
    "## Including relevant packages"
   ]
  },
  {
   "cell_type": "code",
   "execution_count": 2,
   "metadata": {},
   "outputs": [],
   "source": [
    "import numpy as np\n",
    "import matplotlib.pyplot as plt\n",
    "import dynalearn as dl\n",
    "import tqdm\n",
    "from scipy.spatial.distance import jensenshannon\n",
    "import tensorflow as tf\n",
    "import tensorflow.keras as ks\n",
    "import tensorflow.keras.backend as K\n"
   ]
  },
  {
   "cell_type": "markdown",
   "metadata": {},
   "source": [
    "## Parameters and hyperparameters"
   ]
  },
  {
   "cell_type": "code",
   "execution_count": 3,
   "metadata": {},
   "outputs": [
    {
     "ename": "NameError",
     "evalue": "name 'NUM_NODES' is not defined",
     "output_type": "error",
     "traceback": [
      "\u001b[0;31m---------------------------------------------------------------------------\u001b[0m",
      "\u001b[0;31mNameError\u001b[0m                                 Traceback (most recent call last)",
      "\u001b[0;32m<ipython-input-3-bbd2b9ca08f7>\u001b[0m in \u001b[0;36m<module>\u001b[0;34m()\u001b[0m\n\u001b[1;32m      4\u001b[0m         \u001b[0;34m\"params\"\u001b[0m\u001b[0;34m:\u001b[0m\u001b[0;34m\u001b[0m\u001b[0m\n\u001b[1;32m      5\u001b[0m         {\n\u001b[0;32m----> 6\u001b[0;31m             \u001b[0;34m\"N\"\u001b[0m\u001b[0;34m:\u001b[0m \u001b[0mNUM_NODES\u001b[0m\u001b[0;34m,\u001b[0m\u001b[0;34m\u001b[0m\u001b[0m\n\u001b[0m\u001b[1;32m      7\u001b[0m             \u001b[0;34m\"DENSITYLABEL\"\u001b[0m\u001b[0;34m:\u001b[0m \u001b[0mDENSITY\u001b[0m\u001b[0;34m\u001b[0m\u001b[0m\n\u001b[1;32m      8\u001b[0m         }\n",
      "\u001b[0;31mNameError\u001b[0m: name 'NUM_NODES' is not defined"
     ]
    }
   ],
   "source": [
    "params ={\"graph\":\n",
    "    {\n",
    "        \"name\": \"BAGraph\",\n",
    "        \"params\":\n",
    "        {\n",
    "            \"N\": 1000,\n",
    "            \"M\": 2\n",
    "        }\n",
    "    },\n",
    " \"dynamics\":\n",
    "    {\n",
    "        \"name\": \"SIS\",\n",
    "        \"params\":\n",
    "        {\n",
    "            \"infection_prob\": 0.04,\n",
    "            \"recovery_prob\": 0.08,\n",
    "            \"init_param\": 0.01\n",
    "        }\n",
    "    },\n",
    " \"model\":\n",
    "    {\n",
    "        \"name\": \"LocalStatePredictor\",\n",
    "        \"params\":\n",
    "        {\n",
    "            \"in_features\": [32],\n",
    "            \"attn_features\": [32],\n",
    "            \"out_features\": [32],\n",
    "            \"n_heads\": [1],\n",
    "            \"in_activation\": \"relu\",\n",
    "            \"attn_activation\": \"relu\",\n",
    "            \"out_activation\": \"relu\",\n",
    "            \"weight_decay\": 0.0001\n",
    "        }\n",
    "    },\n",
    " \"generator\":\n",
    "    {\n",
    "        \"name\": \"DynamicsGenerator\",\n",
    "        \"params\":\n",
    "        {\n",
    "            \"batch_size\": -1,\n",
    "            \"num_graphs\": 1,\n",
    "            \"num_sample\": 10000,\n",
    "            \"T\": 10000,\n",
    "            \"val_fraction\": 0.01,\n",
    "            \"max_null_iter\": 1,\n",
    "            \"with_truth\": 0\n",
    "        }\n",
    "    },\n",
    " \"sampler\":\n",
    "    {\n",
    "        \"name\": \"StateBiasedSampler\",\n",
    "        \"params\":\n",
    "        {\n",
    "            \"sampling_bias\": 1,\n",
    "            \"validation_bias\": 1,\n",
    "            \"replace\":1,\n",
    "            \"resample\":1000,\n",
    "            \"sample_from_weights\":0\n",
    "        }\n",
    "    },\n",
    " \"training\":\n",
    "    {\n",
    "        \"optimizer\": \"Adam\",\n",
    "        \"loss\": \"noisy_crossentropy\",\n",
    "        \"learning_rate\": 0.0005,\n",
    "        \"schedule\": {\"epoch\":10, \"factor\":2},\n",
    "        \"target_noise\": 0,\n",
    "        \"steps_per_epoch\": 10000,\n",
    "        \"validation_steps\": 10000,\n",
    "        \"pretrain_epochs\": 5,\n",
    "        \"epochs\": 15\n",
    "    },\n",
    " \"np_seed\": 1,\n",
    " \"tf_seed\": 2,\n",
    " \"path\": \"PATH_TO_EXP\",\n",
    " \"name\": \"EXP_NAME\",\n",
    " \"path_to_best\": \"/\",\n",
    " \"path_to_last\": \"PATH_TO_LAST_MODEL\"\n",
    "}\n"
   ]
  },
  {
   "cell_type": "code",
   "execution_count": null,
   "metadata": {},
   "outputs": [],
   "source": []
  }
 ],
 "metadata": {
  "kernelspec": {
   "display_name": "Python 3",
   "language": "python",
   "name": "python3"
  },
  "language_info": {
   "codemirror_mode": {
    "name": "ipython",
    "version": 3
   },
   "file_extension": ".py",
   "mimetype": "text/x-python",
   "name": "python",
   "nbconvert_exporter": "python",
   "pygments_lexer": "ipython3",
   "version": "3.6.5"
  }
 },
 "nbformat": 4,
 "nbformat_minor": 2
}
