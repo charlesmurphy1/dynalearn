{
 "cells": [
  {
   "cell_type": "markdown",
   "metadata": {},
   "source": [
    "# GNN training for SIS dynamics on a BA network"
   ]
  },
  {
   "cell_type": "markdown",
   "metadata": {},
   "source": [
    "## Including relevant packages"
   ]
  },
  {
   "cell_type": "code",
   "execution_count": 25,
   "metadata": {},
   "outputs": [],
   "source": [
    "import numpy as np\n",
    "import matplotlib.pyplot as plt\n",
    "import dynalearn as dl\n",
    "import tqdm\n",
    "from scipy.spatial.distance import jensenshannon\n",
    "import tensorflow as tf\n",
    "import tensorflow.keras as ks\n",
    "import tensorflow.keras.backend as K\n",
    "import os\n",
    "import getpass\n",
    "from matplotlib.lines import Line2D\n",
    "\n",
    "\n",
    "\n"
   ]
  },
  {
   "cell_type": "markdown",
   "metadata": {},
   "source": [
    "## Parameters and hyperparameters"
   ]
  },
  {
   "cell_type": "code",
   "execution_count": 2,
   "metadata": {},
   "outputs": [],
   "source": [
    "path_to_dir = \"/home/\" + getpass.getuser() + \"/Documents/ulaval/doctorat/projects/dynalearn/data/training/\"\n",
    "if os.path.exists(\"media/\" + getpass.getuser() + \"LaCie/\"):\n",
    "    path_to_dir = \"media/\" + getpass.getuser() + \"LaCie/dynalearn-data/training/\"\n",
    "    \n",
    "    \n",
    "\n",
    "param_dict = {\n",
    "    \"name\": \"sis_ba_0\",\n",
    "    \"graph\": {\"name\": \"BAGraph\", \"params\": {\"N\": 1000, \"M\": 2}},\n",
    "    \"dynamics\": {\n",
    "        \"name\": \"SIS\",\n",
    "        \"params\": {\"infection_prob\": 0.04, \"recovery_prob\": 0.08, \"init_state\": \"None\"},\n",
    "    },\n",
    "    \"model\": {\n",
    "        \"name\": \"LocalStatePredictor\",\n",
    "        \"params\": {\n",
    "            \"in_features\": [32],\n",
    "            \"attn_features\": [32],\n",
    "            \"out_features\": [32],\n",
    "            \"n_heads\": [1],\n",
    "            \"in_activation\": \"relu\",\n",
    "            \"attn_activation\": \"relu\",\n",
    "            \"out_activation\": \"relu\",\n",
    "            \"weight_decay\": 0.0001,\n",
    "            \"tf_seed\": 2,\n",
    "        },\n",
    "    },\n",
    "    \"generator\": {\n",
    "        \"name\": \"DynamicsGenerator\",\n",
    "        \"params\": {\n",
    "            \"batch_size\": -1,\n",
    "            \"num_graphs\": 1,\n",
    "            \"num_sample\": 100,\n",
    "            \"resampling_time\": 2,\n",
    "            \"val_fraction\": 0.01,\n",
    "            \"max_null_iter\": 1,\n",
    "            \"with_truth\": 0,\n",
    "        },\n",
    "        \"sampler\": {\n",
    "            \"name\": \"StateBiasedSampler\",\n",
    "            \"params\": {\n",
    "                \"sampling_bias\": 0.6,\n",
    "                \"val_bias\": 0.8,\n",
    "                \"replace\": 1,\n",
    "                \"resample\": 100,\n",
    "                \"sample_from_weights\": 0,\n",
    "            },\n",
    "        },\n",
    "    },\n",
    "    \"config\": {\n",
    "        \"optimizer\": \"Adam\",\n",
    "        \"initial_lr\": 0.0005,\n",
    "        \"loss\": \"categorical_crossentropy\",\n",
    "        \"schedule\": {\"epoch\": 10, \"factor\": 2},\n",
    "        \"epochs\": 20,\n",
    "        \"np_seed\": 1,\n",
    "    },\n",
    "    \"metrics\": [\n",
    "        \"AttentionMetrics\",\n",
    "        \"TrueLTPMetrics\",\n",
    "        \"GNNLTPMetrics\",\n",
    "        \"MLELTPMetrics\",\n",
    "        \"TrueStarLTPMetrics\",\n",
    "        \"GNNStarLTPMetrics\",\n",
    "        \"StatisticsMetrics\",\n",
    "    ],\n",
    "    \"path_to_dir\": path_to_dir,\n",
    "    \"filename_data\": \"data.h5\",\n",
    "    \"filename_metrics\": \"metrics.h5\",\n",
    "    \"filename_model\": \"model.h5\",\n",
    "    \"filename_bestmodel\": \"bestmodel.h5\",\n",
    "}"
   ]
  },
  {
   "cell_type": "markdown",
   "metadata": {},
   "source": [
    "## Loading the experiment settings"
   ]
  },
  {
   "cell_type": "code",
   "execution_count": 3,
   "metadata": {},
   "outputs": [],
   "source": [
    "experiment = dl.Experiment(param_dict)"
   ]
  },
  {
   "cell_type": "markdown",
   "metadata": {},
   "source": [
    "## Generating the training and validation datasets"
   ]
  },
  {
   "cell_type": "code",
   "execution_count": 4,
   "metadata": {
    "scrolled": false
   },
   "outputs": [
    {
     "name": "stderr",
     "output_type": "stream",
     "text": [
      "Generating data - 0.02555s: 100%|██████████| 100/100 [00:02<00:00, 36.05it/s]\n"
     ]
    },
    {
     "name": "stdout",
     "output_type": "stream",
     "text": [
      "Partitioning generator for validation\n"
     ]
    }
   ],
   "source": [
    "if os.path.exists(os.path.join(experiment.path_to_dir, experiment.name, experiment.filename_data)):\n",
    "    experiment.load_data()\n",
    "else:\n",
    "    experiment.generate_data()\n",
    "    experiment.save_data()\n"
   ]
  },
  {
   "cell_type": "markdown",
   "metadata": {},
   "source": [
    "## Training the GNN model"
   ]
  },
  {
   "cell_type": "code",
   "execution_count": 5,
   "metadata": {
    "scrolled": true
   },
   "outputs": [
    {
     "name": "stdout",
     "output_type": "stream",
     "text": [
      "\n",
      "Epoch 00001: LearningRateScheduler reducing learning rate to 0.0005000000237487257.\n",
      "Epoch 1/20\n",
      " 95/100 [===========================>..] - ETA: 0s - loss: 0.6345 - model_entropy: 0.6809\n",
      "Epoch 00001: val_loss improved from inf to 0.53554, saving model to /home/charles_murphy/Documents/ulaval/doctorat/projects/dynalearn/data/training/sis_ba_0/bestmodel.h5\n",
      "100/100 [==============================] - 2s 23ms/step - loss: 0.6348 - model_entropy: 0.6806 - val_loss: 0.5355 - val_model_entropy: 0.6757\n",
      "\n",
      "Epoch 00002: LearningRateScheduler reducing learning rate to 0.0005000000237487257.\n",
      "Epoch 2/20\n",
      " 97/100 [============================>.] - ETA: 0s - loss: 0.5926 - model_entropy: 0.6742\n",
      "Epoch 00002: val_loss improved from 0.53554 to 0.50020, saving model to /home/charles_murphy/Documents/ulaval/doctorat/projects/dynalearn/data/training/sis_ba_0/bestmodel.h5\n",
      "100/100 [==============================] - 2s 16ms/step - loss: 0.5879 - model_entropy: 0.6736 - val_loss: 0.5002 - val_model_entropy: 0.6712\n",
      "\n",
      "Epoch 00003: LearningRateScheduler reducing learning rate to 0.0005000000237487257.\n",
      "Epoch 3/20\n",
      " 98/100 [============================>.] - ETA: 0s - loss: 0.5548 - model_entropy: 0.6626\n",
      "Epoch 00003: val_loss did not improve from 0.50020\n",
      "100/100 [==============================] - 2s 15ms/step - loss: 0.5543 - model_entropy: 0.6624 - val_loss: 0.5915 - val_model_entropy: 0.6521\n",
      "\n",
      "Epoch 00004: LearningRateScheduler reducing learning rate to 0.0005000000237487257.\n",
      "Epoch 4/20\n",
      " 99/100 [============================>.] - ETA: 0s - loss: 0.5269 - model_entropy: 0.6460\n",
      "Epoch 00004: val_loss did not improve from 0.50020\n",
      "100/100 [==============================] - 1s 15ms/step - loss: 0.5263 - model_entropy: 0.6459 - val_loss: 0.5443 - val_model_entropy: 0.6303\n",
      "\n",
      "Epoch 00005: LearningRateScheduler reducing learning rate to 0.0005000000237487257.\n",
      "Epoch 5/20\n",
      " 97/100 [============================>.] - ETA: 0s - loss: 0.4770 - model_entropy: 0.6096\n",
      "Epoch 00005: val_loss improved from 0.50020 to 0.45855, saving model to /home/charles_murphy/Documents/ulaval/doctorat/projects/dynalearn/data/training/sis_ba_0/bestmodel.h5\n",
      "100/100 [==============================] - 2s 16ms/step - loss: 0.4738 - model_entropy: 0.6088 - val_loss: 0.4586 - val_model_entropy: 0.5809\n",
      "\n",
      "Epoch 00006: LearningRateScheduler reducing learning rate to 0.0005000000237487257.\n",
      "Epoch 6/20\n",
      " 98/100 [============================>.] - ETA: 0s - loss: 0.3735 - model_entropy: 0.5330\n",
      "Epoch 00006: val_loss did not improve from 0.45855\n",
      "100/100 [==============================] - 2s 15ms/step - loss: 0.3715 - model_entropy: 0.5317 - val_loss: 0.4604 - val_model_entropy: 0.4868\n",
      "\n",
      "Epoch 00007: LearningRateScheduler reducing learning rate to 0.0005000000237487257.\n",
      "Epoch 7/20\n",
      " 98/100 [============================>.] - ETA: 0s - loss: 0.3382 - model_entropy: 0.4440\n",
      "Epoch 00007: val_loss improved from 0.45855 to 0.40326, saving model to /home/charles_murphy/Documents/ulaval/doctorat/projects/dynalearn/data/training/sis_ba_0/bestmodel.h5\n",
      "100/100 [==============================] - 2s 15ms/step - loss: 0.3354 - model_entropy: 0.4430 - val_loss: 0.4033 - val_model_entropy: 0.4049\n",
      "\n",
      "Epoch 00008: LearningRateScheduler reducing learning rate to 0.0005000000237487257.\n",
      "Epoch 8/20\n",
      " 95/100 [===========================>..] - ETA: 0s - loss: 0.3092 - model_entropy: 0.3789\n",
      "Epoch 00008: val_loss improved from 0.40326 to 0.39087, saving model to /home/charles_murphy/Documents/ulaval/doctorat/projects/dynalearn/data/training/sis_ba_0/bestmodel.h5\n",
      "100/100 [==============================] - 2s 15ms/step - loss: 0.3091 - model_entropy: 0.3783 - val_loss: 0.3909 - val_model_entropy: 0.3568\n",
      "\n",
      "Epoch 00009: LearningRateScheduler reducing learning rate to 0.0005000000237487257.\n",
      "Epoch 9/20\n",
      " 97/100 [============================>.] - ETA: 0s - loss: 0.3034 - model_entropy: 0.3446\n",
      "Epoch 00009: val_loss did not improve from 0.39087\n",
      "100/100 [==============================] - 2s 15ms/step - loss: 0.3034 - model_entropy: 0.3445 - val_loss: 0.4176 - val_model_entropy: 0.3398\n",
      "\n",
      "Epoch 00010: LearningRateScheduler reducing learning rate to 0.0002500000118743628.\n",
      "Epoch 10/20\n",
      " 99/100 [============================>.] - ETA: 0s - loss: 0.3049 - model_entropy: 0.3451\n",
      "Epoch 00010: val_loss improved from 0.39087 to 0.38315, saving model to /home/charles_murphy/Documents/ulaval/doctorat/projects/dynalearn/data/training/sis_ba_0/bestmodel.h5\n",
      "100/100 [==============================] - 2s 16ms/step - loss: 0.3055 - model_entropy: 0.3451 - val_loss: 0.3831 - val_model_entropy: 0.3368\n",
      "\n",
      "Epoch 00011: LearningRateScheduler reducing learning rate to 0.0002500000118743628.\n",
      "Epoch 11/20\n",
      " 99/100 [============================>.] - ETA: 0s - loss: 0.2953 - model_entropy: 0.3323\n",
      "Epoch 00011: val_loss did not improve from 0.38315\n",
      "100/100 [==============================] - 2s 15ms/step - loss: 0.2950 - model_entropy: 0.3322 - val_loss: 0.4461 - val_model_entropy: 0.3293\n",
      "\n",
      "Epoch 00012: LearningRateScheduler reducing learning rate to 0.0002500000118743628.\n",
      "Epoch 12/20\n",
      " 96/100 [===========================>..] - ETA: 0s - loss: 0.2962 - model_entropy: 0.3323\n",
      "Epoch 00012: val_loss did not improve from 0.38315\n",
      "100/100 [==============================] - 2s 16ms/step - loss: 0.2994 - model_entropy: 0.3324 - val_loss: 0.4145 - val_model_entropy: 0.3273\n",
      "\n",
      "Epoch 00013: LearningRateScheduler reducing learning rate to 0.0002500000118743628.\n",
      "Epoch 13/20\n",
      " 95/100 [===========================>..] - ETA: 0s - loss: 0.2917 - model_entropy: 0.3276\n",
      "Epoch 00013: val_loss did not improve from 0.38315\n",
      "100/100 [==============================] - 2s 15ms/step - loss: 0.2921 - model_entropy: 0.3272 - val_loss: 0.4252 - val_model_entropy: 0.3217\n",
      "\n",
      "Epoch 00014: LearningRateScheduler reducing learning rate to 0.0002500000118743628.\n",
      "Epoch 14/20\n",
      " 96/100 [===========================>..] - ETA: 0s - loss: 0.3065 - model_entropy: 0.3259\n",
      "Epoch 00014: val_loss did not improve from 0.38315\n",
      "100/100 [==============================] - 2s 15ms/step - loss: 0.3080 - model_entropy: 0.3260 - val_loss: 0.4082 - val_model_entropy: 0.3323\n",
      "\n",
      "Epoch 00015: LearningRateScheduler reducing learning rate to 0.0002500000118743628.\n",
      "Epoch 15/20\n",
      " 95/100 [===========================>..] - ETA: 0s - loss: 0.2960 - model_entropy: 0.3289\n",
      "Epoch 00015: val_loss improved from 0.38315 to 0.35548, saving model to /home/charles_murphy/Documents/ulaval/doctorat/projects/dynalearn/data/training/sis_ba_0/bestmodel.h5\n",
      "100/100 [==============================] - 2s 15ms/step - loss: 0.2937 - model_entropy: 0.3292 - val_loss: 0.3555 - val_model_entropy: 0.3243\n",
      "\n",
      "Epoch 00016: LearningRateScheduler reducing learning rate to 0.0002500000118743628.\n",
      "Epoch 16/20\n",
      " 99/100 [============================>.] - ETA: 0s - loss: 0.2982 - model_entropy: 0.3184\n",
      "Epoch 00016: val_loss did not improve from 0.35548\n",
      "100/100 [==============================] - 2s 15ms/step - loss: 0.2990 - model_entropy: 0.3184 - val_loss: 0.3649 - val_model_entropy: 0.3174\n",
      "\n",
      "Epoch 00017: LearningRateScheduler reducing learning rate to 0.0002500000118743628.\n",
      "Epoch 17/20\n",
      " 98/100 [============================>.] - ETA: 0s - loss: 0.3055 - model_entropy: 0.3195\n",
      "Epoch 00017: val_loss did not improve from 0.35548\n",
      "100/100 [==============================] - 2s 16ms/step - loss: 0.3053 - model_entropy: 0.3196 - val_loss: 0.3987 - val_model_entropy: 0.3224\n",
      "\n",
      "Epoch 00018: LearningRateScheduler reducing learning rate to 0.0002500000118743628.\n",
      "Epoch 18/20\n",
      " 98/100 [============================>.] - ETA: 0s - loss: 0.2990 - model_entropy: 0.3151\n",
      "Epoch 00018: val_loss did not improve from 0.35548\n",
      "100/100 [==============================] - 2s 15ms/step - loss: 0.2999 - model_entropy: 0.3153 - val_loss: 0.4169 - val_model_entropy: 0.3234\n",
      "\n",
      "Epoch 00019: LearningRateScheduler reducing learning rate to 0.0002500000118743628.\n",
      "Epoch 19/20\n",
      " 98/100 [============================>.] - ETA: 0s - loss: 0.3010 - model_entropy: 0.3220\n",
      "Epoch 00019: val_loss did not improve from 0.35548\n",
      "100/100 [==============================] - 2s 16ms/step - loss: 0.2986 - model_entropy: 0.3217 - val_loss: 0.4209 - val_model_entropy: 0.3215\n",
      "\n",
      "Epoch 00020: LearningRateScheduler reducing learning rate to 0.0001250000059371814.\n",
      "Epoch 20/20\n"
     ]
    },
    {
     "name": "stdout",
     "output_type": "stream",
     "text": [
      " 98/100 [============================>.] - ETA: 0s - loss: 0.2964 - model_entropy: 0.3137\n",
      "Epoch 00020: val_loss did not improve from 0.35548\n",
      "100/100 [==============================] - 2s 15ms/step - loss: 0.2979 - model_entropy: 0.3138 - val_loss: 0.3567 - val_model_entropy: 0.3082\n"
     ]
    }
   ],
   "source": [
    "if os.path.exists(os.path.join(experiment.path_to_dir, experiment.name, experiment.filename_model)):\n",
    "    experiment.load_model()\n",
    "else:\n",
    "    experiment.train_model()\n",
    "    experiment.save_model()"
   ]
  },
  {
   "cell_type": "markdown",
   "metadata": {},
   "source": [
    "## Computing the metrics post training"
   ]
  },
  {
   "cell_type": "code",
   "execution_count": 6,
   "metadata": {},
   "outputs": [
    {
     "name": "stderr",
     "output_type": "stream",
     "text": [
      "Computing AttentionMetrics: 100%|██████████| 100/100 [00:03<00:00, 29.01it/s]\n",
      "Computing TrueLTPMetrics: 100%|██████████| 100/100 [00:02<00:00, 37.76it/s]\n",
      "Computing GNNLTPMetrics: 100%|██████████| 100/100 [00:02<00:00, 34.48it/s]\n",
      "Computing MLELTPMetrics: 100%|██████████| 100/100 [00:02<00:00, 42.38it/s]\n",
      "Computing TrueStarLTPMetrics: 100%|██████████| 1340/1340 [00:00<00:00, 3629.63it/s]\n",
      "Computing GNNStarLTPMetrics: 100%|██████████| 1340/1340 [00:01<00:00, 746.20it/s]\n",
      "Computing StatisticsMetrics: 100%|██████████| 100/100 [00:02<00:00, 46.88it/s]\n"
     ]
    }
   ],
   "source": [
    "if os.path.exists(os.path.join(experiment.path_to_dir, experiment.name, experiment.filename_metrics)):\n",
    "    experiment.load_metric()\n",
    "else:\n",
    "    experiment.compute_metrics()\n",
    "    experiment.save_metrics()"
   ]
  },
  {
   "cell_type": "markdown",
   "metadata": {},
   "source": [
    "## Showing LTPs"
   ]
  },
  {
   "cell_type": "code",
   "execution_count": 36,
   "metadata": {
    "scrolled": false
   },
   "outputs": [
    {
     "name": "stderr",
     "output_type": "stream",
     "text": [
      "/home/charles_murphy/Documents/ulaval/doctorat/projects/dynalearn/dynalearn/metrics/aggregator.py:32: RuntimeWarning: Mean of empty slice\n",
      "  y[i] = op_val(values[index, out_state])\n",
      "/home/charles_murphy/Documents/ulaval/doctorat/projects/dynalearn/dynalearn/metrics/aggregator.py:18: RuntimeWarning: Degrees of freedom <= 0 for slice.\n",
      "  op_err = lambda xx: np.sqrt(np.nanvar(xx))\n"
     ]
    },
    {
     "data": {
      "image/png": "[encoded data removed]",
      "text/plain": [
       "<Figure size 432x288 with 1 Axes>"
      ]
     },
     "metadata": {},
     "output_type": "display_data"
    }
   ],
   "source": [
    "transitions = [(0, 1), (1, 0)]\n",
    "transition_labels = [(\"S\", \"I\"), (\"I\", \"S\")]\n",
    "\n",
    "color_true = [dl.utilities.color_pale[\"blue\"], dl.utilities.color_pale[\"red\"]]\n",
    "color_gnn = [dl.utilities.color_dark[\"blue\"], dl.utilities.color_dark[\"red\"]]\n",
    "handles = []\n",
    "\n",
    "for i, t in enumerate(transitions):\n",
    "    x, y, err = experiment.metrics[\"MLELTPMetrics\"].aggregate(in_state=t[0], out_state=t[1], dataset=\"train\")\n",
    "    plt.errorbar(x, y, yerr=err, linestyle='None', marker='o', color=color_gnn[i], alpha=0.3, \n",
    "                 markeredgewidth=1,\n",
    "                 markeredgecolor='k')\n",
    "    \n",
    "    x, y, err = experiment.metrics[\"GNNLTPMetrics\"].aggregate(in_state=t[0], out_state=t[1], dataset=\"val\")\n",
    "    plt.fill_between(x, y - err, y + err, color=color_gnn[i], alpha=0.3)\n",
    "    plt.plot(x, y, linestyle='--', color=color_gnn[i])\n",
    "    \n",
    "    x, y, err = experiment.metrics[\"TrueLTPMetrics\"].aggregate(in_state=t[0], out_state=t[1], dataset=\"val\")\n",
    "    plt.fill_between(x, y - err, y + err, color=color_gnn[i], alpha=0.3)\n",
    "    plt.plot(x, y, linestyle='-', color=color_true[i])\n",
    "    \n",
    "plt.xlabel(r\"Number of infected neighbors $[\\ell]$\")\n",
    "plt.ylabel(r\"Local transition probability $[p^{\\mu\\to\\nu}_\\ell]$\")\n",
    "plt.show()"
   ]
  },
  {
   "cell_type": "code",
   "execution_count": null,
   "metadata": {},
   "outputs": [],
   "source": []
  }
 ],
 "metadata": {
  "kernelspec": {
   "display_name": "Python 3",
   "language": "python",
   "name": "python3"
  },
  "language_info": {
   "codemirror_mode": {
    "name": "ipython",
    "version": 3
   },
   "file_extension": ".py",
   "mimetype": "text/x-python",
   "name": "python",
   "nbconvert_exporter": "python",
   "pygments_lexer": "ipython3",
   "version": "3.6.5"
  }
 },
 "nbformat": 4,
 "nbformat_minor": 2
}
