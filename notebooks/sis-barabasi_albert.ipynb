{
 "cells": [
  {
   "cell_type": "markdown",
   "metadata": {},
   "source": [
    "# GNN training for SIS dynamics on a BA network"
   ]
  },
  {
   "cell_type": "markdown",
   "metadata": {},
   "source": [
    "## Including relevant packages"
   ]
  },
  {
   "cell_type": "code",
   "execution_count": 1,
   "metadata": {},
   "outputs": [],
   "source": [
    "import numpy as np\n",
    "import matplotlib.pyplot as plt\n",
    "import dynalearn as dl\n",
    "import tqdm\n",
    "from scipy.spatial.distance import jensenshannon\n",
    "import tensorflow as tf\n",
    "import tensorflow.keras as ks\n",
    "import tensorflow.keras.backend as K\n",
    "import os\n",
    "import getpass\n",
    "from matplotlib.lines import Line2D\n",
    "\n",
    "\n",
    "\n"
   ]
  },
  {
   "cell_type": "markdown",
   "metadata": {},
   "source": [
    "## Parameters and hyperparameters"
   ]
  },
  {
   "cell_type": "code",
   "execution_count": 2,
   "metadata": {},
   "outputs": [],
   "source": [
    "path_to_dir = \"/home/\" + getpass.getuser() + \"/Documents/ulaval/doctorat/projects/dynalearn/data/training/\"\n",
    "if os.path.exists(\"media/\" + getpass.getuser() + \"LaCie/\"):\n",
    "    path_to_dir = \"media/\" + getpass.getuser() + \"LaCie/dynalearn-data/training/\"\n",
    "    \n",
    "    \n",
    "\n",
    "param_dict = {\n",
    "    \"name\": \"test_experiment\",\n",
    "    \"graph\": {\"name\": \"BAGraph\", \"params\": {\"N\": 1000, \"M\": 2}},\n",
    "    \"dynamics\": {\n",
    "        \"name\": \"SIS\",\n",
    "        \"params\": {\"infection\": 0.04, \"recovery\": 0.08, \"init\": \"None\"},\n",
    "    },\n",
    "    \"model\": {\n",
    "        \"name\": \"LocalStatePredictor\",\n",
    "        \"params\": {\n",
    "            \"in_features\": [32],\n",
    "            \"attn_features\": [32],\n",
    "            \"out_features\": [32],\n",
    "            \"n_heads\": [1],\n",
    "            \"in_activation\": \"relu\",\n",
    "            \"attn_activation\": \"relu\",\n",
    "            \"out_activation\": \"relu\",\n",
    "            \"weight_decay\": 0.0001,\n",
    "            \"tf_seed\": 2,\n",
    "        },\n",
    "    },\n",
    "    \"generator\": {\n",
    "        \"name\": \"DynamicsGenerator\",\n",
    "        \"params\": {\n",
    "            \"batch_size\": -1,\n",
    "            \"num_graphs\": 1,\n",
    "            \"num_sample\": 100,\n",
    "            \"resampling_time\": 2,\n",
    "            \"val_fraction\": 0.01,\n",
    "            \"max_null_iter\": 1,\n",
    "            \"with_truth\": 0,\n",
    "        },\n",
    "        \"sampler\": {\n",
    "            \"name\": \"StateBiasedSampler\",\n",
    "            \"params\": {\n",
    "                \"sampling_bias\": 0.6,\n",
    "                \"val_bias\": 0.8,\n",
    "                \"replace\": 1,\n",
    "                \"resample\": 1000,\n",
    "                \"sample_from_weights\": 0,\n",
    "            },\n",
    "        },\n",
    "    },\n",
    "    \"config\": {\n",
    "        \"optimizer\": \"Adam\",\n",
    "        \"initial_lr\": 0.0005,\n",
    "        \"loss\": \"categorical_crossentropy\",\n",
    "        \"schedule\": {\"epoch\": 10, \"factor\": 2},\n",
    "        \"epochs\": 20,\n",
    "        \"np_seed\": 1,\n",
    "    },\n",
    "    \"metrics\": [\n",
    "        \"AttentionMetrics\",\n",
    "        \"TrueLTPMetrics\",\n",
    "        \"GNNLTPMetrics\",\n",
    "        \"MLELTPMetrics\",\n",
    "        \"TrueStarLTPMetrics\",\n",
    "        \"GNNStarLTPMetrics\",\n",
    "        \"StatisticsMetrics\",\n",
    "        \"PoissonEpidemicsMFMetrics\",\n",
    "        \"PoissonEpidemicsSSMetrics\",\n",
    "    ],\n",
    "    \"path_to_dir\": path_to_dir,\n",
    "    \"filename_data\": \"data.h5\",\n",
    "    \"filename_metrics\": \"metrics.h5\",\n",
    "    \"filename_model\": \"model.h5\",\n",
    "    \"filename_bestmodel\": \"bestmodel.h5\",\n",
    "}"
   ]
  },
  {
   "cell_type": "markdown",
   "metadata": {},
   "source": [
    "## Loading the experiment settings"
   ]
  },
  {
   "cell_type": "code",
   "execution_count": 3,
   "metadata": {},
   "outputs": [],
   "source": [
    "experiment = dl.Experiment(param_dict)"
   ]
  },
  {
   "cell_type": "markdown",
   "metadata": {},
   "source": [
    "## Generating the training and validation datasets"
   ]
  },
  {
   "cell_type": "code",
   "execution_count": 4,
   "metadata": {
    "scrolled": true
   },
   "outputs": [],
   "source": [
    "overwrite = False\n",
    "if os.path.exists(os.path.join(experiment.path_to_dir, experiment.name, experiment.filename_data)) and not overwrite:\n",
    "    experiment.load_data()\n",
    "else:\n",
    "    experiment.generate_data()\n",
    "    experiment.save_data()\n"
   ]
  },
  {
   "cell_type": "markdown",
   "metadata": {},
   "source": [
    "## Training the GNN model"
   ]
  },
  {
   "cell_type": "code",
   "execution_count": 5,
   "metadata": {
    "scrolled": true
   },
   "outputs": [],
   "source": [
    "if os.path.exists(os.path.join(experiment.path_to_dir, experiment.name, experiment.filename_model)) and not overwrite:\n",
    "    experiment.load_model()\n",
    "else:\n",
    "    experiment.train_model()\n",
    "    experiment.save_model()"
   ]
  },
  {
   "cell_type": "markdown",
   "metadata": {},
   "source": [
    "## Computing the metrics post training"
   ]
  },
  {
   "cell_type": "code",
   "execution_count": 6,
   "metadata": {},
   "outputs": [],
   "source": [
    "if os.path.exists(os.path.join(experiment.path_to_dir, experiment.name, experiment.filename_metrics)) and not overwrite:\n",
    "    experiment.load_metrics()\n",
    "else:\n",
    "    experiment.compute_metrics()\n",
    "    experiment.save_metrics()"
   ]
  },
  {
   "cell_type": "markdown",
   "metadata": {},
   "source": [
    "## Showing LTPs"
   ]
  },
  {
   "cell_type": "code",
   "execution_count": 7,
   "metadata": {
    "scrolled": false
   },
   "outputs": [
    {
     "name": "stderr",
     "output_type": "stream",
     "text": [
      "/home/charles_murphy/Documents/ulaval/doctorat/projects/dynalearn/dynalearn/metrics/aggregator.py:60: RuntimeWarning: Mean of empty slice\n",
      "  y[i] = op_val(values[index, out_state])\n",
      "/home/charles_murphy/Documents/ulaval/doctorat/projects/dynalearn/dynalearn/metrics/aggregator.py:20: RuntimeWarning: Degrees of freedom <= 0 for slice.\n",
      "  op_err = lambda xx: np.sqrt(np.nanvar(xx))\n"
     ]
    },
    {
     "data": {
      "image/png": "[encoded data removed]",
      "text/plain": [
       "<Figure size 432x288 with 1 Axes>"
      ]
     },
     "metadata": {},
     "output_type": "display_data"
    }
   ],
   "source": [
    "transitions = [(0, 1), (1, 0)]\n",
    "transition_labels = [(\"S\", \"I\"), (\"I\", \"S\")]\n",
    "\n",
    "color_true = [dl.utilities.color_pale[\"blue\"], dl.utilities.color_pale[\"red\"]]\n",
    "color_gnn = [dl.utilities.color_dark[\"blue\"], dl.utilities.color_dark[\"red\"]]\n",
    "handles = []\n",
    "\n",
    "for i, t in enumerate(transitions):\n",
    "    x, y, err = experiment.metrics[\"MLELTPMetrics\"].aggregate(experiment.metrics[\"MLELTPMetrics\"].data[\"ltp/train\"], in_state=t[0], out_state=t[1])\n",
    "    plt.errorbar(x, y, yerr=err, linestyle='None', marker='o', color=color_gnn[i], alpha=0.3, \n",
    "                 markeredgewidth=1,\n",
    "                 markeredgecolor='k')\n",
    "    \n",
    "    x, y, err = experiment.metrics[\"GNNLTPMetrics\"].aggregate(experiment.metrics[\"GNNLTPMetrics\"].data[\"ltp/train\"], in_state=t[0], out_state=t[1])\n",
    "    plt.fill_between(x, y - err, y + err, color=color_gnn[i], alpha=0.3)\n",
    "    plt.plot(x, y, linestyle='--', color=color_gnn[i])\n",
    "    \n",
    "    x, y, err = experiment.metrics[\"TrueLTPMetrics\"].aggregate(experiment.metrics[\"TrueLTPMetrics\"].data[\"ltp/train\"],in_state=t[0], out_state=t[1])\n",
    "    plt.fill_between(x, y - err, y + err, color=color_gnn[i], alpha=0.3)\n",
    "    plt.plot(x, y, linestyle='-', color=color_true[i])\n",
    "    \n",
    "plt.xlabel(r\"Number of infected neighbors $[\\ell]$\")\n",
    "plt.ylabel(r\"Local transition probability $[p^{\\mu\\to\\nu}_\\ell]$\")\n",
    "plt.show()"
   ]
  },
  {
   "cell_type": "code",
   "execution_count": null,
   "metadata": {},
   "outputs": [],
   "source": []
  }
 ],
 "metadata": {
  "kernelspec": {
   "display_name": "Python 3",
   "language": "python",
   "name": "python3"
  },
  "language_info": {
   "codemirror_mode": {
    "name": "ipython",
    "version": 3
   },
   "file_extension": ".py",
   "mimetype": "text/x-python",
   "name": "python",
   "nbconvert_exporter": "python",
   "pygments_lexer": "ipython3",
   "version": "3.6.5"
  }
 },
 "nbformat": 4,
 "nbformat_minor": 2
}
