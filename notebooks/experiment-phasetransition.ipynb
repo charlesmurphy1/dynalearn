{
 "cells": [
  {
   "cell_type": "markdown",
   "metadata": {},
   "source": [
    "# Experimentation with the SIS-SIS phase transition "
   ]
  },
  {
   "cell_type": "markdown",
   "metadata": {},
   "source": [
    "### Importing packages"
   ]
  },
  {
   "cell_type": "code",
   "execution_count": 31,
   "metadata": {},
   "outputs": [],
   "source": [
    "import dynalearn as dl\n",
    "import matplotlib.pyplot as plt\n",
    "import numpy as np\n",
    "import networkx as nx\n",
    "\n",
    "epsilon = 5e-3\n",
    "def absorbing_state(mf):\n",
    "    x = np.ones(mf.array_shape).astype(mf.dtype) * epsilon\n",
    "    x[0] = 1 - epsilon\n",
    "    x = mf.normalize_state(x)\n",
    "    return x.reshape(-1)\n",
    "\n",
    "\n",
    "def epidemic_state(mf):\n",
    "    x = np.ones(mf.array_shape).astype(mf.dtype) * epsilon\n",
    "    x[0] = 1 - epsilon\n",
    "    x = 1 - x\n",
    "    x = mf.normalize_state(x)\n",
    "    return x.reshape(-1)\n",
    "\n",
    "\n",
    "def generic_state(mf, s):\n",
    "    x = np.ones(mf.array_shape).astype(mf.dtype) * epsilon\n",
    "    x[s] = 1\n",
    "    x = mf.normalize_state(x)\n",
    "    return x.reshape(-1)"
   ]
  },
  {
   "cell_type": "code",
   "execution_count": 53,
   "metadata": {},
   "outputs": [],
   "source": [
    "N = 1000\n",
    "avgk = np.linspace(0.1, 5, 40)\n",
    "# tau = (0.04, 0.03)\n",
    "# gamma = (0.08, 0.1)\n",
    "# zeta = 5\n",
    "inf = 0.03, 0.04\n",
    "rec = 0.1, 0.08\n",
    "recc = 0.08\n",
    "c = 5\n",
    "temperature = 6\n",
    "params = {\n",
    "            \"infection1\": 0.04,\n",
    "            \"infection2\": 0.03,\n",
    "            \"recovery1\": 0.1,\n",
    "            \"recovery2\": 0.11,\n",
    "            \"coupling\": 5,\n",
    "        }"
   ]
  },
  {
   "cell_type": "code",
   "execution_count": 36,
   "metadata": {},
   "outputs": [],
   "source": [
    "degree_dist = dl.utilities.poisson_distribution(5, num_k=num_k)\n",
    "\n",
    "mf = dl.metrics.meanfields.SISSIS_MF(degree_dist, params)\n",
    "config = dl.metrics.MetricsConfig.SISSISMetrics()\n",
    "config.mf_parameters = np.linspace(0.1, 5, 25)\n",
    "config.num_k = 6\n",
    "config.epsilon = epsilon\n",
    "metrics = dl.metrics.PoissonEpidemicsMFMetrics(config)\n",
    "# threshold1 = discontinuous_threshold(mf, 0.1, 5, epidemic_state(mf), tol=1e-3, verbose=1)\n",
    "# threshold2 = discontinuous_threshold(mf, 0.1, 5, absorbing_state(mf), tol=1e-3, verbose=1)"
   ]
  },
  {
   "cell_type": "code",
   "execution_count": 54,
   "metadata": {
    "scrolled": true
   },
   "outputs": [
    {
     "name": "stdout",
     "output_type": "stream",
     "text": [
      "low: k = 0.1 0.9851485148514855\n",
      "low: k = 0.3041666666666667 0.9999340045692768\n",
      "low: k = 0.5083333333333334 0.9998440781044711\n",
      "low: k = 0.7125 0.9997616075244244\n",
      "low: k = 0.9166666666666667 0.9996840243906748\n",
      "low: k = 1.1208333333333336 0.9996090900997449\n",
      "low: k = 1.3250000000000002 0.9995347858172641\n",
      "low: k = 1.529166666666667 0.9994592194207776\n",
      "low: k = 1.7333333333333336 0.9993805432670524\n",
      "low: k = 1.9375000000000002 0.9992968776420705\n",
      "low: k = 2.141666666666667 0.9992062353703015\n",
      "low: k = 2.3458333333333337 0.9991064433287427\n",
      "low: k = 2.5500000000000003 0.9989950565705122\n",
      "low: k = 2.754166666666667 0.9988692604236502\n",
      "low: k = 2.958333333333334 0.9987257552790041\n",
      "low: k = 3.1625000000000005 0.9985606177772652\n",
      "low: k = 3.366666666666667 0.13432911088924193\n",
      "low: k = 3.5708333333333337 0.11895738213147417\n",
      "low: k = 3.7750000000000004 0.10570521380988845\n",
      "low: k = 3.9791666666666674 0.0944289753471887\n",
      "low: k = 4.183333333333334 0.08466275988985135\n",
      "low: k = 4.3875 0.07623645492397031\n",
      "low: k = 4.591666666666667 0.06900864105469875\n",
      "low: k = 4.795833333333333 0.06268847829038886\n",
      "low: k = 5.0 0.0571812873627296\n",
      "high: k = 5.0\n",
      "high: k = 4.795833333333333\n",
      "high: k = 4.591666666666667\n",
      "high: k = 4.3875\n",
      "high: k = 4.183333333333334\n",
      "high: k = 3.9791666666666674\n",
      "high: k = 3.7750000000000004\n",
      "high: k = 3.5708333333333337\n",
      "high: k = 3.366666666666667\n",
      "high: k = 3.1625000000000005\n",
      "high: k = 2.958333333333334\n",
      "high: k = 2.754166666666667\n",
      "high: k = 2.5500000000000003\n",
      "high: k = 2.3458333333333337\n",
      "high: k = 2.141666666666667\n",
      "high: k = 1.9375000000000002\n",
      "high: k = 1.7333333333333336\n",
      "high: k = 1.529166666666667\n",
      "high: k = 1.3250000000000002\n",
      "high: k = 1.1208333333333336\n",
      "high: k = 0.9166666666666667\n",
      "high: k = 0.7125\n",
      "high: k = 0.5083333333333334\n",
      "high: k = 0.3041666666666667\n",
      "high: k = 0.1\n"
     ]
    }
   ],
   "source": [
    "avgk = np.linspace(0.1, 5, 25)\n",
    "\n",
    "low_s = np.zeros(avgk.shape)\n",
    "high_s = np.zeros(avgk.shape)\n",
    "stability = np.zeros(avgk.shape)\n",
    "num_k = config.num_k\n",
    "\n",
    "p_k = dl.utilities.poisson_distribution(avgk[0], num_k=num_k)\n",
    "mf = dl.metrics.meanfields.SISSIS_MF(p_k, params)\n",
    "# mf = dl.metrics.meanfields.PlanckSIS_MF(p_k, params)\n",
    "x0 = absorbing_state(mf)\n",
    "for i, k in enumerate(avgk):\n",
    "    print(\"low: k = {0}\".format(k), mf.to_avg(x0)[0])\n",
    "    p_k = dl.utilities.poisson_distribution(k, num_k=num_k)\n",
    "    mf.degree_dist = p_k\n",
    "    x0 = mf.search_fixed_point(x0=x0)\n",
    "    low_s[i] = mf.to_avg(x0)[0]\n",
    "\n",
    "avgk_rev = avgk[::-1]\n",
    "p_k = dl.utilities.poisson_distribution(avgk_rev[-1], num_k=num_k)\n",
    "mf = dl.metrics.meanfields.SISSIS_MF(p_k, params)\n",
    "# mf = dl.metrics.meanfields.PlanckSIS_MF(p_k, params)\n",
    "x0 = epidemic_state(mf)\n",
    "for i, k in enumerate(avgk_rev):\n",
    "    print(\"high: k = {0}\".format(k))\n",
    "    p_k = dl.utilities.poisson_distribution(k, num_k=num_k)\n",
    "    mf.degree_dist = p_k\n",
    "    x0 = mf.search_fixed_point(x0=x0)\n",
    "    high_s[i] = mf.to_avg(x0)[0]\n",
    "\n"
   ]
  },
  {
   "cell_type": "code",
   "execution_count": 55,
   "metadata": {
    "scrolled": true
   },
   "outputs": [
    {
     "name": "stderr",
     "output_type": "stream",
     "text": [
      "\n",
      "\n",
      "Fixed points:   0%|          | 0/50 [00:00<?, ?it/s]\u001b[A\u001b[A\n",
      "\n",
      "Fixed points:   2%|▏         | 1/50 [00:03<02:58,  3.63s/it]\u001b[A\u001b[A\n",
      "\n",
      "Fixed points:   4%|▍         | 2/50 [00:03<02:04,  2.60s/it]\u001b[A\u001b[A\n",
      "\n",
      "Fixed points:   6%|▌         | 3/50 [00:04<01:28,  1.88s/it]\u001b[A\u001b[A\n",
      "\n",
      "Fixed points:   8%|▊         | 4/50 [00:04<01:03,  1.37s/it]\u001b[A\u001b[A\n",
      "\n",
      "Fixed points:  10%|█         | 5/50 [00:04<00:45,  1.02s/it]\u001b[A\u001b[A\n",
      "\n",
      "Fixed points:  12%|█▏        | 6/50 [00:04<00:34,  1.29it/s]\u001b[A\u001b[A\n",
      "\n",
      "Fixed points:  14%|█▍        | 7/50 [00:04<00:25,  1.67it/s]\u001b[A\u001b[A\n",
      "\n",
      "Fixed points:  16%|█▌        | 8/50 [00:04<00:20,  2.09it/s]\u001b[A\u001b[A\n",
      "\n",
      "Fixed points:  18%|█▊        | 9/50 [00:05<00:16,  2.54it/s]\u001b[A\u001b[A\n",
      "\n",
      "Fixed points:  20%|██        | 10/50 [00:05<00:13,  2.99it/s]\u001b[A\u001b[A\n",
      "\n",
      "Fixed points:  22%|██▏       | 11/50 [00:05<00:11,  3.43it/s]\u001b[A\u001b[A\n",
      "\n",
      "Fixed points:  24%|██▍       | 12/50 [00:05<00:09,  3.81it/s]\u001b[A\u001b[A\n",
      "\n",
      "Fixed points:  26%|██▌       | 13/50 [00:05<00:08,  4.13it/s]\u001b[A\u001b[A\n",
      "\n",
      "Fixed points:  28%|██▊       | 14/50 [00:06<00:08,  4.37it/s]\u001b[A\u001b[A\n",
      "\n",
      "Fixed points:  30%|███       | 15/50 [00:06<00:07,  4.55it/s]\u001b[A\u001b[A\n",
      "\n",
      "Fixed points:  32%|███▏      | 16/50 [00:13<01:19,  2.34s/it]\u001b[A\u001b[A\n",
      "\n",
      "Fixed points:  34%|███▍      | 17/50 [00:14<00:59,  1.79s/it]\u001b[A\u001b[A\n",
      "\n",
      "Fixed points:  36%|███▌      | 18/50 [00:14<00:45,  1.41s/it]\u001b[A\u001b[A\n",
      "\n",
      "Fixed points:  38%|███▊      | 19/50 [00:15<00:35,  1.13s/it]\u001b[A\u001b[A\n",
      "\n",
      "Fixed points:  40%|████      | 20/50 [00:15<00:28,  1.07it/s]\u001b[A\u001b[A\n",
      "\n",
      "Fixed points:  42%|████▏     | 21/50 [00:16<00:23,  1.26it/s]\u001b[A\u001b[A\n",
      "\n",
      "Fixed points:  44%|████▍     | 22/50 [00:16<00:19,  1.46it/s]\u001b[A\u001b[A\n",
      "\n",
      "Fixed points:  46%|████▌     | 23/50 [00:16<00:16,  1.65it/s]\u001b[A\u001b[A\n",
      "\n",
      "Fixed points:  48%|████▊     | 24/50 [00:17<00:14,  1.84it/s]\u001b[A\u001b[A\n",
      "\n",
      "Fixed points:  50%|█████     | 25/50 [00:17<00:12,  2.05it/s]\u001b[A\u001b[A\n",
      "\n",
      "Fixed points:  52%|█████▏    | 26/50 [00:20<00:28,  1.20s/it]\u001b[A\u001b[A\n",
      "\n",
      "Fixed points:  54%|█████▍    | 27/50 [00:20<00:21,  1.06it/s]\u001b[A\u001b[A\n",
      "\n",
      "Fixed points:  56%|█████▌    | 28/50 [00:21<00:17,  1.28it/s]\u001b[A\u001b[A\n",
      "\n",
      "Fixed points:  58%|█████▊    | 29/50 [00:21<00:14,  1.49it/s]\u001b[A\u001b[A\n",
      "\n",
      "Fixed points:  60%|██████    | 30/50 [00:22<00:11,  1.69it/s]\u001b[A\u001b[A\n",
      "\n",
      "Fixed points:  62%|██████▏   | 31/50 [00:22<00:10,  1.78it/s]\u001b[A\u001b[A\n",
      "\n",
      "Fixed points:  64%|██████▍   | 32/50 [00:23<00:09,  1.85it/s]\u001b[A\u001b[A\n",
      "\n",
      "Fixed points:  66%|██████▌   | 33/50 [00:23<00:08,  1.94it/s]\u001b[A\u001b[A\n",
      "\n",
      "Fixed points:  68%|██████▊   | 34/50 [00:24<00:08,  1.94it/s]\u001b[A\u001b[A\n",
      "\n",
      "Fixed points:  70%|███████   | 35/50 [00:24<00:07,  1.94it/s]\u001b[A\u001b[A\n",
      "\n",
      "Fixed points:  72%|███████▏  | 36/50 [00:25<00:07,  1.88it/s]\u001b[A\u001b[A\n",
      "\n",
      "Fixed points:  74%|███████▍  | 37/50 [00:25<00:07,  1.79it/s]\u001b[A\u001b[A\n",
      "\n",
      "Fixed points:  76%|███████▌  | 38/50 [00:26<00:07,  1.68it/s]\u001b[A\u001b[A\n",
      "\n",
      "Fixed points:  78%|███████▊  | 39/50 [00:27<00:07,  1.53it/s]\u001b[A\u001b[A\n",
      "\n",
      "Fixed points:  80%|████████  | 40/50 [00:28<00:07,  1.39it/s]\u001b[A\u001b[A\n",
      "\n",
      "Fixed points:  82%|████████▏ | 41/50 [00:29<00:07,  1.25it/s]\u001b[A\u001b[A\n",
      "\n",
      "Fixed points:  84%|████████▍ | 42/50 [00:30<00:07,  1.11it/s]\u001b[A\u001b[A\n",
      "\n",
      "Fixed points:  86%|████████▌ | 43/50 [00:31<00:07,  1.05s/it]\u001b[A\u001b[A\n",
      "\n",
      "Fixed points:  88%|████████▊ | 44/50 [00:33<00:07,  1.30s/it]\u001b[A\u001b[A\n",
      "\n",
      "Fixed points:  90%|█████████ | 45/50 [00:36<00:09,  1.82s/it]\u001b[A\u001b[A\n",
      "\n",
      "Fixed points:  92%|█████████▏| 46/50 [01:06<00:41, 10.31s/it]\u001b[A\u001b[A\n",
      "\n",
      "Fixed points:  94%|█████████▍| 47/50 [01:07<00:22,  7.42s/it]\u001b[A\u001b[A\n",
      "\n",
      "Fixed points:  96%|█████████▌| 48/50 [01:07<00:10,  5.33s/it]\u001b[A\u001b[A\n",
      "\n",
      "Fixed points:  98%|█████████▊| 49/50 [01:08<00:03,  3.84s/it]\u001b[A\u001b[A\n",
      "\n",
      "Fixed points: 100%|██████████| 50/50 [01:08<00:00,  2.77s/it]\u001b[A\u001b[A"
     ]
    }
   ],
   "source": [
    "fp = metrics.compute_fixed_points(mf)"
   ]
  },
  {
   "cell_type": "code",
   "execution_count": 56,
   "metadata": {
    "scrolled": true
   },
   "outputs": [
    {
     "data": {
      "image/png": "[encoded data removed]",
      "text/plain": [
       "<Figure size 432x288 with 1 Axes>"
      ]
     },
     "metadata": {},
     "output_type": "display_data"
    }
   ],
   "source": [
    "# plt.plot(avgk_rev[avgk_rev < threshold1], 1 - high_s[avgk_rev <threshold1], 'b-')\n",
    "# plt.plot(avgk_rev[avgk_rev > threshold1], 1 - high_s[avgk_rev >threshold1], 'b-')\n",
    "# plt.axvline(threshold1, linestyle='--', )\n",
    "\n",
    "# plt.plot(avgk[avgk < threshold2], 1 - low_s[avgk <threshold2], 'r-')\n",
    "# plt.plot(avgk[avgk > threshold2], 1 - low_s[avgk >threshold2], 'r-')\n",
    "# plt.axvline(threshold2)\n",
    "# fig, ax = plt.subplots(1, 2)\n",
    "plt.plot(avgk, 1 - low_s, 'r-')\n",
    "plt.plot(avgk_rev, 1 - high_s, 'b-')\n",
    "\n",
    "plt.plot(metrics.parameters, 1 - fp[0,:, 0], 'r-')\n",
    "plt.plot(metrics.parameters, 1 - fp[1,:, 0], 'b-')\n",
    "\n",
    "plt.show()"
   ]
  },
  {
   "cell_type": "code",
   "execution_count": null,
   "metadata": {},
   "outputs": [],
   "source": [
    "config.epsilon"
   ]
  },
  {
   "cell_type": "code",
   "execution_count": 63,
   "metadata": {},
   "outputs": [
    {
     "ename": "NameError",
     "evalue": "name 'low_s' is not defined",
     "output_type": "error",
     "traceback": [
      "\u001b[0;31m---------------------------------------------------------------------------\u001b[0m",
      "\u001b[0;31mNameError\u001b[0m                                 Traceback (most recent call last)",
      "\u001b[0;32m<ipython-input-63-ea8bbf6b54b9>\u001b[0m in \u001b[0;36m<module>\u001b[0;34m()\u001b[0m\n\u001b[0;32m----> 1\u001b[0;31m \u001b[0mdiff\u001b[0m \u001b[0;34m=\u001b[0m \u001b[0mlow_s\u001b[0m \u001b[0;34m-\u001b[0m \u001b[0mhigh_s\u001b[0m\u001b[0;34m\u001b[0m\u001b[0m\n\u001b[0m\u001b[1;32m      2\u001b[0m \u001b[0;31m# plt.plot(avgk, diff)\u001b[0m\u001b[0;34m\u001b[0m\u001b[0;34m\u001b[0m\u001b[0m\n\u001b[1;32m      3\u001b[0m \u001b[0;31m# plt.show()\u001b[0m\u001b[0;34m\u001b[0m\u001b[0;34m\u001b[0m\u001b[0m\n\u001b[1;32m      4\u001b[0m \u001b[0mend1\u001b[0m \u001b[0;34m=\u001b[0m \u001b[0mnp\u001b[0m\u001b[0;34m.\u001b[0m\u001b[0mwhere\u001b[0m\u001b[0;34m(\u001b[0m\u001b[0mavgk\u001b[0m \u001b[0;34m==\u001b[0m \u001b[0mavgk\u001b[0m\u001b[0;34m[\u001b[0m\u001b[0mnp\u001b[0m\u001b[0;34m.\u001b[0m\u001b[0mabs\u001b[0m\u001b[0;34m(\u001b[0m\u001b[0mdiff\u001b[0m\u001b[0;34m)\u001b[0m \u001b[0;34m>\u001b[0m \u001b[0;36m1e-1\u001b[0m\u001b[0;34m]\u001b[0m\u001b[0;34m[\u001b[0m\u001b[0;36m0\u001b[0m\u001b[0;34m]\u001b[0m\u001b[0;34m)\u001b[0m\u001b[0;34m[\u001b[0m\u001b[0;36m0\u001b[0m\u001b[0;34m]\u001b[0m\u001b[0;34m[\u001b[0m\u001b[0;36m0\u001b[0m\u001b[0;34m]\u001b[0m\u001b[0;34m\u001b[0m\u001b[0m\n\u001b[1;32m      5\u001b[0m \u001b[0mend2\u001b[0m \u001b[0;34m=\u001b[0m \u001b[0mnp\u001b[0m\u001b[0;34m.\u001b[0m\u001b[0mwhere\u001b[0m\u001b[0;34m(\u001b[0m\u001b[0mavgk\u001b[0m \u001b[0;34m==\u001b[0m \u001b[0mavgk\u001b[0m\u001b[0;34m[\u001b[0m\u001b[0mnp\u001b[0m\u001b[0;34m.\u001b[0m\u001b[0mabs\u001b[0m\u001b[0;34m(\u001b[0m\u001b[0mdiff\u001b[0m\u001b[0;34m)\u001b[0m \u001b[0;34m>\u001b[0m \u001b[0;36m1e-1\u001b[0m\u001b[0;34m]\u001b[0m\u001b[0;34m[\u001b[0m\u001b[0;34m-\u001b[0m\u001b[0;36m1\u001b[0m\u001b[0;34m]\u001b[0m\u001b[0;34m)\u001b[0m\u001b[0;34m[\u001b[0m\u001b[0;36m0\u001b[0m\u001b[0;34m]\u001b[0m\u001b[0;34m[\u001b[0m\u001b[0;36m0\u001b[0m\u001b[0;34m]\u001b[0m \u001b[0;34m+\u001b[0m \u001b[0;36m1\u001b[0m\u001b[0;34m\u001b[0m\u001b[0m\n",
      "\u001b[0;31mNameError\u001b[0m: name 'low_s' is not defined"
     ]
    }
   ],
   "source": [
    "diff = low_s - high_s\n",
    "# plt.plot(avgk, diff)\n",
    "# plt.show()\n",
    "end1 = np.where(avgk == avgk[np.abs(diff) > 1e-1][0])[0][0]\n",
    "end2 = np.where(avgk == avgk[np.abs(diff) > 1e-1][-1])[0][0] + 1\n",
    "print(end1, end2)"
   ]
  },
  {
   "cell_type": "code",
   "execution_count": 62,
   "metadata": {},
   "outputs": [
    {
     "ename": "NameError",
     "evalue": "name 'end2' is not defined",
     "output_type": "error",
     "traceback": [
      "\u001b[0;31m---------------------------------------------------------------------------\u001b[0m",
      "\u001b[0;31mNameError\u001b[0m                                 Traceback (most recent call last)",
      "\u001b[0;32m<ipython-input-62-167f1afc2c64>\u001b[0m in \u001b[0;36m<module>\u001b[0;34m()\u001b[0m\n\u001b[0;32m----> 1\u001b[0;31m \u001b[0mplt\u001b[0m\u001b[0;34m.\u001b[0m\u001b[0mplot\u001b[0m\u001b[0;34m(\u001b[0m\u001b[0mavgk\u001b[0m\u001b[0;34m[\u001b[0m\u001b[0;34m:\u001b[0m\u001b[0mend2\u001b[0m\u001b[0;34m]\u001b[0m\u001b[0;34m,\u001b[0m \u001b[0;36m1\u001b[0m \u001b[0;34m-\u001b[0m \u001b[0mlow_s\u001b[0m\u001b[0;34m[\u001b[0m\u001b[0;34m:\u001b[0m\u001b[0mend2\u001b[0m\u001b[0;34m]\u001b[0m\u001b[0;34m,\u001b[0m \u001b[0;34m'r-'\u001b[0m\u001b[0;34m)\u001b[0m\u001b[0;34m\u001b[0m\u001b[0m\n\u001b[0m\u001b[1;32m      2\u001b[0m \u001b[0mplt\u001b[0m\u001b[0;34m.\u001b[0m\u001b[0mplot\u001b[0m\u001b[0;34m(\u001b[0m\u001b[0mavgk\u001b[0m\u001b[0;34m[\u001b[0m\u001b[0mend2\u001b[0m\u001b[0;34m-\u001b[0m\u001b[0;36m1\u001b[0m\u001b[0;34m:\u001b[0m \u001b[0mend2\u001b[0m\u001b[0;34m+\u001b[0m\u001b[0;36m1\u001b[0m\u001b[0;34m]\u001b[0m\u001b[0;34m,\u001b[0m \u001b[0;36m1\u001b[0m \u001b[0;34m-\u001b[0m \u001b[0mlow_s\u001b[0m\u001b[0;34m[\u001b[0m\u001b[0mend2\u001b[0m\u001b[0;34m-\u001b[0m\u001b[0;36m1\u001b[0m\u001b[0;34m:\u001b[0m \u001b[0mend2\u001b[0m\u001b[0;34m+\u001b[0m\u001b[0;36m1\u001b[0m\u001b[0;34m]\u001b[0m\u001b[0;34m,\u001b[0m \u001b[0;34m'r--'\u001b[0m\u001b[0;34m)\u001b[0m\u001b[0;34m\u001b[0m\u001b[0m\n\u001b[1;32m      3\u001b[0m \u001b[0mplt\u001b[0m\u001b[0;34m.\u001b[0m\u001b[0mplot\u001b[0m\u001b[0;34m(\u001b[0m\u001b[0mavgk\u001b[0m\u001b[0;34m[\u001b[0m\u001b[0mend2\u001b[0m\u001b[0;34m:\u001b[0m\u001b[0;34m]\u001b[0m\u001b[0;34m,\u001b[0m \u001b[0;36m1\u001b[0m \u001b[0;34m-\u001b[0m \u001b[0mlow_s\u001b[0m\u001b[0;34m[\u001b[0m\u001b[0mend2\u001b[0m\u001b[0;34m:\u001b[0m\u001b[0;34m]\u001b[0m\u001b[0;34m,\u001b[0m \u001b[0;34m'r-'\u001b[0m\u001b[0;34m)\u001b[0m\u001b[0;34m\u001b[0m\u001b[0m\n\u001b[1;32m      4\u001b[0m \u001b[0mplt\u001b[0m\u001b[0;34m.\u001b[0m\u001b[0mplot\u001b[0m\u001b[0;34m(\u001b[0m\u001b[0mavgk\u001b[0m\u001b[0;34m[\u001b[0m\u001b[0;34m:\u001b[0m\u001b[0mend1\u001b[0m\u001b[0;34m]\u001b[0m\u001b[0;34m,\u001b[0m \u001b[0;36m1\u001b[0m \u001b[0;34m-\u001b[0m \u001b[0mhigh_s\u001b[0m\u001b[0;34m[\u001b[0m\u001b[0;34m:\u001b[0m\u001b[0mend1\u001b[0m\u001b[0;34m]\u001b[0m\u001b[0;34m,\u001b[0m \u001b[0;34m'b-'\u001b[0m\u001b[0;34m)\u001b[0m\u001b[0;34m\u001b[0m\u001b[0m\n\u001b[1;32m      5\u001b[0m \u001b[0mplt\u001b[0m\u001b[0;34m.\u001b[0m\u001b[0mplot\u001b[0m\u001b[0;34m(\u001b[0m\u001b[0mavgk\u001b[0m\u001b[0;34m[\u001b[0m\u001b[0mend1\u001b[0m\u001b[0;34m-\u001b[0m\u001b[0;36m1\u001b[0m\u001b[0;34m:\u001b[0m \u001b[0mend1\u001b[0m\u001b[0;34m+\u001b[0m\u001b[0;36m1\u001b[0m\u001b[0;34m]\u001b[0m\u001b[0;34m,\u001b[0m \u001b[0;36m1\u001b[0m \u001b[0;34m-\u001b[0m \u001b[0mhigh_s\u001b[0m\u001b[0;34m[\u001b[0m\u001b[0mend1\u001b[0m\u001b[0;34m-\u001b[0m\u001b[0;36m1\u001b[0m\u001b[0;34m:\u001b[0m \u001b[0mend1\u001b[0m\u001b[0;34m+\u001b[0m\u001b[0;36m1\u001b[0m\u001b[0;34m]\u001b[0m\u001b[0;34m,\u001b[0m \u001b[0;34m'b--'\u001b[0m\u001b[0;34m)\u001b[0m\u001b[0;34m\u001b[0m\u001b[0m\n",
      "\u001b[0;31mNameError\u001b[0m: name 'end2' is not defined"
     ]
    }
   ],
   "source": [
    "plt.plot(avgk[:end2], 1 - low_s[:end2], 'r-')\n",
    "plt.plot(avgk[end2-1: end2+1], 1 - low_s[end2-1: end2+1], 'r--')\n",
    "plt.plot(avgk[end2:], 1 - low_s[end2:], 'r-')\n",
    "plt.plot(avgk[:end1], 1 - high_s[:end1], 'b-')\n",
    "plt.plot(avgk[end1-1: end1+1], 1 - high_s[end1-1: end1+1], 'b--')\n",
    "plt.plot(avgk[end1:], 1 - high_s[end1:], 'b-')\n",
    "plt.ylim([-0.1,1])\n",
    "plt.ylabel(r'Fraction of infected nodes', fontsize=14)\n",
    "plt.xlabel(r'Average degree $[\\langle k \\rangle]$', fontsize=14)\n",
    "plt.savefig(f'./coupling_{zeta}.png')\n",
    "plt.show()"
   ]
  },
  {
   "cell_type": "code",
   "execution_count": null,
   "metadata": {
    "collapsed": true
   },
   "outputs": [],
   "source": []
  }
 ],
 "metadata": {
  "kernelspec": {
   "display_name": "Python 3",
   "language": "python",
   "name": "python3"
  },
  "language_info": {
   "codemirror_mode": {
    "name": "ipython",
    "version": 3
   },
   "file_extension": ".py",
   "mimetype": "text/x-python",
   "name": "python",
   "nbconvert_exporter": "python",
   "pygments_lexer": "ipython3",
   "version": "3.6.5"
  }
 },
 "nbformat": 4,
 "nbformat_minor": 2
}
