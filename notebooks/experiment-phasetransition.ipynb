{
 "cells": [
  {
   "cell_type": "markdown",
   "metadata": {},
   "source": [
    "# Experimentation with the SIS-SIS phase transition "
   ]
  },
  {
   "cell_type": "markdown",
   "metadata": {},
   "source": [
    "### Importing packages"
   ]
  },
  {
   "cell_type": "code",
   "execution_count": 1,
   "metadata": {
    "collapsed": false
   },
   "outputs": [],
   "source": [
    "import dynalearn as dl\n",
    "import matplotlib.pyplot as plt\n",
    "import numpy as np\n",
    "import networkx as nx"
   ]
  },
  {
   "cell_type": "markdown",
   "metadata": {},
   "source": [
    "### Experiment parameters"
   ]
  },
  {
   "cell_type": "code",
   "execution_count": 33,
   "metadata": {
    "collapsed": false
   },
   "outputs": [
    {
     "name": "stdout",
     "output_type": "stream",
     "text": [
      "k = 0.1\n",
      "k = 0.22564102564102564\n",
      "k = 0.35128205128205126\n",
      "k = 0.4769230769230769\n",
      "k = 0.6025641025641025\n",
      "k = 0.7282051282051282\n",
      "k = 0.8538461538461538\n",
      "k = 0.9794871794871794\n",
      "k = 1.1051282051282052\n",
      "k = 1.2307692307692308\n",
      "k = 1.3564102564102565\n",
      "k = 1.4820512820512821\n",
      "k = 1.6076923076923078\n",
      "k = 1.7333333333333334\n",
      "k = 1.858974358974359\n",
      "k = 1.9846153846153847\n",
      "k = 2.1102564102564103\n",
      "k = 2.235897435897436\n",
      "k = 2.3615384615384616\n",
      "k = 2.4871794871794872\n",
      "k = 2.612820512820513\n",
      "k = 2.7384615384615385\n",
      "k = 2.864102564102564\n",
      "k = 2.98974358974359\n",
      "k = 3.1153846153846154\n",
      "k = 3.241025641025641\n",
      "k = 3.3666666666666667\n",
      "k = 3.4923076923076923\n",
      "k = 3.617948717948718\n",
      "k = 3.7435897435897436\n",
      "k = 3.8692307692307693\n",
      "k = 3.994871794871795\n",
      "k = 4.12051282051282\n",
      "k = 4.246153846153845\n",
      "k = 4.371794871794871\n",
      "k = 4.4974358974358974\n",
      "k = 4.623076923076923\n",
      "k = 4.748717948717948\n",
      "k = 4.874358974358974\n",
      "k = 5.0\n"
     ]
    }
   ],
   "source": [
    "N = 1000\n",
    "avgk = np.linspace(0.1, 5, 40)\n",
    "# tau = 0.04\n",
    "# gamma = 0.08\n",
    "tau = (0.04, 0.03)\n",
    "gamma = (0.08, 0.1)\n",
    "zeta = 2.5\n",
    "\n",
    "s1 = np.zeros(avgk.shape[0])\n",
    "s2 = np.ones(avgk.shape[0]) * 2\n",
    "stability_abs = np.zeros(avgk.shape[0])\n",
    "stability_abs = np.zeros(avgk.shape[0])\n",
    "for i, k in enumerate(avgk):\n",
    "    print(\"k = {0}\".format(k))\n",
    "    if k < 1.5:\n",
    "        p_k = dl.meanfields.poisson_distribution(k, num_k=3)\n",
    "    else:\n",
    "        p_k = dl.meanfields.poisson_distribution(k, num_k=5)\n",
    "    mf = dl.meanfields.SISSIS_MF(p_k, tau, gamma, zeta, verbose=0)\n",
    "    \n",
    "#     mf = dl.meanfields.SISSIS_MF(p_k, (tau, tau), (gamma, gamma), zeta, verbose=0)<\n",
    "    mf.compute_fixed_points()\n",
    "    s1[i] = mf.fixed_points[0][0]\n",
    "    if k < 1.5:\n",
    "        \n",
    "        \n",
    "        stab = mf.compute_stability(fp=mf.abs_state(0))\n",
    "        \n",
    "        if stab < 1:\n",
    "            s2[i] = 1\n",
    "\n",
    "\n",
    "# 1 800 463 1647 poste 301\n",
    "# Numero de permis M. Murphy: \n",
    "# Numero de plaque"
   ]
  },
  {
   "cell_type": "code",
   "execution_count": 34,
   "metadata": {
    "collapsed": false
   },
   "outputs": [
    {
     "data": {
      "image/png": "[encoded data removed]",
      "text/plain": [
       "<Figure size 432x288 with 1 Axes>"
      ]
     },
     "metadata": {},
     "output_type": "display_data"
    }
   ],
   "source": [
    "plt.plot(avgk, 1 - s1, '.')\n",
    "plt.plot(avgk[s2 <= 1], 1 - s2[s2 <= 1], '-')\n",
    "plt.ylim([-0.1,1])\n",
    "plt.ylabel(r'Fraction of infected nodes', fontsize=14)\n",
    "plt.xlabel(r'Average degree $[\\langle k \\rangle]$', fontsize=14)\n",
    "plt.savefig(f'./coupling_{zeta}.png')\n",
    "plt.show()"
   ]
  },
  {
   "cell_type": "code",
   "execution_count": 38,
   "metadata": {
    "collapsed": false,
    "scrolled": true
   },
   "outputs": [
    {
     "name": "stdout",
     "output_type": "stream",
     "text": [
      "k = 0.1\n",
      "k = 0.22564102564102564\n",
      "k = 0.35128205128205126\n",
      "k = 0.4769230769230769\n",
      "k = 0.6025641025641025\n",
      "k = 0.7282051282051282\n",
      "k = 0.8538461538461538\n",
      "k = 0.9794871794871794\n",
      "k = 1.1051282051282052\n",
      "k = 1.2307692307692308\n",
      "k = 1.3564102564102565\n",
      "k = 1.4820512820512821\n",
      "k = 1.6076923076923078\n",
      "k = 1.7333333333333334\n",
      "k = 1.858974358974359\n",
      "k = 1.9846153846153847\n",
      "k = 2.1102564102564103\n",
      "k = 2.235897435897436\n",
      "k = 2.3615384615384616\n",
      "k = 2.4871794871794872\n",
      "k = 2.612820512820513\n",
      "k = 2.7384615384615385\n",
      "k = 2.864102564102564\n",
      "k = 2.98974358974359\n",
      "k = 3.1153846153846154\n",
      "k = 3.241025641025641\n",
      "k = 3.3666666666666667\n",
      "k = 3.4923076923076923\n",
      "k = 3.617948717948718\n",
      "k = 3.7435897435897436\n",
      "k = 3.8692307692307693\n",
      "k = 3.994871794871795\n",
      "k = 4.12051282051282\n",
      "k = 4.246153846153845\n",
      "k = 4.371794871794871\n",
      "k = 4.4974358974358974\n",
      "k = 4.623076923076923\n",
      "k = 4.748717948717948\n",
      "k = 4.874358974358974\n",
      "k = 5.0\n"
     ]
    }
   ],
   "source": [
    "N = 1000\n",
    "avgk = np.linspace(0.1, 5, 40)\n",
    "# tau = 0.04\n",
    "# gamma = 0.08\n",
    "tau = (0.04, 0.03)\n",
    "gamma = (0.08, 0.1)\n",
    "zeta = 5\n",
    "\n",
    "s1 = np.zeros(avgk.shape[0])\n",
    "s2 = np.ones(avgk.shape[0]) * -1\n",
    "stability_abs = np.zeros(avgk.shape[0])\n",
    "stability_abs = np.zeros(avgk.shape[0])\n",
    "for i, k in enumerate(avgk):\n",
    "    print(\"k = {0}\".format(k))\n",
    "    if k < 1.5:\n",
    "        p_k = dl.meanfields.poisson_distribution(k, num_k=3)\n",
    "    else:\n",
    "        p_k = dl.meanfields.poisson_distribution(k, num_k=5)\n",
    "    mf = dl.meanfields.SISSIS_MF(p_k, tau, gamma, zeta, verbose=0)\n",
    "    \n",
    "#     mf = dl.meanfields.SISSIS_MF(p_k, (tau, tau), (gamma, gamma), zeta, verbose=0)<\n",
    "    mf.compute_fixed_points()\n",
    "    s1[i] = mf.fixed_points[0][0]\n",
    "    if k < 1.5:\n",
    "        \n",
    "        \n",
    "        stab = mf.compute_stability(fp=mf.abs_state(0))\n",
    "        \n",
    "        if stab < 1:\n",
    "            s2[i] = 1\n",
    "\n",
    "\n",
    "# 1 800 463 1647 poste 301\n",
    "# Numero de permis M. Murphy: \n",
    "# Numero de plaque\n"
   ]
  },
  {
   "cell_type": "code",
   "execution_count": 39,
   "metadata": {
    "collapsed": false
   },
   "outputs": [
    {
     "data": {
      "image/png": "[encoded data removed]",
      "text/plain": [
       "<Figure size 432x288 with 1 Axes>"
      ]
     },
     "metadata": {},
     "output_type": "display_data"
    }
   ],
   "source": [
    "plt.plot(avgk, 1 - s1, '.')\n",
    "plt.plot(avgk[s2 >= 0], 1 - s2[s2 >= 0], '-')\n",
    "plt.ylim([-0.1,1])\n",
    "plt.ylabel(r'Fraction of infected nodes', fontsize=14)\n",
    "plt.xlabel(r'Average degree $[\\langle k \\rangle]$', fontsize=14)\n",
    "plt.savefig(f'./coupling_{zeta}.png')\n",
    "plt.show()"
   ]
  },
  {
   "cell_type": "code",
   "execution_count": null,
   "metadata": {
    "collapsed": true
   },
   "outputs": [],
   "source": []
  }
 ],
 "metadata": {
  "kernelspec": {
   "display_name": "Python 3",
   "language": "python",
   "name": "python3"
  },
  "language_info": {
   "codemirror_mode": {
    "name": "ipython",
    "version": 3
   },
   "file_extension": ".py",
   "mimetype": "text/x-python",
   "name": "python",
   "nbconvert_exporter": "python",
   "pygments_lexer": "ipython3",
   "version": "3.6.1"
  }
 },
 "nbformat": 4,
 "nbformat_minor": 2
}
