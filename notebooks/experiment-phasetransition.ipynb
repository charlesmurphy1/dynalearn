{
 "cells": [
  {
   "cell_type": "markdown",
   "metadata": {},
   "source": [
    "# Experimentation with the SIS-SIS phase transition "
   ]
  },
  {
   "cell_type": "markdown",
   "metadata": {},
   "source": [
    "### Importing packages"
   ]
  },
  {
   "cell_type": "code",
   "execution_count": 1,
   "metadata": {
    "collapsed": false
   },
   "outputs": [],
   "source": [
    "import dynalearn as dl\n",
    "import matplotlib.pyplot as plt\n",
    "import numpy as np\n",
    "import networkx as nx\n",
    "\n",
    "epsilon = 1e-3\n",
    "def absorbing_state(mf):\n",
    "    x = np.ones(mf.array_shape).astype(mf.dtype) * epsilon\n",
    "    x[0] = 1\n",
    "    x = mf.normalize_state(x)\n",
    "    return x.reshape(-1)\n",
    "\n",
    "\n",
    "def epidemic_state(mf):\n",
    "    x = np.ones(mf.array_shape).astype(mf.dtype) * epsilon\n",
    "    x[0] = 1\n",
    "    x = 1 - x\n",
    "    x = mf.normalize_state(x)\n",
    "    return x.reshape(-1)\n",
    "\n",
    "\n",
    "def generic_state(mf, s):\n",
    "    x = np.ones(mf.array_shape).astype(mf.dtype) * epsilon\n",
    "    x[s] = 1\n",
    "    x = mf.normalize_state(x)\n",
    "    return x.reshape(-1)"
   ]
  },
  {
   "cell_type": "code",
   "execution_count": 2,
   "metadata": {
    "collapsed": true
   },
   "outputs": [],
   "source": [
    "N = 1000\n",
    "avgk = np.linspace(0.1, 5, 40)\n",
    "tau = (0.04, 0.03)\n",
    "gamma = (0.08, 0.1)\n",
    "zeta = 5"
   ]
  },
  {
   "cell_type": "code",
   "execution_count": 3,
   "metadata": {
    "collapsed": true
   },
   "outputs": [],
   "source": [
    "def discontinuous_threshold(mf, k0, k1, init_state, tol=1e-3, verbose=0):\n",
    "    diff = k1 - k0\n",
    "    s = 1\n",
    "    data = []\n",
    "    while diff > tol:\n",
    "        k = (k1 + k0) / 2\n",
    "        if verbose:\n",
    "            print(\"k = {0}, diff = {1}, s = {2}\".format(k, diff, s))\n",
    "        p_k = dl.meanfields.poisson_distribution(k, num_k=5)\n",
    "        mf.p_k = p_k\n",
    "        s = mf.to_avg(mf.search_fixed_point(x0=init_state))[0]\n",
    "        data.append((k, s))\n",
    "        if s > 1 - 1e-2:\n",
    "            k0 = k\n",
    "        else:\n",
    "            k1 = k\n",
    "        \n",
    "        diff = k1 - k0\n",
    "        \n",
    "    return k"
   ]
  },
  {
   "cell_type": "code",
   "execution_count": 10,
   "metadata": {
    "collapsed": false
   },
   "outputs": [
    {
     "name": "stdout",
     "output_type": "stream",
     "text": [
      "k = 2.55, diff = 4.9, s = 1\n",
      "k = 1.325, diff = 2.4499999999999997, s = 0.09480673742711627\n",
      "k = 0.7125, diff = 1.2249999999999999, s = 0.2087082294166063\n",
      "k = 1.01875, diff = 0.6124999999999999, s = 0.995625256702871\n",
      "k = 1.171875, diff = 0.3062499999999999, s = 0.9945997601980845\n",
      "k = 1.2484375, diff = 0.15312499999999996, s = 0.9937181792387428\n",
      "k = 1.21015625, diff = 0.07656250000000009, s = 0.9393980094385304\n",
      "k = 1.2292968750000002, diff = 0.038281250000000044, s = 0.9933668530510014\n",
      "k = 1.2388671875000001, diff = 0.01914062499999991, s = 0.9931126666084857\n",
      "k = 1.24365234375, diff = 0.009570312499999956, s = 0.9929119896462356\n",
      "k = 1.2412597656250002, diff = 0.004785156249999867, s = 0.9408212611011654\n",
      "k = 1.2424560546875, diff = 0.0023925781249998224, s = 0.9928273856586571\n",
      "k = 1.24305419921875, diff = 0.0011962890624999112, s = 0.9927518995387746\n"
     ]
    }
   ],
   "source": [
    "p_k = dl.meanfields.poisson_distribution(5, num_k=5)\n",
    "mf = dl.meanfields.SISSIS_MF(p_k, tau, gamma, zeta, verbose=0)\n",
    "\n",
    "# threshold1 = discontinuous_threshold(mf, 0.1, 3, epidemic_state(mf), tol=1e-3, verbose=1)\n",
    "threshold2 = discontinuous_threshold(mf, 0.1, 5, absorbing_state(mf), tol=1e-3, verbose=1)"
   ]
  },
  {
   "cell_type": "code",
   "execution_count": 11,
   "metadata": {
    "collapsed": false
   },
   "outputs": [
    {
     "name": "stdout",
     "output_type": "stream",
     "text": [
      "k = 0.1\n",
      "k = 0.35789473684210527\n",
      "k = 0.6157894736842106\n",
      "k = 0.8736842105263158\n",
      "k = 1.1315789473684212\n",
      "k = 1.3894736842105266\n",
      "k = 1.6473684210526318\n",
      "k = 1.905263157894737\n",
      "k = 2.1631578947368424\n",
      "k = 2.421052631578948\n",
      "k = 2.678947368421053\n",
      "k = 2.936842105263158\n",
      "k = 3.1947368421052635\n",
      "k = 3.452631578947369\n",
      "k = 3.710526315789474\n",
      "k = 3.9684210526315793\n",
      "k = 4.226315789473684\n",
      "k = 4.484210526315789\n",
      "k = 4.742105263157895\n",
      "k = 5.0\n"
     ]
    }
   ],
   "source": [
    "N = 1000\n",
    "avgk = np.linspace(0.1, 5, 20)\n",
    "# avgk = np.array([0.1])\n",
    "# tau = 0.04\n",
    "# gamma = 0.08\n",
    "tau = (0.04, 0.03)\n",
    "gamma = (0.08, 0.1)\n",
    "zeta = 5\n",
    "\n",
    "compute_stability = True\n",
    "low_s = np.zeros(avgk.shape)\n",
    "high_s = np.zeros(avgk.shape)\n",
    "stability = np.zeros(avgk.shape)\n",
    "\n",
    "\n",
    "\n",
    "for i, k in enumerate(avgk):\n",
    "    print(\"k = {0}\".format(k))\n",
    "    if k < 1.5:\n",
    "        p_k = dl.meanfields.poisson_distribution(k, num_k=5)\n",
    "    else:\n",
    "        p_k = dl.meanfields.poisson_distribution(k, num_k=4)\n",
    "    mf.p_k = p_k\n",
    "    low_s[i] = mf.to_avg(mf.search_fixed_point(x0=absorbing_state(mf)))[0]\n",
    "    high_s[i] = mf.to_avg(mf.search_fixed_point(x0=epidemic_state(mf)))[0]\n",
    "\n"
   ]
  },
  {
   "cell_type": "code",
   "execution_count": 16,
   "metadata": {
    "collapsed": false
   },
   "outputs": [
    {
     "data": {
      "image/png": "[encoded data removed]",
      "text/plain": [
       "<Figure size 432x288 with 1 Axes>"
      ]
     },
     "metadata": {},
     "output_type": "display_data"
    }
   ],
   "source": [
    "plt.plot(avgk[avgk < threshold1], 1 - high_s[avgk <threshold1], 'b-')\n",
    "plt.plot(avgk[avgk > threshold1], 1 - high_s[avgk >threshold1], 'b-')\n",
    "plt.axvline(threshold1, linestyle='--', )\n",
    "\n",
    "plt.plot(avgk[avgk < threshold2], 1 - low_s[avgk <threshold2], 'r-')\n",
    "plt.plot(avgk[avgk > threshold2], 1 - low_s[avgk >threshold2], 'r-')\n",
    "plt.axvline(threshold2)\n",
    "\n",
    "plt.show()"
   ]
  },
  {
   "cell_type": "code",
   "execution_count": 63,
   "metadata": {
    "collapsed": false
   },
   "outputs": [
    {
     "ename": "NameError",
     "evalue": "name 'low_s' is not defined",
     "output_type": "error",
     "traceback": [
      "\u001b[0;31m---------------------------------------------------------------------------\u001b[0m",
      "\u001b[0;31mNameError\u001b[0m                                 Traceback (most recent call last)",
      "\u001b[0;32m<ipython-input-63-ea8bbf6b54b9>\u001b[0m in \u001b[0;36m<module>\u001b[0;34m()\u001b[0m\n\u001b[0;32m----> 1\u001b[0;31m \u001b[0mdiff\u001b[0m \u001b[0;34m=\u001b[0m \u001b[0mlow_s\u001b[0m \u001b[0;34m-\u001b[0m \u001b[0mhigh_s\u001b[0m\u001b[0;34m\u001b[0m\u001b[0m\n\u001b[0m\u001b[1;32m      2\u001b[0m \u001b[0;31m# plt.plot(avgk, diff)\u001b[0m\u001b[0;34m\u001b[0m\u001b[0;34m\u001b[0m\u001b[0m\n\u001b[1;32m      3\u001b[0m \u001b[0;31m# plt.show()\u001b[0m\u001b[0;34m\u001b[0m\u001b[0;34m\u001b[0m\u001b[0m\n\u001b[1;32m      4\u001b[0m \u001b[0mend1\u001b[0m \u001b[0;34m=\u001b[0m \u001b[0mnp\u001b[0m\u001b[0;34m.\u001b[0m\u001b[0mwhere\u001b[0m\u001b[0;34m(\u001b[0m\u001b[0mavgk\u001b[0m \u001b[0;34m==\u001b[0m \u001b[0mavgk\u001b[0m\u001b[0;34m[\u001b[0m\u001b[0mnp\u001b[0m\u001b[0;34m.\u001b[0m\u001b[0mabs\u001b[0m\u001b[0;34m(\u001b[0m\u001b[0mdiff\u001b[0m\u001b[0;34m)\u001b[0m \u001b[0;34m>\u001b[0m \u001b[0;36m1e-1\u001b[0m\u001b[0;34m]\u001b[0m\u001b[0;34m[\u001b[0m\u001b[0;36m0\u001b[0m\u001b[0;34m]\u001b[0m\u001b[0;34m)\u001b[0m\u001b[0;34m[\u001b[0m\u001b[0;36m0\u001b[0m\u001b[0;34m]\u001b[0m\u001b[0;34m[\u001b[0m\u001b[0;36m0\u001b[0m\u001b[0;34m]\u001b[0m\u001b[0;34m\u001b[0m\u001b[0m\n\u001b[1;32m      5\u001b[0m \u001b[0mend2\u001b[0m \u001b[0;34m=\u001b[0m \u001b[0mnp\u001b[0m\u001b[0;34m.\u001b[0m\u001b[0mwhere\u001b[0m\u001b[0;34m(\u001b[0m\u001b[0mavgk\u001b[0m \u001b[0;34m==\u001b[0m \u001b[0mavgk\u001b[0m\u001b[0;34m[\u001b[0m\u001b[0mnp\u001b[0m\u001b[0;34m.\u001b[0m\u001b[0mabs\u001b[0m\u001b[0;34m(\u001b[0m\u001b[0mdiff\u001b[0m\u001b[0;34m)\u001b[0m \u001b[0;34m>\u001b[0m \u001b[0;36m1e-1\u001b[0m\u001b[0;34m]\u001b[0m\u001b[0;34m[\u001b[0m\u001b[0;34m-\u001b[0m\u001b[0;36m1\u001b[0m\u001b[0;34m]\u001b[0m\u001b[0;34m)\u001b[0m\u001b[0;34m[\u001b[0m\u001b[0;36m0\u001b[0m\u001b[0;34m]\u001b[0m\u001b[0;34m[\u001b[0m\u001b[0;36m0\u001b[0m\u001b[0;34m]\u001b[0m \u001b[0;34m+\u001b[0m \u001b[0;36m1\u001b[0m\u001b[0;34m\u001b[0m\u001b[0m\n",
      "\u001b[0;31mNameError\u001b[0m: name 'low_s' is not defined"
     ]
    }
   ],
   "source": [
    "diff = low_s - high_s\n",
    "# plt.plot(avgk, diff)\n",
    "# plt.show()\n",
    "end1 = np.where(avgk == avgk[np.abs(diff) > 1e-1][0])[0][0]\n",
    "end2 = np.where(avgk == avgk[np.abs(diff) > 1e-1][-1])[0][0] + 1\n",
    "print(end1, end2)"
   ]
  },
  {
   "cell_type": "code",
   "execution_count": 62,
   "metadata": {
    "collapsed": false
   },
   "outputs": [
    {
     "ename": "NameError",
     "evalue": "name 'end2' is not defined",
     "output_type": "error",
     "traceback": [
      "\u001b[0;31m---------------------------------------------------------------------------\u001b[0m",
      "\u001b[0;31mNameError\u001b[0m                                 Traceback (most recent call last)",
      "\u001b[0;32m<ipython-input-62-167f1afc2c64>\u001b[0m in \u001b[0;36m<module>\u001b[0;34m()\u001b[0m\n\u001b[0;32m----> 1\u001b[0;31m \u001b[0mplt\u001b[0m\u001b[0;34m.\u001b[0m\u001b[0mplot\u001b[0m\u001b[0;34m(\u001b[0m\u001b[0mavgk\u001b[0m\u001b[0;34m[\u001b[0m\u001b[0;34m:\u001b[0m\u001b[0mend2\u001b[0m\u001b[0;34m]\u001b[0m\u001b[0;34m,\u001b[0m \u001b[0;36m1\u001b[0m \u001b[0;34m-\u001b[0m \u001b[0mlow_s\u001b[0m\u001b[0;34m[\u001b[0m\u001b[0;34m:\u001b[0m\u001b[0mend2\u001b[0m\u001b[0;34m]\u001b[0m\u001b[0;34m,\u001b[0m \u001b[0;34m'r-'\u001b[0m\u001b[0;34m)\u001b[0m\u001b[0;34m\u001b[0m\u001b[0m\n\u001b[0m\u001b[1;32m      2\u001b[0m \u001b[0mplt\u001b[0m\u001b[0;34m.\u001b[0m\u001b[0mplot\u001b[0m\u001b[0;34m(\u001b[0m\u001b[0mavgk\u001b[0m\u001b[0;34m[\u001b[0m\u001b[0mend2\u001b[0m\u001b[0;34m-\u001b[0m\u001b[0;36m1\u001b[0m\u001b[0;34m:\u001b[0m \u001b[0mend2\u001b[0m\u001b[0;34m+\u001b[0m\u001b[0;36m1\u001b[0m\u001b[0;34m]\u001b[0m\u001b[0;34m,\u001b[0m \u001b[0;36m1\u001b[0m \u001b[0;34m-\u001b[0m \u001b[0mlow_s\u001b[0m\u001b[0;34m[\u001b[0m\u001b[0mend2\u001b[0m\u001b[0;34m-\u001b[0m\u001b[0;36m1\u001b[0m\u001b[0;34m:\u001b[0m \u001b[0mend2\u001b[0m\u001b[0;34m+\u001b[0m\u001b[0;36m1\u001b[0m\u001b[0;34m]\u001b[0m\u001b[0;34m,\u001b[0m \u001b[0;34m'r--'\u001b[0m\u001b[0;34m)\u001b[0m\u001b[0;34m\u001b[0m\u001b[0m\n\u001b[1;32m      3\u001b[0m \u001b[0mplt\u001b[0m\u001b[0;34m.\u001b[0m\u001b[0mplot\u001b[0m\u001b[0;34m(\u001b[0m\u001b[0mavgk\u001b[0m\u001b[0;34m[\u001b[0m\u001b[0mend2\u001b[0m\u001b[0;34m:\u001b[0m\u001b[0;34m]\u001b[0m\u001b[0;34m,\u001b[0m \u001b[0;36m1\u001b[0m \u001b[0;34m-\u001b[0m \u001b[0mlow_s\u001b[0m\u001b[0;34m[\u001b[0m\u001b[0mend2\u001b[0m\u001b[0;34m:\u001b[0m\u001b[0;34m]\u001b[0m\u001b[0;34m,\u001b[0m \u001b[0;34m'r-'\u001b[0m\u001b[0;34m)\u001b[0m\u001b[0;34m\u001b[0m\u001b[0m\n\u001b[1;32m      4\u001b[0m \u001b[0mplt\u001b[0m\u001b[0;34m.\u001b[0m\u001b[0mplot\u001b[0m\u001b[0;34m(\u001b[0m\u001b[0mavgk\u001b[0m\u001b[0;34m[\u001b[0m\u001b[0;34m:\u001b[0m\u001b[0mend1\u001b[0m\u001b[0;34m]\u001b[0m\u001b[0;34m,\u001b[0m \u001b[0;36m1\u001b[0m \u001b[0;34m-\u001b[0m \u001b[0mhigh_s\u001b[0m\u001b[0;34m[\u001b[0m\u001b[0;34m:\u001b[0m\u001b[0mend1\u001b[0m\u001b[0;34m]\u001b[0m\u001b[0;34m,\u001b[0m \u001b[0;34m'b-'\u001b[0m\u001b[0;34m)\u001b[0m\u001b[0;34m\u001b[0m\u001b[0m\n\u001b[1;32m      5\u001b[0m \u001b[0mplt\u001b[0m\u001b[0;34m.\u001b[0m\u001b[0mplot\u001b[0m\u001b[0;34m(\u001b[0m\u001b[0mavgk\u001b[0m\u001b[0;34m[\u001b[0m\u001b[0mend1\u001b[0m\u001b[0;34m-\u001b[0m\u001b[0;36m1\u001b[0m\u001b[0;34m:\u001b[0m \u001b[0mend1\u001b[0m\u001b[0;34m+\u001b[0m\u001b[0;36m1\u001b[0m\u001b[0;34m]\u001b[0m\u001b[0;34m,\u001b[0m \u001b[0;36m1\u001b[0m \u001b[0;34m-\u001b[0m \u001b[0mhigh_s\u001b[0m\u001b[0;34m[\u001b[0m\u001b[0mend1\u001b[0m\u001b[0;34m-\u001b[0m\u001b[0;36m1\u001b[0m\u001b[0;34m:\u001b[0m \u001b[0mend1\u001b[0m\u001b[0;34m+\u001b[0m\u001b[0;36m1\u001b[0m\u001b[0;34m]\u001b[0m\u001b[0;34m,\u001b[0m \u001b[0;34m'b--'\u001b[0m\u001b[0;34m)\u001b[0m\u001b[0;34m\u001b[0m\u001b[0m\n",
      "\u001b[0;31mNameError\u001b[0m: name 'end2' is not defined"
     ]
    }
   ],
   "source": [
    "plt.plot(avgk[:end2], 1 - low_s[:end2], 'r-')\n",
    "plt.plot(avgk[end2-1: end2+1], 1 - low_s[end2-1: end2+1], 'r--')\n",
    "plt.plot(avgk[end2:], 1 - low_s[end2:], 'r-')\n",
    "plt.plot(avgk[:end1], 1 - high_s[:end1], 'b-')\n",
    "plt.plot(avgk[end1-1: end1+1], 1 - high_s[end1-1: end1+1], 'b--')\n",
    "plt.plot(avgk[end1:], 1 - high_s[end1:], 'b-')\n",
    "plt.ylim([-0.1,1])\n",
    "plt.ylabel(r'Fraction of infected nodes', fontsize=14)\n",
    "plt.xlabel(r'Average degree $[\\langle k \\rangle]$', fontsize=14)\n",
    "plt.savefig(f'./coupling_{zeta}.png')\n",
    "plt.show()"
   ]
  },
  {
   "cell_type": "code",
   "execution_count": null,
   "metadata": {
    "collapsed": true
   },
   "outputs": [],
   "source": []
  }
 ],
 "metadata": {
  "kernelspec": {
   "display_name": "Python 3",
   "language": "python",
   "name": "python3"
  },
  "language_info": {
   "codemirror_mode": {
    "name": "ipython",
    "version": 3
   },
   "file_extension": ".py",
   "mimetype": "text/x-python",
   "name": "python",
   "nbconvert_exporter": "python",
   "pygments_lexer": "ipython3",
   "version": "3.6.1"
  }
 },
 "nbformat": 4,
 "nbformat_minor": 2
}
