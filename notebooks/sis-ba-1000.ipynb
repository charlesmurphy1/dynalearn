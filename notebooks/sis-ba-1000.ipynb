{
 "cells": [
  {
   "cell_type": "markdown",
   "metadata": {},
   "source": [
    "# GNN training for SIS dynamics on a BA network with 1000 samples"
   ]
  },
  {
   "cell_type": "markdown",
   "metadata": {},
   "source": [
    "## Including relevant packages"
   ]
  },
  {
   "cell_type": "code",
   "execution_count": 1,
   "metadata": {},
   "outputs": [],
   "source": [
    "import numpy as np\n",
    "import matplotlib.pyplot as plt\n",
    "import dynalearn as dl\n",
    "import tqdm\n",
    "from scipy.spatial.distance import jensenshannon\n",
    "import tensorflow as tf\n",
    "import tensorflow.keras as ks\n",
    "import tensorflow.keras.backend as K\n",
    "import os\n",
    "import getpass\n",
    "from matplotlib.lines import Line2D"
   ]
  },
  {
   "cell_type": "markdown",
   "metadata": {},
   "source": [
    "## Parameters and hyperparameters"
   ]
  },
  {
   "cell_type": "code",
   "execution_count": 2,
   "metadata": {},
   "outputs": [],
   "source": [
    "path_to_dir = \"/home/\" + getpass.getuser() + \"/Documents/ulaval/doctorat/projects/dynalearn/data/training/\"\n",
    "path_to_models = \"/home/\" + getpass.getuser() + \"/Documents/ulaval/doctorat/projects/dynalearn/data/models/\"\n",
    "if os.path.exists(\"media/\" + getpass.getuser() + \"LaCie/\"):\n",
    "    path_to_dir = \"media/\" + getpass.getuser() + \"LaCie/dynalearn-data/training/\"\n",
    "    path_to_models = \"media/\" + getpass.getuser() + \"LaCie/dynalearn-data/models/\"\n",
    "\n",
    "    \n",
    "    \n",
    "\n",
    "param_dict = {\n",
    "    \"name\": \"sis-ba-1000\",\n",
    "    \"graph\": {\"name\": \"BAGraph\", \"params\": {\"N\": 1000, \"M\": 2}},\n",
    "    \"dynamics\": {\n",
    "        \"name\": \"SIS\",\n",
    "        \"params\": {\"infection\": 0.04, \"recovery\": 0.08, \"init\": \"None\"},\n",
    "    },\n",
    "    \"model\": {\n",
    "        \"name\": \"LocalStatePredictor\",\n",
    "        \"params\": {\n",
    "            \"in_features\": [32],\n",
    "            \"attn_features\": [32],\n",
    "            \"out_features\": [32],\n",
    "            \"n_heads\": [1],\n",
    "            \"in_activation\": \"relu\",\n",
    "            \"attn_activation\": \"relu\",\n",
    "            \"out_activation\": \"relu\",\n",
    "            \"weight_decay\": 0.0001,\n",
    "            \"tf_seed\": 2,\n",
    "        },\n",
    "    },\n",
    "    \"generator\": {\n",
    "        \"name\": \"DynamicsGenerator\",\n",
    "        \"params\": {\n",
    "            \"batch_size\": -1,\n",
    "            \"num_graphs\": 1,\n",
    "            \"num_sample\": 1000,\n",
    "            \"resampling_time\": 2,\n",
    "            \"val_fraction\": 0.01,\n",
    "            \"max_null_iter\": 1,\n",
    "            \"with_truth\": 0,\n",
    "        },\n",
    "        \"sampler\": {\n",
    "            \"name\": \"StateBiasedSampler\",\n",
    "            \"params\": {\n",
    "                \"sampling_bias\": 0.6,\n",
    "                \"val_bias\": 0.8,\n",
    "                \"replace\": 1,\n",
    "                \"resample\": 1000,\n",
    "                \"sample_from_weights\": 0,\n",
    "            },\n",
    "        },\n",
    "    },\n",
    "    \"config\": {\n",
    "        \"optimizer\": \"Adam\",\n",
    "        \"initial_lr\": 0.0005,\n",
    "        \"loss\": \"categorical_crossentropy\",\n",
    "        \"schedule\": {\"epoch\": 10, \"factor\": 2},\n",
    "        \"epochs\": 20,\n",
    "        \"np_seed\": 1,\n",
    "    },\n",
    "    \"metrics\": [\n",
    "        \"AttentionMetrics\",\n",
    "        \"TrueLTPMetrics\",\n",
    "        \"GNNLTPMetrics\",\n",
    "        \"MLELTPMetrics\",\n",
    "        \"TrueStarLTPMetrics\",\n",
    "        \"GNNStarLTPMetrics\",\n",
    "        \"StatisticsMetrics\",\n",
    "        \"PoissonEpidemicsMFMetrics\",\n",
    "        \"PoissonEpidemicsSSMetrics\",\n",
    "    ],\n",
    "    \"path_to_dir\": path_to_dir,\n",
    "    \"path_to_bestmodel\": path_to_models,\n",
    "    \"filename_data\": \"data.h5\",\n",
    "    \"filename_metrics\": \"metrics.h5\",\n",
    "    \"filename_model\": \"model.h5\",\n",
    "}"
   ]
  },
  {
   "cell_type": "markdown",
   "metadata": {},
   "source": [
    "## Loading the experiment settings"
   ]
  },
  {
   "cell_type": "code",
   "execution_count": 3,
   "metadata": {},
   "outputs": [],
   "source": [
    "experiment = dl.Experiment(param_dict)"
   ]
  },
  {
   "cell_type": "markdown",
   "metadata": {},
   "source": [
    "## Generating the training and validation datasets"
   ]
  },
  {
   "cell_type": "code",
   "execution_count": 4,
   "metadata": {
    "scrolled": true
   },
   "outputs": [],
   "source": [
    "overwrite = False\n",
    "if os.path.exists(os.path.join(experiment.path_to_dir, experiment.name, experiment.filename_data)) and not overwrite:\n",
    "    experiment.load_data()\n",
    "else:\n",
    "    experiment.generate_data()\n",
    "    experiment.save_data()\n"
   ]
  },
  {
   "cell_type": "markdown",
   "metadata": {},
   "source": [
    "## Training the GNN model"
   ]
  },
  {
   "cell_type": "code",
   "execution_count": 5,
   "metadata": {
    "scrolled": true
   },
   "outputs": [],
   "source": [
    "overwrite = False\n",
    "if os.path.exists(os.path.join(experiment.path_to_dir, experiment.name, experiment.filename_model)) and not overwrite:\n",
    "    experiment.load_model(best=True)\n",
    "else:\n",
    "    experiment.train_model()\n",
    "    experiment.save_model()\n",
    "    experiment.load_model(best=True)"
   ]
  },
  {
   "cell_type": "markdown",
   "metadata": {},
   "source": [
    "## Computing the metrics post training"
   ]
  },
  {
   "cell_type": "code",
   "execution_count": 6,
   "metadata": {},
   "outputs": [
    {
     "name": "stderr",
     "output_type": "stream",
     "text": [
      "Computing AttentionMetrics: 100%|██████████| 100/100 [00:03<00:00, 31.23it/s]\n",
      "Computing TrueLTPMetrics: 100%|██████████| 1000/1000 [00:21<00:00, 46.87it/s]\n",
      "Computing GNNLTPMetrics: 100%|██████████| 1000/1000 [00:24<00:00, 40.16it/s]\n",
      "Computing MLELTPMetrics: 100%|██████████| 1000/1000 [00:21<00:00, 47.47it/s]\n",
      "Computing TrueStarLTPMetrics: 100%|██████████| 1340/1340 [00:00<00:00, 5342.82it/s]\n",
      "Computing GNNStarLTPMetrics: 100%|██████████| 1340/1340 [00:01<00:00, 913.36it/s]\n",
      "Computing StatisticsMetrics: 100%|██████████| 1000/1000 [00:18<00:00, 45.53it/s]\n",
      "Computing PoissonEpidemicsMFMetrics: 100%|██████████| 140/140 [02:19<00:00,  3.70s/it]\n"
     ]
    },
    {
     "name": "stdout",
     "output_type": "stream",
     "text": [
      "invalid values for low thresholds: [-0.08820679384759456, -0.029495439973470816]\n",
      "invalid values for high thresholds: [1, 1]\n"
     ]
    },
    {
     "name": "stderr",
     "output_type": "stream",
     "text": [
      "Computing PoissonEpidemicsSSMetrics: 100%|██████████| 400/400 [06:02<00:00,  1.41s/it]\n"
     ]
    }
   ],
   "source": [
    "overwrite = True\n",
    "if os.path.exists(os.path.join(experiment.path_to_dir, experiment.name, experiment.filename_metrics)) and not overwrite:\n",
    "    experiment.load_metrics()\n",
    "else:\n",
    "    experiment.compute_metrics()\n",
    "    experiment.save_metrics()"
   ]
  },
  {
   "cell_type": "markdown",
   "metadata": {},
   "source": [
    "## Showing LTPs"
   ]
  },
  {
   "cell_type": "code",
   "execution_count": 7,
   "metadata": {
    "scrolled": false
   },
   "outputs": [
    {
     "name": "stderr",
     "output_type": "stream",
     "text": [
      "/home/charles_murphy/Documents/ulaval/doctorat/projects/dynalearn/dynalearn/metrics/aggregator.py:60: RuntimeWarning: Mean of empty slice\n",
      "  y[i] = op_val(values[index, out_state])\n",
      "/home/charles_murphy/Documents/ulaval/doctorat/projects/dynalearn/dynalearn/metrics/aggregator.py:20: RuntimeWarning: Degrees of freedom <= 0 for slice.\n",
      "  op_err = lambda xx: np.sqrt(np.nanvar(xx))\n"
     ]
    },
    {
     "data": {
      "image/png": "[encoded data removed]",
      "text/plain": [
       "<Figure size 360x288 with 1 Axes>"
      ]
     },
     "metadata": {},
     "output_type": "display_data"
    }
   ],
   "source": [
    "transitions = [(0, 1), (1, 0)]\n",
    "transition_labels = [(\"S\", \"I\"), (\"I\", \"S\")]\n",
    "fontsize=14\n",
    "\n",
    "color_true = [dl.utilities.color_pale[\"blue\"], dl.utilities.color_pale[\"red\"]]\n",
    "color_gnn = [dl.utilities.color_dark[\"blue\"], dl.utilities.color_dark[\"red\"]]\n",
    "handles = []\n",
    "\n",
    "fig, ax = plt.subplots(1,1, figsize=(5, 4))\n",
    "for i, t in enumerate(transitions):\n",
    "    x, y, err = experiment.metrics[\"TrueLTPMetrics\"].aggregate(experiment.metrics[\"TrueLTPMetrics\"].data[\"ltp/train\"],in_state=t[0], out_state=t[1])\n",
    "    ax.fill_between(x, y - err, y + err, color=color_gnn[i], alpha=0.3)\n",
    "    ax.plot(x, y, linestyle='-', color=color_true[i], label=\"True\")\n",
    "    \n",
    "    x, y, err = experiment.metrics[\"GNNLTPMetrics\"].aggregate(experiment.metrics[\"GNNLTPMetrics\"].data[\"ltp/train\"], in_state=t[0], out_state=t[1])\n",
    "    ax.fill_between(x, y - err, y + err, color=color_gnn[i], alpha=0.3)\n",
    "    ax.plot(x, y, linestyle='--', color=color_gnn[i], label=\"GNN\")\n",
    "\n",
    "    x, y, err = experiment.metrics[\"MLELTPMetrics\"].aggregate(experiment.metrics[\"MLELTPMetrics\"].data[\"ltp/train\"], in_state=t[0], out_state=t[1])\n",
    "    ax.errorbar(x, y, yerr=err, \n",
    "                linestyle='None', \n",
    "                marker='o', \n",
    "                color=color_gnn[i], \n",
    "                alpha=0.3, \n",
    "                markeredgewidth=1,\n",
    "                markeredgecolor='k',\n",
    "                label=\"MLE\")\n",
    "    \n",
    "plt.xlabel(r\"Number of infected neighbors $[\\ell]$\", fontsize=fontsize)\n",
    "plt.ylabel(r\"Local transition probability $[p^{\\mu\\to\\nu}_\\ell]$\", fontsize=fontsize)\n",
    "plt.show()"
   ]
  },
  {
   "cell_type": "markdown",
   "metadata": {},
   "source": [
    "## LTP on the star graph"
   ]
  },
  {
   "cell_type": "code",
   "execution_count": 8,
   "metadata": {},
   "outputs": [
    {
     "data": {
      "image/png": "[encoded data removed]",
      "text/plain": [
       "<Figure size 360x288 with 1 Axes>"
      ]
     },
     "metadata": {},
     "output_type": "display_data"
    }
   ],
   "source": [
    "transitions = [(0, 1), (1, 0)]\n",
    "transition_labels = [(\"S\", \"I\"), (\"I\", \"S\")]\n",
    "fontsize=14\n",
    "\n",
    "color_true = [dl.utilities.color_pale[\"blue\"], dl.utilities.color_pale[\"red\"]]\n",
    "color_gnn = [dl.utilities.color_dark[\"blue\"], dl.utilities.color_dark[\"red\"]]\n",
    "handles = []\n",
    "\n",
    "fig, ax = plt.subplots(1,1, figsize=(5, 4))\n",
    "for i, t in enumerate(transitions):\n",
    "    x, y, err = experiment.metrics[\"TrueStarLTPMetrics\"].aggregate(experiment.metrics[\"TrueStarLTPMetrics\"].data[\"ltp\"],in_state=t[0], out_state=t[1])\n",
    "    ax.fill_between(x, y - err, y + err, color=color_gnn[i], alpha=0.3)\n",
    "    ax.plot(x, y, linestyle='-', color=color_true[i], label=\"True\")\n",
    "    \n",
    "    x, y, err = experiment.metrics[\"GNNStarLTPMetrics\"].aggregate(experiment.metrics[\"GNNStarLTPMetrics\"].data[\"ltp\"], in_state=t[0], out_state=t[1])\n",
    "    ax.fill_between(x, y - err, y + err, color=color_gnn[i], alpha=0.3)\n",
    "    ax.plot(x, y, linestyle='--', color=color_gnn[i], label=\"GNN\")\n",
    "\n",
    "    \n",
    "plt.xlabel(r\"Number of infected neighbors $[\\ell]$\", fontsize=fontsize)\n",
    "plt.ylabel(r\"Local transition probability $[p^{\\mu\\to\\nu}_\\ell]$\", fontsize=fontsize)\n",
    "plt.show()"
   ]
  },
  {
   "cell_type": "markdown",
   "metadata": {},
   "source": [
    "## Showing Loss descent"
   ]
  },
  {
   "cell_type": "code",
   "execution_count": 9,
   "metadata": {},
   "outputs": [
    {
     "ename": "KeyError",
     "evalue": "'loss'",
     "output_type": "error",
     "traceback": [
      "\u001b[0;31m---------------------------------------------------------------------------\u001b[0m",
      "\u001b[0;31mKeyError\u001b[0m                                  Traceback (most recent call last)",
      "\u001b[0;32m<ipython-input-9-c933eaf57ce5>\u001b[0m in \u001b[0;36m<module>\u001b[0;34m()\u001b[0m\n\u001b[1;32m      4\u001b[0m \u001b[0me\u001b[0m \u001b[0;34m=\u001b[0m \u001b[0mnp\u001b[0m\u001b[0;34m.\u001b[0m\u001b[0marange\u001b[0m\u001b[0;34m(\u001b[0m\u001b[0mexperiment\u001b[0m\u001b[0;34m.\u001b[0m\u001b[0mepochs\u001b[0m\u001b[0;34m)\u001b[0m\u001b[0;34m\u001b[0m\u001b[0m\n\u001b[1;32m      5\u001b[0m \u001b[0;34m\u001b[0m\u001b[0m\n\u001b[0;32m----> 6\u001b[0;31m ax[0].plot(e, experiment.history['loss'], \n\u001b[0m\u001b[1;32m      7\u001b[0m         \u001b[0mcolor\u001b[0m\u001b[0;34m=\u001b[0m\u001b[0mdl\u001b[0m\u001b[0;34m.\u001b[0m\u001b[0mutilities\u001b[0m\u001b[0;34m.\u001b[0m\u001b[0mcolor_dark\u001b[0m\u001b[0;34m[\u001b[0m\u001b[0;34m\"blue\"\u001b[0m\u001b[0;34m]\u001b[0m\u001b[0;34m,\u001b[0m\u001b[0;34m\u001b[0m\u001b[0m\n\u001b[1;32m      8\u001b[0m         \u001b[0mmarker\u001b[0m\u001b[0;34m=\u001b[0m\u001b[0;34m\"o\"\u001b[0m\u001b[0;34m,\u001b[0m\u001b[0;34m\u001b[0m\u001b[0m\n",
      "\u001b[0;31mKeyError\u001b[0m: 'loss'"
     ]
    },
    {
     "data": {
      "image/png": "[encoded data removed]",
      "text/plain": [
       "<Figure size 720x288 with 2 Axes>"
      ]
     },
     "metadata": {},
     "output_type": "display_data"
    }
   ],
   "source": [
    "\n",
    "fig, ax = plt.subplots(1, 2, figsize=(10, 4))\n",
    "\n",
    "e = np.arange(experiment.epochs)\n",
    "\n",
    "ax[0].plot(e, experiment.history['loss'], \n",
    "        color=dl.utilities.color_dark[\"blue\"], \n",
    "        marker=\"o\", \n",
    "        markeredgewidth=1, \n",
    "        markeredgecolor=\"k\",\n",
    "        linestyle=\"-\")\n",
    "\n",
    "ax[0].plot(e, experiment.history['val_loss'], \n",
    "        color=dl.utilities.color_dark[\"red\"], \n",
    "        marker=\"s\", \n",
    "        markeredgewidth=1, \n",
    "        markeredgecolor=\"k\",\n",
    "        linestyle=\"-\")\n",
    "\n",
    "\n",
    "\n",
    "ax[1].plot(e, experiment.history[\"model_entropy\"], \n",
    "        color=dl.utilities.color_dark[\"blue\"], \n",
    "        marker=\"o\", \n",
    "        markeredgewidth=1, \n",
    "        markeredgecolor=\"k\",\n",
    "        linestyle=\"-\",\n",
    "        label=\"Training\")\n",
    "\n",
    "ax[1].plot(e, experiment.history[\"val_model_entropy\"], \n",
    "        color=dl.utilities.color_dark[\"red\"], \n",
    "        marker=\"s\", \n",
    "        markeredgewidth=1, \n",
    "        markeredgecolor=\"k\",\n",
    "        linestyle=\"-\",\n",
    "        label=\"Validation\")\n",
    "\n",
    "ax[0].set_xlabel(r'Epoch', fontsize=fontsize)\n",
    "ax[0].set_ylabel(r'Loss', fontsize=fontsize)\n",
    "ax[0].set_xlim([0, 19])\n",
    "ax[0].set_ylim([0, 1])\n",
    "\n",
    "ax[1].set_xlabel(r'Epoch', fontsize=fontsize)\n",
    "ax[1].set_ylabel(r'Model entropy', fontsize=fontsize)\n",
    "ax[1].set_xlim([0, 19])\n",
    "ax[1].set_ylim([0, 1])\n",
    "ax[1].legend(fontsize=fontsize)\n",
    "\n",
    "plt.show()\n"
   ]
  },
  {
   "cell_type": "markdown",
   "metadata": {},
   "source": [
    "## Showing phase transition"
   ]
  },
  {
   "cell_type": "code",
   "execution_count": 14,
   "metadata": {},
   "outputs": [
    {
     "data": {
      "image/png": "[encoded data removed]",
      "text/plain": [
       "<Figure size 360x288 with 1 Axes>"
      ]
     },
     "metadata": {},
     "output_type": "display_data"
    }
   ],
   "source": [
    "sim_avgk = experiment.metrics[\"PoissonEpidemicsSSMetrics\"].data[\"parameters\"]\n",
    "mf_avgk = experiment.metrics[\"PoissonEpidemicsMFMetrics\"].data[\"parameters\"]\n",
    "low_avg_s = experiment.metrics[\"PoissonEpidemicsSSMetrics\"].data[\"true_low_avg\"]\n",
    "low_std_s = experiment.metrics[\"PoissonEpidemicsSSMetrics\"].data[\"true_low_std\"]\n",
    "high_avg_s = experiment.metrics[\"PoissonEpidemicsSSMetrics\"].data[\"true_high_avg\"]\n",
    "high_std_s = experiment.metrics[\"PoissonEpidemicsSSMetrics\"].data[\"true_high_std\"]\n",
    "low_mf = experiment.metrics[\"PoissonEpidemicsMFMetrics\"].data[\"true_low_fp\"]\n",
    "high_mf = experiment.metrics[\"PoissonEpidemicsMFMetrics\"].data[\"true_high_fp\"]\n",
    "\n",
    "\n",
    "fig, ax = plt.subplots(1, 1, figsize=(5, 4))\n",
    "ax.errorbar(sim_avgk, 1 - low_avg_s[:,0], yerr=low_std_s[:,0], \n",
    "            color=dl.utilities.color_dark[\"blue\"], \n",
    "            marker='o', \n",
    "            markeredgewidth=0.5,\n",
    "            markeredgecolor=\"k\",\n",
    "            linestyle='None')\n",
    "ax.errorbar(sim_avgk, 1 - high_avg_s[:,0], yerr=high_std_s[:,0], \n",
    "            color=dl.utilities.color_dark[\"blue\"], \n",
    "            marker='^', \n",
    "            markeredgewidth=0.5,\n",
    "            markeredgecolor=\"k\",\n",
    "            linestyle='None', \n",
    "            label=r\"True\")\n",
    "ax.plot(mf_avgk, 1- low_mf[:,0],\n",
    "        color=dl.utilities.color_pale[\"blue\"], \n",
    "        marker='None', \n",
    "        linewidth=3,\n",
    "        linestyle='--')\n",
    "ax.plot(mf_avgk, 1- high_mf[:,0],\n",
    "        color=dl.utilities.color_pale[\"blue\"], \n",
    "        marker='None',\n",
    "        linewidth=3,\n",
    "        linestyle='-')\n",
    "\n",
    "\n",
    "low_avg_s = experiment.metrics[\"PoissonEpidemicsSSMetrics\"].data[\"gnn_low_avg\"]\n",
    "low_std_s = experiment.metrics[\"PoissonEpidemicsSSMetrics\"].data[\"gnn_low_std\"]\n",
    "high_avg_s = experiment.metrics[\"PoissonEpidemicsSSMetrics\"].data[\"gnn_high_avg\"]\n",
    "high_std_s = experiment.metrics[\"PoissonEpidemicsSSMetrics\"].data[\"gnn_high_std\"]\n",
    "low_mf = experiment.metrics[\"PoissonEpidemicsMFMetrics\"].data[\"gnn_low_fp\"]\n",
    "high_mf = experiment.metrics[\"PoissonEpidemicsMFMetrics\"].data[\"gnn_high_fp\"]\n",
    "\n",
    "ax.errorbar(sim_avgk, 1 - low_avg_s[:,0], yerr=low_std_s[:,0], \n",
    "            color=dl.utilities.color_dark[\"red\"], \n",
    "            marker='o', \n",
    "            markeredgewidth=0.5,\n",
    "            markeredgecolor=\"k\",\n",
    "            linestyle='None')\n",
    "ax.errorbar(sim_avgk, 1 - high_avg_s[:,0], yerr=high_std_s[:,0], \n",
    "            color=dl.utilities.color_dark[\"red\"], \n",
    "            marker='^', \n",
    "            markeredgewidth=0.5,\n",
    "            markeredgecolor=\"k\",\n",
    "            linestyle='None', \n",
    "            label=r\"GNN\")\n",
    "ax.plot(mf_avgk, 1- low_mf[:,0],\n",
    "        color=dl.utilities.color_pale[\"red\"], \n",
    "        marker='None', \n",
    "        linewidth=3,\n",
    "        linestyle='--')\n",
    "ax.plot(mf_avgk, 1- high_mf[:,0],\n",
    "        color=dl.utilities.color_pale[\"red\"], \n",
    "        marker='None', \n",
    "        linewidth=3,\n",
    "        linestyle='-')\n",
    "\n",
    "ax.set_xlabel(r\"Average degree $[\\langle k \\rangle]$\", fontsize=fontsize)\n",
    "ax.set_ylabel(r\"Fraction of infected nodes\", fontsize=fontsize)\n",
    "ax.legend(fontsize=fontsize)\n",
    "\n",
    "plt.show()\n"
   ]
  },
  {
   "cell_type": "code",
   "execution_count": 11,
   "metadata": {},
   "outputs": [
    {
     "name": "stdout",
     "output_type": "stream",
     "text": [
      "(70,)\n"
     ]
    }
   ],
   "source": [
    "print(mf_avgk.shape)"
   ]
  },
  {
   "cell_type": "code",
   "execution_count": null,
   "metadata": {},
   "outputs": [],
   "source": []
  }
 ],
 "metadata": {
  "kernelspec": {
   "display_name": "Python 3",
   "language": "python",
   "name": "python3"
  },
  "language_info": {
   "codemirror_mode": {
    "name": "ipython",
    "version": 3
   },
   "file_extension": ".py",
   "mimetype": "text/x-python",
   "name": "python",
   "nbconvert_exporter": "python",
   "pygments_lexer": "ipython3",
   "version": "3.6.5"
  }
 },
 "nbformat": 4,
 "nbformat_minor": 2
}
